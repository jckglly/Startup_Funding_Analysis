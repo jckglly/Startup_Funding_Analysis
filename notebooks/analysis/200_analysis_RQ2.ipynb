{
 "cells": [
  {
   "cell_type": "markdown",
   "metadata": {},
   "source": [
    "# 200_analysis_RQ2\n",
    "\n",
    "## Purpose\n",
    "This notebook will be focused on analysis for our second RQ:\n",
    "\n",
    "- \"How does a founders education impact the amount of funding received by a startup\"\n",
    "\n",
    "We will investigate a founders education in terms of two aspects, the founders Highest Degree achieved and the institution that they attended. Once we have analysed these two aspects in enough detail in relation to our success metric, we will be able to conclude this RQ. \n",
    "\n",
    "This notebook focuses on the following analysis points:\n",
    "- Most Popular Degree Types\n",
    "- Sum and Mean total funding for each degree type\n",
    "- Top 10 institutions attended by founders\n",
    "- Top 5 institutions across the three main degree types (Bachelors, Masters, PhD)\n",
    "- Visualisation of split of Bachelors, Masters and PhD across Top 5 institutions.\n",
    "\n",
    "## Datasets\n",
    "* _Input_: 350_dataset2.pkl\n",
    "* _Output_: 200_analysis_RQ2.pkl"
   ]
  },
  {
   "cell_type": "code",
   "execution_count": 1,
   "metadata": {},
   "outputs": [],
   "source": [
    "import os\n",
    "import sys\n",
    "import pandas as pd\n",
    "import numpy as np\n",
    "import matplotlib.pylab as plt\n",
    "from matplotlib import cm\n",
    "import seaborn as sns\n",
    "import networkx as nx\n",
    "module_path = os.path.abspath(os.path.join('../../data/..'))\n",
    "if module_path not in sys.path:\n",
    "    sys.path.append(module_path)\n",
    "%matplotlib inline"
   ]
  },
  {
   "cell_type": "code",
   "execution_count": 2,
   "metadata": {},
   "outputs": [],
   "source": [
    "sns.set_style(\"whitegrid\")\n",
    "sns.set_style(\"ticks\")\n",
    "sns.set_palette(\"muted\")\n",
    "sns.set_context(\"poster\")\n",
    "\n",
    "# Text, lines, and markers...\n",
    "plt.rcParams['text.color'] = 'k'\n",
    "plt.rcParams['axes.labelcolor'] = 'k'\n",
    "plt.rcParams['axes.titlesize'] = 28\n",
    "plt.rcParams['axes.titleweight'] = 'bold'\n",
    "plt.rcParams['axes.labelsize'] = 28\n",
    "plt.rcParams['axes.labelweight'] = 'bold'\n",
    "plt.rcParams['axes.grid'] = True\n",
    "plt.rcParams['xtick.labelsize'] = 22\n",
    "plt.rcParams['ytick.labelsize'] = 22\n",
    "plt.rcParams['lines.markersize'] = 15\n",
    "plt.rcParams['lines.markeredgewidth'] = 1\n",
    "plt.rcParams['lines.linewidth'] = 2\n",
    "plt.rcParams['legend.fontsize'] = 22\n",
    "plt.rcParams['patch.force_edgecolor'] = True"
   ]
  },
  {
   "cell_type": "markdown",
   "metadata": {},
   "source": [
    "## Importing dataset 2\n",
    "\n",
    "This dataset contains information about each founder like their education and also details about the startup they founded. As mentioned in previous notebooks, the reason there are multiple person instances in our dataset is because: \n",
    "- A duplicate person instance if they have founded multiple companies.\n",
    "- A duplicate person instance if they have changed positions in the same company.\n",
    "- A duplicate person instance if they have attained another degree/changed institution while at the same company.\n",
    "\n",
    "However, we do not see the need of merging these rows together as they would store too much information. Not only this, having the rows seperated makes it easier for our analysis of this RQ when looking at the Highest Degree and Institutions attended by the founders."
   ]
  },
  {
   "cell_type": "code",
   "execution_count": 3,
   "metadata": {},
   "outputs": [
    {
     "data": {
      "text/plain": [
       "(44711, 55)"
      ]
     },
     "execution_count": 3,
     "metadata": {},
     "output_type": "execute_result"
    }
   ],
   "source": [
    "founders_df_raw = pd.read_pickle('../../data/processed/350_dataset2.pkl')\n",
    "founders_df_raw.shape"
   ]
  },
  {
   "cell_type": "markdown",
   "metadata": {},
   "source": [
    "We now have an appropriate dataset that can be used for our analysis of this RQ on founders education.\n",
    "\n",
    "In this notebook we will focus on the analysis of the Highest Degree and Institution of a founder. Since our dataset now contains information like the industry of the startup founded the gender of the founder, we can incorporate these into our analysis. These will be used for analysis later on.\n",
    "\n",
    "**Next Step of Analysis...** \n",
    "\n",
    "We have to group the founders so that there are no duplicate instances of founders of an organisation with the same Highest Degree. We will be analysing the Highest Degree aspect more in depth by doing this.\n",
    "\n",
    "# Looking at Highest Degree of Founders\n",
    "\n",
    "**First Step...**\n",
    "\n",
    "We will have to group the founders so that we have no duplicate instances of an individual who has founded a particular startup. The reason why we have duplicate instances has been mentioned multiple times before. \n",
    "\n",
    "Grouping the founders by the unique person id and unique organisation it allows us to do this. We can then aggergate the first instance of their Highest Degree."
   ]
  },
  {
   "cell_type": "code",
   "execution_count": 4,
   "metadata": {},
   "outputs": [
    {
     "data": {
      "text/html": [
       "<div>\n",
       "<style>\n",
       "    .dataframe thead tr:only-child th {\n",
       "        text-align: right;\n",
       "    }\n",
       "\n",
       "    .dataframe thead th {\n",
       "        text-align: left;\n",
       "    }\n",
       "\n",
       "    .dataframe tbody tr th {\n",
       "        vertical-align: top;\n",
       "    }\n",
       "</style>\n",
       "<table border=\"1\" class=\"dataframe\">\n",
       "  <thead>\n",
       "    <tr style=\"text-align: right;\">\n",
       "      <th></th>\n",
       "      <th></th>\n",
       "      <th>Highest_Degree</th>\n",
       "    </tr>\n",
       "    <tr>\n",
       "      <th>person_uuid</th>\n",
       "      <th>org_uuid</th>\n",
       "      <th></th>\n",
       "    </tr>\n",
       "  </thead>\n",
       "  <tbody>\n",
       "    <tr>\n",
       "      <th>00026df9-9254-269d-40b1-549e9529550d</th>\n",
       "      <th>d2d0cb83-b874-c5d7-c7f7-fb77613cc95b</th>\n",
       "      <td>PhD</td>\n",
       "    </tr>\n",
       "    <tr>\n",
       "      <th>000497ac-d3f9-7969-6c8b-b4050c8efc04</th>\n",
       "      <th>14658850-0cc9-15f8-62f3-a8c532ea6c61</th>\n",
       "      <td>Bachelors</td>\n",
       "    </tr>\n",
       "    <tr>\n",
       "      <th>000575b8-eac0-66b1-2a16-03c08c2b9f66</th>\n",
       "      <th>d2de0c01-397d-b4f1-8575-9b5e74e6b6b8</th>\n",
       "      <td>Masters</td>\n",
       "    </tr>\n",
       "    <tr>\n",
       "      <th rowspan=\"2\" valign=\"top\">0005da7e-2311-9002-7756-ed2f2734e057</th>\n",
       "      <th>2aec3826-0f75-1f21-326a-5dbca9d5ff15</th>\n",
       "      <td>Masters</td>\n",
       "    </tr>\n",
       "    <tr>\n",
       "      <th>bd4c4326-ef34-d5d9-b689-0c0b0a6ba03c</th>\n",
       "      <td>Masters</td>\n",
       "    </tr>\n",
       "  </tbody>\n",
       "</table>\n",
       "</div>"
      ],
      "text/plain": [
       "                                                                          Highest_Degree\n",
       "person_uuid                          org_uuid                                           \n",
       "00026df9-9254-269d-40b1-549e9529550d d2d0cb83-b874-c5d7-c7f7-fb77613cc95b            PhD\n",
       "000497ac-d3f9-7969-6c8b-b4050c8efc04 14658850-0cc9-15f8-62f3-a8c532ea6c61      Bachelors\n",
       "000575b8-eac0-66b1-2a16-03c08c2b9f66 d2de0c01-397d-b4f1-8575-9b5e74e6b6b8        Masters\n",
       "0005da7e-2311-9002-7756-ed2f2734e057 2aec3826-0f75-1f21-326a-5dbca9d5ff15        Masters\n",
       "                                     bd4c4326-ef34-d5d9-b689-0c0b0a6ba03c        Masters"
      ]
     },
     "execution_count": 4,
     "metadata": {},
     "output_type": "execute_result"
    }
   ],
   "source": [
    "# degree_vals is a dataframe where all the founders are grouped by their unique organisation id.\n",
    "# The Highest Degree is then aggergated to this\n",
    "degree_vals = founders_df_raw.groupby(['person_uuid','org_uuid']).agg({'Highest_Degree':'first'})\n",
    "degree_vals.head(5)"
   ]
  },
  {
   "cell_type": "markdown",
   "metadata": {},
   "source": [
    "It would be interesting to see the value counts for each degree type to see which ones are the most popular."
   ]
  },
  {
   "cell_type": "code",
   "execution_count": 5,
   "metadata": {},
   "outputs": [
    {
     "data": {
      "text/plain": [
       "Bachelors      13188\n",
       "Masters        12288\n",
       "PhD             3363\n",
       "Juris            398\n",
       "Doctorate        247\n",
       "certificate      193\n",
       "Diploma          153\n",
       "Executive        120\n",
       "Honors           114\n",
       "Name: Highest_Degree, dtype: int64"
      ]
     },
     "execution_count": 5,
     "metadata": {},
     "output_type": "execute_result"
    }
   ],
   "source": [
    "degree_vals.Highest_Degree.value_counts()"
   ]
  },
  {
   "cell_type": "markdown",
   "metadata": {},
   "source": [
    "**Plotting these values results in the bar chart below...**"
   ]
  },
  {
   "cell_type": "code",
   "execution_count": 6,
   "metadata": {},
   "outputs": [
    {
     "data": {
      "text/plain": [
       "Text(0.5,0,'Degree Types')"
      ]
     },
     "execution_count": 6,
     "metadata": {},
     "output_type": "execute_result"
    },
    {
     "data": {
      "image/png": "[encoded data removed]",
      "text/plain": [
       "<matplotlib.figure.Figure at 0x1a0f0372b0>"
      ]
     },
     "metadata": {},
     "output_type": "display_data"
    }
   ],
   "source": [
    "degree_vals.Highest_Degree.value_counts().plot.bar(stacked=True,figsize=(10,5))\n",
    "plt.ylabel(\"Count\")\n",
    "plt.title(\"Highest Degree Counts\")\n",
    "plt.xlabel(\"Degree Types\")"
   ]
  },
  {
   "cell_type": "markdown",
   "metadata": {},
   "source": [
    "### Relationship between funding and highest degree achieved\n",
    "Since we are looking at the relationship between a founders education and the amount of funding received, it would be interesting to see what degree has the highest funding **sum** total."
   ]
  },
  {
   "cell_type": "code",
   "execution_count": 7,
   "metadata": {},
   "outputs": [
    {
     "data": {
      "text/html": [
       "<div>\n",
       "<style>\n",
       "    .dataframe thead tr:only-child th {\n",
       "        text-align: right;\n",
       "    }\n",
       "\n",
       "    .dataframe thead th {\n",
       "        text-align: left;\n",
       "    }\n",
       "\n",
       "    .dataframe tbody tr th {\n",
       "        vertical-align: top;\n",
       "    }\n",
       "</style>\n",
       "<table border=\"1\" class=\"dataframe\">\n",
       "  <thead>\n",
       "    <tr style=\"text-align: right;\">\n",
       "      <th></th>\n",
       "      <th>funding_total_usd</th>\n",
       "    </tr>\n",
       "    <tr>\n",
       "      <th>Highest_Degree</th>\n",
       "      <th></th>\n",
       "    </tr>\n",
       "  </thead>\n",
       "  <tbody>\n",
       "    <tr>\n",
       "      <th>Bachelors</th>\n",
       "      <td>3.453854e+11</td>\n",
       "    </tr>\n",
       "    <tr>\n",
       "      <th>Diploma</th>\n",
       "      <td>3.394211e+09</td>\n",
       "    </tr>\n",
       "    <tr>\n",
       "      <th>Doctorate</th>\n",
       "      <td>9.181618e+09</td>\n",
       "    </tr>\n",
       "    <tr>\n",
       "      <th>Executive</th>\n",
       "      <td>2.882456e+09</td>\n",
       "    </tr>\n",
       "    <tr>\n",
       "      <th>Honors</th>\n",
       "      <td>1.215919e+09</td>\n",
       "    </tr>\n",
       "    <tr>\n",
       "      <th>Juris</th>\n",
       "      <td>1.820642e+10</td>\n",
       "    </tr>\n",
       "    <tr>\n",
       "      <th>Masters</th>\n",
       "      <td>3.597671e+11</td>\n",
       "    </tr>\n",
       "    <tr>\n",
       "      <th>PhD</th>\n",
       "      <td>1.403129e+11</td>\n",
       "    </tr>\n",
       "    <tr>\n",
       "      <th>certificate</th>\n",
       "      <td>6.190050e+09</td>\n",
       "    </tr>\n",
       "  </tbody>\n",
       "</table>\n",
       "</div>"
      ],
      "text/plain": [
       "                funding_total_usd\n",
       "Highest_Degree                   \n",
       "Bachelors            3.453854e+11\n",
       "Diploma              3.394211e+09\n",
       "Doctorate            9.181618e+09\n",
       "Executive            2.882456e+09\n",
       "Honors               1.215919e+09\n",
       "Juris                1.820642e+10\n",
       "Masters              3.597671e+11\n",
       "PhD                  1.403129e+11\n",
       "certificate          6.190050e+09"
      ]
     },
     "execution_count": 7,
     "metadata": {},
     "output_type": "execute_result"
    }
   ],
   "source": [
    "group_degree_df = founders_df_raw.groupby(['Highest_Degree','org_uuid'],as_index=False).agg({\"funding_total_usd\":\"first\"})\n",
    "sum_hdegrees = group_degree_df.groupby('Highest_Degree').agg({\"funding_total_usd\":\"sum\"})\n",
    "sum_hdegrees"
   ]
  },
  {
   "cell_type": "code",
   "execution_count": 8,
   "metadata": {},
   "outputs": [
    {
     "data": {
      "text/html": [
       "<div>\n",
       "<style>\n",
       "    .dataframe thead tr:only-child th {\n",
       "        text-align: right;\n",
       "    }\n",
       "\n",
       "    .dataframe thead th {\n",
       "        text-align: left;\n",
       "    }\n",
       "\n",
       "    .dataframe tbody tr th {\n",
       "        vertical-align: top;\n",
       "    }\n",
       "</style>\n",
       "<table border=\"1\" class=\"dataframe\">\n",
       "  <thead>\n",
       "    <tr style=\"text-align: right;\">\n",
       "      <th></th>\n",
       "      <th>funding_total_usd</th>\n",
       "    </tr>\n",
       "    <tr>\n",
       "      <th>Highest_Degree</th>\n",
       "      <th></th>\n",
       "    </tr>\n",
       "  </thead>\n",
       "  <tbody>\n",
       "    <tr>\n",
       "      <th>Bachelors</th>\n",
       "      <td>345.385391</td>\n",
       "    </tr>\n",
       "    <tr>\n",
       "      <th>Diploma</th>\n",
       "      <td>3.394211</td>\n",
       "    </tr>\n",
       "    <tr>\n",
       "      <th>Doctorate</th>\n",
       "      <td>9.181618</td>\n",
       "    </tr>\n",
       "    <tr>\n",
       "      <th>Executive</th>\n",
       "      <td>2.882456</td>\n",
       "    </tr>\n",
       "    <tr>\n",
       "      <th>Honors</th>\n",
       "      <td>1.215919</td>\n",
       "    </tr>\n",
       "    <tr>\n",
       "      <th>Juris</th>\n",
       "      <td>18.206417</td>\n",
       "    </tr>\n",
       "    <tr>\n",
       "      <th>Masters</th>\n",
       "      <td>359.767119</td>\n",
       "    </tr>\n",
       "    <tr>\n",
       "      <th>PhD</th>\n",
       "      <td>140.312942</td>\n",
       "    </tr>\n",
       "    <tr>\n",
       "      <th>certificate</th>\n",
       "      <td>6.190050</td>\n",
       "    </tr>\n",
       "  </tbody>\n",
       "</table>\n",
       "</div>"
      ],
      "text/plain": [
       "                funding_total_usd\n",
       "Highest_Degree                   \n",
       "Bachelors              345.385391\n",
       "Diploma                  3.394211\n",
       "Doctorate                9.181618\n",
       "Executive                2.882456\n",
       "Honors                   1.215919\n",
       "Juris                   18.206417\n",
       "Masters                359.767119\n",
       "PhD                    140.312942\n",
       "certificate              6.190050"
      ]
     },
     "execution_count": 8,
     "metadata": {},
     "output_type": "execute_result"
    }
   ],
   "source": [
    "# getting values in terms of billions\n",
    "sum_hdeg_billi = sum_hdegrees/1000000000\n",
    "sum_hdeg_billi"
   ]
  },
  {
   "cell_type": "markdown",
   "metadata": {},
   "source": [
    "**Plotting these values results in the bar chart below...**"
   ]
  },
  {
   "cell_type": "code",
   "execution_count": 9,
   "metadata": {},
   "outputs": [
    {
     "data": {
      "image/png": "[encoded data removed]",
      "text/plain": [
       "<matplotlib.figure.Figure at 0x1a0f1232b0>"
      ]
     },
     "metadata": {},
     "output_type": "display_data"
    }
   ],
   "source": [
    "sum_hdeg_billi.sort_values('funding_total_usd', ascending=False).plot.bar(figsize=(10,5))\n",
    "plt.xlabel(\"Degree Types\")\n",
    "plt.title(\"Highest Degrees total funding\")\n",
    "plt.ylabel(\"USD in Billions\")\n",
    "plt.ticklabel_format(style='plain', axis='y')\n",
    "plt.legend().set_visible(False)"
   ]
  },
  {
   "cell_type": "markdown",
   "metadata": {},
   "source": [
    "It can be seen by this chart that founders who have attained a Master's Degree as their highest degree throughout their  career received the most funding. It is to be noted that they may not have attained the degree at the time of founding the startup. It is still very interesting to see that a Masters and Bachelors degree dominate this chart. The steep drop off to a PhD was not something we expected.\n",
    "\n",
    "We both found it interesting that a founder with a masters as their highest degree achieved the most cumulative funding. We will do further analysis of this later."
   ]
  },
  {
   "cell_type": "markdown",
   "metadata": {},
   "source": [
    "**Next Step of Analysis...**\n",
    "\n",
    "We have just looked at the total sum of each degree type. However, it would now be interesting to see the change when looking at the **mean funding** received for each degree type. We have seen the degree type counts above so we will keep these in mind when looking at the results to this analysis. \n",
    "\n",
    "We have also noticed that the range for these funding totals for each degree are very large so this might be something to look into to improve results accuracy. "
   ]
  },
  {
   "cell_type": "code",
   "execution_count": 10,
   "metadata": {},
   "outputs": [
    {
     "data": {
      "text/html": [
       "<div>\n",
       "<style>\n",
       "    .dataframe thead tr:only-child th {\n",
       "        text-align: right;\n",
       "    }\n",
       "\n",
       "    .dataframe thead th {\n",
       "        text-align: left;\n",
       "    }\n",
       "\n",
       "    .dataframe tbody tr th {\n",
       "        vertical-align: top;\n",
       "    }\n",
       "</style>\n",
       "<table border=\"1\" class=\"dataframe\">\n",
       "  <thead>\n",
       "    <tr style=\"text-align: right;\">\n",
       "      <th></th>\n",
       "      <th>funding_total_usd</th>\n",
       "    </tr>\n",
       "    <tr>\n",
       "      <th>Highest_Degree</th>\n",
       "      <th></th>\n",
       "    </tr>\n",
       "  </thead>\n",
       "  <tbody>\n",
       "    <tr>\n",
       "      <th>Bachelors</th>\n",
       "      <td>3.206623e+07</td>\n",
       "    </tr>\n",
       "    <tr>\n",
       "      <th>Diploma</th>\n",
       "      <td>2.247822e+07</td>\n",
       "    </tr>\n",
       "    <tr>\n",
       "      <th>Doctorate</th>\n",
       "      <td>3.809800e+07</td>\n",
       "    </tr>\n",
       "    <tr>\n",
       "      <th>Executive</th>\n",
       "      <td>2.463637e+07</td>\n",
       "    </tr>\n",
       "    <tr>\n",
       "      <th>Honors</th>\n",
       "      <td>1.085642e+07</td>\n",
       "    </tr>\n",
       "    <tr>\n",
       "      <th>Juris</th>\n",
       "      <td>4.741254e+07</td>\n",
       "    </tr>\n",
       "    <tr>\n",
       "      <th>Masters</th>\n",
       "      <td>3.489158e+07</td>\n",
       "    </tr>\n",
       "    <tr>\n",
       "      <th>PhD</th>\n",
       "      <td>4.945821e+07</td>\n",
       "    </tr>\n",
       "    <tr>\n",
       "      <th>certificate</th>\n",
       "      <td>3.240864e+07</td>\n",
       "    </tr>\n",
       "  </tbody>\n",
       "</table>\n",
       "</div>"
      ],
      "text/plain": [
       "                funding_total_usd\n",
       "Highest_Degree                   \n",
       "Bachelors            3.206623e+07\n",
       "Diploma              2.247822e+07\n",
       "Doctorate            3.809800e+07\n",
       "Executive            2.463637e+07\n",
       "Honors               1.085642e+07\n",
       "Juris                4.741254e+07\n",
       "Masters              3.489158e+07\n",
       "PhD                  4.945821e+07\n",
       "certificate          3.240864e+07"
      ]
     },
     "execution_count": 10,
     "metadata": {},
     "output_type": "execute_result"
    }
   ],
   "source": [
    "group_degree_df = founders_df_raw.groupby(['Highest_Degree','org_uuid'],as_index=False).agg({\"funding_total_usd\":\"first\"})\n",
    "mean_hdegrees = group_degree_df.groupby('Highest_Degree').agg({\"funding_total_usd\":\"mean\"})\n",
    "mean_hdegrees"
   ]
  },
  {
   "cell_type": "code",
   "execution_count": 11,
   "metadata": {},
   "outputs": [
    {
     "data": {
      "text/html": [
       "<div>\n",
       "<style>\n",
       "    .dataframe thead tr:only-child th {\n",
       "        text-align: right;\n",
       "    }\n",
       "\n",
       "    .dataframe thead th {\n",
       "        text-align: left;\n",
       "    }\n",
       "\n",
       "    .dataframe tbody tr th {\n",
       "        vertical-align: top;\n",
       "    }\n",
       "</style>\n",
       "<table border=\"1\" class=\"dataframe\">\n",
       "  <thead>\n",
       "    <tr style=\"text-align: right;\">\n",
       "      <th></th>\n",
       "      <th>funding_total_usd</th>\n",
       "    </tr>\n",
       "    <tr>\n",
       "      <th>Highest_Degree</th>\n",
       "      <th></th>\n",
       "    </tr>\n",
       "  </thead>\n",
       "  <tbody>\n",
       "    <tr>\n",
       "      <th>Bachelors</th>\n",
       "      <td>32.066233</td>\n",
       "    </tr>\n",
       "    <tr>\n",
       "      <th>Diploma</th>\n",
       "      <td>22.478216</td>\n",
       "    </tr>\n",
       "    <tr>\n",
       "      <th>Doctorate</th>\n",
       "      <td>38.097999</td>\n",
       "    </tr>\n",
       "    <tr>\n",
       "      <th>Executive</th>\n",
       "      <td>24.636372</td>\n",
       "    </tr>\n",
       "    <tr>\n",
       "      <th>Honors</th>\n",
       "      <td>10.856422</td>\n",
       "    </tr>\n",
       "    <tr>\n",
       "      <th>Juris</th>\n",
       "      <td>47.412544</td>\n",
       "    </tr>\n",
       "    <tr>\n",
       "      <th>Masters</th>\n",
       "      <td>34.891584</td>\n",
       "    </tr>\n",
       "    <tr>\n",
       "      <th>PhD</th>\n",
       "      <td>49.458210</td>\n",
       "    </tr>\n",
       "    <tr>\n",
       "      <th>certificate</th>\n",
       "      <td>32.408641</td>\n",
       "    </tr>\n",
       "  </tbody>\n",
       "</table>\n",
       "</div>"
      ],
      "text/plain": [
       "                funding_total_usd\n",
       "Highest_Degree                   \n",
       "Bachelors               32.066233\n",
       "Diploma                 22.478216\n",
       "Doctorate               38.097999\n",
       "Executive               24.636372\n",
       "Honors                  10.856422\n",
       "Juris                   47.412544\n",
       "Masters                 34.891584\n",
       "PhD                     49.458210\n",
       "certificate             32.408641"
      ]
     },
     "execution_count": 11,
     "metadata": {},
     "output_type": "execute_result"
    }
   ],
   "source": [
    "# getting values in terms of millions\n",
    "mean_hdeg_milli = mean_hdegrees/1000000\n",
    "mean_hdeg_milli"
   ]
  },
  {
   "cell_type": "markdown",
   "metadata": {},
   "source": [
    "It can be seen by this chart that founders who have attained a Master's Degree as their highest degree throughout their  career received the most funding. It is to be noted that they may not have attained the degree at the time of founding the startup. It is still very interesting to see that a Masters and Bachelors degree dominate this chart. The steep drop off to a PhD was not something we expected.\n",
    "\n",
    "We both found it interesting that a founder with a masters as their highest degree achieved the most cumulative funding. We will do further analysis of this later."
   ]
  },
  {
   "cell_type": "code",
   "execution_count": 12,
   "metadata": {},
   "outputs": [
    {
     "data": {
      "image/png": "[encoded data removed]",
      "text/plain": [
       "<matplotlib.figure.Figure at 0x1a0ef4df98>"
      ]
     },
     "metadata": {},
     "output_type": "display_data"
    }
   ],
   "source": [
    "mean_hdeg_milli.sort_values('funding_total_usd', ascending=False).plot.bar(figsize=(10,5))\n",
    "plt.xlabel(\"Degree Types\")\n",
    "plt.ylabel(\"USD in Millions\")\n",
    "plt.title(\"Mean funding total\")\n",
    "plt.ticklabel_format(style='plain', axis='y')\n",
    "plt.legend().set_visible(False)"
   ]
  },
  {
   "cell_type": "markdown",
   "metadata": {},
   "source": [
    "## Looking at Top 10 Institutions attended by Founders\n",
    "As we have mentioned previously, the institution which the founder attended is anonymized. However we are able to decipher this easily by simply searching the name of the person with a certain 'id' and viewing their Crunchbase profile. The education which the founder received is detailed here and thus we do not consider this as an unethical practice. We then assign this unique institution id with a name that can be used for our analysis."
   ]
  },
  {
   "cell_type": "code",
   "execution_count": 13,
   "metadata": {},
   "outputs": [
    {
     "data": {
      "text/html": [
       "<div>\n",
       "<style>\n",
       "    .dataframe thead tr:only-child th {\n",
       "        text-align: right;\n",
       "    }\n",
       "\n",
       "    .dataframe thead th {\n",
       "        text-align: left;\n",
       "    }\n",
       "\n",
       "    .dataframe tbody tr th {\n",
       "        vertical-align: top;\n",
       "    }\n",
       "</style>\n",
       "<table border=\"1\" class=\"dataframe\">\n",
       "  <thead>\n",
       "    <tr style=\"text-align: right;\">\n",
       "      <th></th>\n",
       "      <th>first_name</th>\n",
       "      <th>last_name</th>\n",
       "      <th>gender</th>\n",
       "      <th>company_name</th>\n",
       "      <th>funding_rounds</th>\n",
       "      <th>funding_total_usd</th>\n",
       "      <th>primary_role</th>\n",
       "      <th>country_code</th>\n",
       "      <th>state_code</th>\n",
       "      <th>city</th>\n",
       "      <th>...</th>\n",
       "      <th>Sales and Marketing</th>\n",
       "      <th>Science and Engineering</th>\n",
       "      <th>Sports</th>\n",
       "      <th>Sustainability</th>\n",
       "      <th>Transportation</th>\n",
       "      <th>Travel and Tourism</th>\n",
       "      <th>Video</th>\n",
       "      <th>Technology</th>\n",
       "      <th>Finance</th>\n",
       "      <th>Communication</th>\n",
       "    </tr>\n",
       "  </thead>\n",
       "  <tbody>\n",
       "    <tr>\n",
       "      <th>0</th>\n",
       "      <td>Steve</td>\n",
       "      <td>Wozniak</td>\n",
       "      <td>male</td>\n",
       "      <td>Apple</td>\n",
       "      <td>4</td>\n",
       "      <td>6.150250e+09</td>\n",
       "      <td>company</td>\n",
       "      <td>USA</td>\n",
       "      <td>CA</td>\n",
       "      <td>Cupertino</td>\n",
       "      <td>...</td>\n",
       "      <td>0</td>\n",
       "      <td>0</td>\n",
       "      <td>0</td>\n",
       "      <td>0</td>\n",
       "      <td>0</td>\n",
       "      <td>0</td>\n",
       "      <td>0</td>\n",
       "      <td>1</td>\n",
       "      <td>0</td>\n",
       "      <td>0</td>\n",
       "    </tr>\n",
       "    <tr>\n",
       "      <th>1</th>\n",
       "      <td>Kevin</td>\n",
       "      <td>Harvey</td>\n",
       "      <td>male</td>\n",
       "      <td>Apple</td>\n",
       "      <td>4</td>\n",
       "      <td>6.150250e+09</td>\n",
       "      <td>company</td>\n",
       "      <td>USA</td>\n",
       "      <td>CA</td>\n",
       "      <td>Cupertino</td>\n",
       "      <td>...</td>\n",
       "      <td>0</td>\n",
       "      <td>0</td>\n",
       "      <td>0</td>\n",
       "      <td>0</td>\n",
       "      <td>0</td>\n",
       "      <td>0</td>\n",
       "      <td>0</td>\n",
       "      <td>1</td>\n",
       "      <td>0</td>\n",
       "      <td>0</td>\n",
       "    </tr>\n",
       "    <tr>\n",
       "      <th>2</th>\n",
       "      <td>Armas</td>\n",
       "      <td>Markkula</td>\n",
       "      <td>male</td>\n",
       "      <td>Apple</td>\n",
       "      <td>4</td>\n",
       "      <td>6.150250e+09</td>\n",
       "      <td>company</td>\n",
       "      <td>USA</td>\n",
       "      <td>CA</td>\n",
       "      <td>Cupertino</td>\n",
       "      <td>...</td>\n",
       "      <td>0</td>\n",
       "      <td>0</td>\n",
       "      <td>0</td>\n",
       "      <td>0</td>\n",
       "      <td>0</td>\n",
       "      <td>0</td>\n",
       "      <td>0</td>\n",
       "      <td>1</td>\n",
       "      <td>0</td>\n",
       "      <td>0</td>\n",
       "    </tr>\n",
       "    <tr>\n",
       "      <th>3</th>\n",
       "      <td>Armas</td>\n",
       "      <td>Markkula</td>\n",
       "      <td>male</td>\n",
       "      <td>Apple</td>\n",
       "      <td>4</td>\n",
       "      <td>6.150250e+09</td>\n",
       "      <td>company</td>\n",
       "      <td>USA</td>\n",
       "      <td>CA</td>\n",
       "      <td>Cupertino</td>\n",
       "      <td>...</td>\n",
       "      <td>0</td>\n",
       "      <td>0</td>\n",
       "      <td>0</td>\n",
       "      <td>0</td>\n",
       "      <td>0</td>\n",
       "      <td>0</td>\n",
       "      <td>0</td>\n",
       "      <td>1</td>\n",
       "      <td>0</td>\n",
       "      <td>0</td>\n",
       "    </tr>\n",
       "    <tr>\n",
       "      <th>4</th>\n",
       "      <td>Kristee</td>\n",
       "      <td>Rosendahl</td>\n",
       "      <td>female</td>\n",
       "      <td>Apple</td>\n",
       "      <td>4</td>\n",
       "      <td>6.150250e+09</td>\n",
       "      <td>company</td>\n",
       "      <td>USA</td>\n",
       "      <td>CA</td>\n",
       "      <td>Cupertino</td>\n",
       "      <td>...</td>\n",
       "      <td>0</td>\n",
       "      <td>0</td>\n",
       "      <td>0</td>\n",
       "      <td>0</td>\n",
       "      <td>0</td>\n",
       "      <td>0</td>\n",
       "      <td>0</td>\n",
       "      <td>1</td>\n",
       "      <td>0</td>\n",
       "      <td>0</td>\n",
       "    </tr>\n",
       "    <tr>\n",
       "      <th>5</th>\n",
       "      <td>Nolan</td>\n",
       "      <td>Bushnell</td>\n",
       "      <td>male</td>\n",
       "      <td>Atari</td>\n",
       "      <td>2</td>\n",
       "      <td>2.226000e+07</td>\n",
       "      <td>company</td>\n",
       "      <td>USA</td>\n",
       "      <td>NY</td>\n",
       "      <td>New York</td>\n",
       "      <td>...</td>\n",
       "      <td>0</td>\n",
       "      <td>0</td>\n",
       "      <td>0</td>\n",
       "      <td>0</td>\n",
       "      <td>0</td>\n",
       "      <td>0</td>\n",
       "      <td>0</td>\n",
       "      <td>1</td>\n",
       "      <td>0</td>\n",
       "      <td>0</td>\n",
       "    </tr>\n",
       "    <tr>\n",
       "      <th>6</th>\n",
       "      <td>Nolan</td>\n",
       "      <td>Bushnell</td>\n",
       "      <td>male</td>\n",
       "      <td>Atari</td>\n",
       "      <td>2</td>\n",
       "      <td>2.226000e+07</td>\n",
       "      <td>company</td>\n",
       "      <td>USA</td>\n",
       "      <td>NY</td>\n",
       "      <td>New York</td>\n",
       "      <td>...</td>\n",
       "      <td>0</td>\n",
       "      <td>0</td>\n",
       "      <td>0</td>\n",
       "      <td>0</td>\n",
       "      <td>0</td>\n",
       "      <td>0</td>\n",
       "      <td>0</td>\n",
       "      <td>1</td>\n",
       "      <td>0</td>\n",
       "      <td>0</td>\n",
       "    </tr>\n",
       "    <tr>\n",
       "      <th>7</th>\n",
       "      <td>Eduardo</td>\n",
       "      <td>Saverin</td>\n",
       "      <td>male</td>\n",
       "      <td>Facebook</td>\n",
       "      <td>11</td>\n",
       "      <td>2.335700e+09</td>\n",
       "      <td>company</td>\n",
       "      <td>USA</td>\n",
       "      <td>CA</td>\n",
       "      <td>Menlo Park</td>\n",
       "      <td>...</td>\n",
       "      <td>0</td>\n",
       "      <td>0</td>\n",
       "      <td>0</td>\n",
       "      <td>0</td>\n",
       "      <td>0</td>\n",
       "      <td>0</td>\n",
       "      <td>0</td>\n",
       "      <td>1</td>\n",
       "      <td>0</td>\n",
       "      <td>0</td>\n",
       "    </tr>\n",
       "    <tr>\n",
       "      <th>8</th>\n",
       "      <td>Dustin</td>\n",
       "      <td>Moskovitz</td>\n",
       "      <td>male</td>\n",
       "      <td>Facebook</td>\n",
       "      <td>11</td>\n",
       "      <td>2.335700e+09</td>\n",
       "      <td>company</td>\n",
       "      <td>USA</td>\n",
       "      <td>CA</td>\n",
       "      <td>Menlo Park</td>\n",
       "      <td>...</td>\n",
       "      <td>0</td>\n",
       "      <td>0</td>\n",
       "      <td>0</td>\n",
       "      <td>0</td>\n",
       "      <td>0</td>\n",
       "      <td>0</td>\n",
       "      <td>0</td>\n",
       "      <td>1</td>\n",
       "      <td>0</td>\n",
       "      <td>0</td>\n",
       "    </tr>\n",
       "    <tr>\n",
       "      <th>9</th>\n",
       "      <td>Andrew</td>\n",
       "      <td>McCollum</td>\n",
       "      <td>male</td>\n",
       "      <td>Facebook</td>\n",
       "      <td>11</td>\n",
       "      <td>2.335700e+09</td>\n",
       "      <td>company</td>\n",
       "      <td>USA</td>\n",
       "      <td>CA</td>\n",
       "      <td>Menlo Park</td>\n",
       "      <td>...</td>\n",
       "      <td>0</td>\n",
       "      <td>0</td>\n",
       "      <td>0</td>\n",
       "      <td>0</td>\n",
       "      <td>0</td>\n",
       "      <td>0</td>\n",
       "      <td>0</td>\n",
       "      <td>1</td>\n",
       "      <td>0</td>\n",
       "      <td>0</td>\n",
       "    </tr>\n",
       "  </tbody>\n",
       "</table>\n",
       "<p>10 rows × 55 columns</p>\n",
       "</div>"
      ],
      "text/plain": [
       "  first_name  last_name  gender company_name  funding_rounds  \\\n",
       "0      Steve    Wozniak    male        Apple               4   \n",
       "1      Kevin     Harvey    male        Apple               4   \n",
       "2      Armas   Markkula    male        Apple               4   \n",
       "3      Armas   Markkula    male        Apple               4   \n",
       "4    Kristee  Rosendahl  female        Apple               4   \n",
       "5      Nolan   Bushnell    male        Atari               2   \n",
       "6      Nolan   Bushnell    male        Atari               2   \n",
       "7    Eduardo    Saverin    male     Facebook              11   \n",
       "8     Dustin  Moskovitz    male     Facebook              11   \n",
       "9     Andrew   McCollum    male     Facebook              11   \n",
       "\n",
       "   funding_total_usd primary_role country_code state_code        city  \\\n",
       "0       6.150250e+09      company          USA         CA   Cupertino   \n",
       "1       6.150250e+09      company          USA         CA   Cupertino   \n",
       "2       6.150250e+09      company          USA         CA   Cupertino   \n",
       "3       6.150250e+09      company          USA         CA   Cupertino   \n",
       "4       6.150250e+09      company          USA         CA   Cupertino   \n",
       "5       2.226000e+07      company          USA         NY    New York   \n",
       "6       2.226000e+07      company          USA         NY    New York   \n",
       "7       2.335700e+09      company          USA         CA  Menlo Park   \n",
       "8       2.335700e+09      company          USA         CA  Menlo Park   \n",
       "9       2.335700e+09      company          USA         CA  Menlo Park   \n",
       "\n",
       "       ...       Sales and Marketing Science and Engineering Sports  \\\n",
       "0      ...                         0                       0      0   \n",
       "1      ...                         0                       0      0   \n",
       "2      ...                         0                       0      0   \n",
       "3      ...                         0                       0      0   \n",
       "4      ...                         0                       0      0   \n",
       "5      ...                         0                       0      0   \n",
       "6      ...                         0                       0      0   \n",
       "7      ...                         0                       0      0   \n",
       "8      ...                         0                       0      0   \n",
       "9      ...                         0                       0      0   \n",
       "\n",
       "  Sustainability Transportation Travel and Tourism Video Technology Finance  \\\n",
       "0              0              0                  0     0          1       0   \n",
       "1              0              0                  0     0          1       0   \n",
       "2              0              0                  0     0          1       0   \n",
       "3              0              0                  0     0          1       0   \n",
       "4              0              0                  0     0          1       0   \n",
       "5              0              0                  0     0          1       0   \n",
       "6              0              0                  0     0          1       0   \n",
       "7              0              0                  0     0          1       0   \n",
       "8              0              0                  0     0          1       0   \n",
       "9              0              0                  0     0          1       0   \n",
       "\n",
       "   Communication  \n",
       "0              0  \n",
       "1              0  \n",
       "2              0  \n",
       "3              0  \n",
       "4              0  \n",
       "5              0  \n",
       "6              0  \n",
       "7              0  \n",
       "8              0  \n",
       "9              0  \n",
       "\n",
       "[10 rows x 55 columns]"
      ]
     },
     "execution_count": 13,
     "metadata": {},
     "output_type": "execute_result"
    }
   ],
   "source": [
    "founders_df_raw.head(10)"
   ]
  },
  {
   "cell_type": "markdown",
   "metadata": {},
   "source": [
    "Our current dataframe has duplicate rows for a founder who has attended an institution if different degrees were attained. Thus we need to group the founders so that the institution they attended is only counted once and not multiple times. Thus, we will use the groupby function to acheive this.\n",
    "\n",
    "For Example: John Donovan (ID 3) has an instance detailing he achieved a Bachelors degree at an institution and then the following instance details that he attained a Masters degree at the same institution. We only want to count the fact he attended this institution once.\n",
    "\n",
    "**Next Step of Analysis...** \n",
    "\n",
    "We want to **decode the Top 10 institutions of Founders** in the institutions_df. \n",
    "\n",
    "Impotant: **If an institution has a (B) after it then its referring to the institutions business school.**\n",
    "We are not able to decode all the business schools in the institutions for obvious reasons. We will group these business into the main institution later in our analysis. For instance Harvard(B) will be counted as Harvard.\n",
    "\n",
    "The method of decoding these institutions is by searching the individual's name on CrunchBase.com and manually assigning the institution they attended to the inst ititution_uuid."
   ]
  },
  {
   "cell_type": "code",
   "execution_count": 14,
   "metadata": {},
   "outputs": [
    {
     "data": {
      "text/plain": [
       "20135206-96eb-8be0-9ac4-670b257e532c    1368\n",
       "6599f877-7c83-0c47-b05b-dbedd3db7b3a     966\n",
       "10f9a25b-9675-2281-486e-a52955c706df     750\n",
       "d8b57c0e-9f0f-4dcb-d207-a12a90c64a2d     740\n",
       "630773ca-bbdf-bb41-2985-41a23ffdd01a     678\n",
       "e3a55987-fdbb-cb79-fcb2-7261461b43a5     505\n",
       "e596515e-38e2-c9c0-7584-a46a8b1ff871     487\n",
       "7300e89a-2e8e-23d3-3e9a-8f25b2a127f0     431\n",
       "e72aab01-fbef-7d21-ac1d-84ee1413fddd     405\n",
       "8d297d1e-3e3d-fadd-2963-57e0a40bff2a     383\n",
       "dcb99002-9225-c513-27c6-9002b6103bc0     378\n",
       "94a74e17-c5e4-f996-b2b0-4c9d4db492db     366\n",
       "6cca2a58-6c3c-9abb-5380-6de702a56710     344\n",
       "Name: institution_uuid, dtype: int64"
      ]
     },
     "execution_count": 14,
     "metadata": {},
     "output_type": "execute_result"
    }
   ],
   "source": [
    "institutions_df = founders_df_raw.groupby(['person_uuid','org_uuid','institution_uuid'],as_index=False).agg({'first_name':'first','last_name':'first'})\n",
    "institutions_df['institution_uuid'].value_counts().head(13)"
   ]
  },
  {
   "cell_type": "code",
   "execution_count": 15,
   "metadata": {},
   "outputs": [],
   "source": [
    "t10_inst = ['20135206-96eb-8be0-9ac4-670b257e532c',\n",
    "            '6599f877-7c83-0c47-b05b-dbedd3db7b3a',\n",
    "            '10f9a25b-9675-2281-486e-a52955c706df',\n",
    "            'd8b57c0e-9f0f-4dcb-d207-a12a90c64a2d',\n",
    "            '630773ca-bbdf-bb41-2985-41a23ffdd01a',\n",
    "            'e3a55987-fdbb-cb79-fcb2-7261461b43a5',\n",
    "            'e596515e-38e2-c9c0-7584-a46a8b1ff871',\n",
    "            'e72aab01-fbef-7d21-ac1d-84ee1413fddd',\n",
    "            'dcb99002-9225-c513-27c6-9002b6103bc0',\n",
    "            '7300e89a-2e8e-23d3-3e9a-8f25b2a127f0']"
   ]
  },
  {
   "cell_type": "code",
   "execution_count": 16,
   "metadata": {},
   "outputs": [
    {
     "data": {
      "text/html": [
       "<div>\n",
       "<style>\n",
       "    .dataframe thead tr:only-child th {\n",
       "        text-align: right;\n",
       "    }\n",
       "\n",
       "    .dataframe thead th {\n",
       "        text-align: left;\n",
       "    }\n",
       "\n",
       "    .dataframe tbody tr th {\n",
       "        vertical-align: top;\n",
       "    }\n",
       "</style>\n",
       "<table border=\"1\" class=\"dataframe\">\n",
       "  <thead>\n",
       "    <tr style=\"text-align: right;\">\n",
       "      <th></th>\n",
       "      <th>person_uuid</th>\n",
       "      <th>org_uuid</th>\n",
       "      <th>institution_uuid</th>\n",
       "      <th>first_name</th>\n",
       "      <th>last_name</th>\n",
       "    </tr>\n",
       "  </thead>\n",
       "  <tbody>\n",
       "    <tr>\n",
       "      <th>57</th>\n",
       "      <td>0056e384-e02c-3400-bf35-e4d42bbdf511</td>\n",
       "      <td>9caa6135-6881-6ad6-9e0f-f112e87dd455</td>\n",
       "      <td>20135206-96eb-8be0-9ac4-670b257e532c</td>\n",
       "      <td>Jungsang</td>\n",
       "      <td>Kim</td>\n",
       "    </tr>\n",
       "  </tbody>\n",
       "</table>\n",
       "</div>"
      ],
      "text/plain": [
       "                             person_uuid  \\\n",
       "57  0056e384-e02c-3400-bf35-e4d42bbdf511   \n",
       "\n",
       "                                org_uuid  \\\n",
       "57  9caa6135-6881-6ad6-9e0f-f112e87dd455   \n",
       "\n",
       "                        institution_uuid first_name last_name  \n",
       "57  20135206-96eb-8be0-9ac4-670b257e532c   Jungsang       Kim  "
      ]
     },
     "execution_count": 16,
     "metadata": {},
     "output_type": "execute_result"
    }
   ],
   "source": [
    "institutions_df[institutions_df['institution_uuid']==t10_inst[0]].head(1)\n",
    "# 20135206-96eb-8be0-9ac4-670b257e532c = Stanford University"
   ]
  },
  {
   "cell_type": "code",
   "execution_count": 17,
   "metadata": {},
   "outputs": [
    {
     "data": {
      "text/html": [
       "<div>\n",
       "<style>\n",
       "    .dataframe thead tr:only-child th {\n",
       "        text-align: right;\n",
       "    }\n",
       "\n",
       "    .dataframe thead th {\n",
       "        text-align: left;\n",
       "    }\n",
       "\n",
       "    .dataframe tbody tr th {\n",
       "        vertical-align: top;\n",
       "    }\n",
       "</style>\n",
       "<table border=\"1\" class=\"dataframe\">\n",
       "  <thead>\n",
       "    <tr style=\"text-align: right;\">\n",
       "      <th></th>\n",
       "      <th>person_uuid</th>\n",
       "      <th>org_uuid</th>\n",
       "      <th>institution_uuid</th>\n",
       "      <th>first_name</th>\n",
       "      <th>last_name</th>\n",
       "    </tr>\n",
       "  </thead>\n",
       "  <tbody>\n",
       "    <tr>\n",
       "      <th>92</th>\n",
       "      <td>00911d47-fc78-60ab-03ea-6182f1f86eb1</td>\n",
       "      <td>722c098a-37f2-be10-6d41-bad0b2aa1bff</td>\n",
       "      <td>6599f877-7c83-0c47-b05b-dbedd3db7b3a</td>\n",
       "      <td>Julia</td>\n",
       "      <td>Hu</td>\n",
       "    </tr>\n",
       "    <tr>\n",
       "      <th>201</th>\n",
       "      <td>0168dc13-e817-e779-c237-47fbf563c993</td>\n",
       "      <td>e3b3a78b-9601-6c3a-6bca-2bcd325686a2</td>\n",
       "      <td>6599f877-7c83-0c47-b05b-dbedd3db7b3a</td>\n",
       "      <td>Eugene</td>\n",
       "      <td>Feldman</td>\n",
       "    </tr>\n",
       "    <tr>\n",
       "      <th>276</th>\n",
       "      <td>01fb2594-23aa-ee7c-3da9-9ed06e73a333</td>\n",
       "      <td>93cbd092-b147-09f3-41b1-622cf919eb7b</td>\n",
       "      <td>6599f877-7c83-0c47-b05b-dbedd3db7b3a</td>\n",
       "      <td>Jose</td>\n",
       "      <td>Bohorquez</td>\n",
       "    </tr>\n",
       "    <tr>\n",
       "      <th>304</th>\n",
       "      <td>022f24e1-0ff8-298f-608a-4ef9d496c9b9</td>\n",
       "      <td>91128672-9cca-4ba1-8b50-a1fb661e1ff5</td>\n",
       "      <td>6599f877-7c83-0c47-b05b-dbedd3db7b3a</td>\n",
       "      <td>Babar</td>\n",
       "      <td>Bhatti</td>\n",
       "    </tr>\n",
       "    <tr>\n",
       "      <th>308</th>\n",
       "      <td>02325cea-62bc-596d-79d8-364541003bef</td>\n",
       "      <td>e6449ca5-2268-5cf7-96ca-b808a234da00</td>\n",
       "      <td>6599f877-7c83-0c47-b05b-dbedd3db7b3a</td>\n",
       "      <td>Drew</td>\n",
       "      <td>Houston</td>\n",
       "    </tr>\n",
       "  </tbody>\n",
       "</table>\n",
       "</div>"
      ],
      "text/plain": [
       "                              person_uuid  \\\n",
       "92   00911d47-fc78-60ab-03ea-6182f1f86eb1   \n",
       "201  0168dc13-e817-e779-c237-47fbf563c993   \n",
       "276  01fb2594-23aa-ee7c-3da9-9ed06e73a333   \n",
       "304  022f24e1-0ff8-298f-608a-4ef9d496c9b9   \n",
       "308  02325cea-62bc-596d-79d8-364541003bef   \n",
       "\n",
       "                                 org_uuid  \\\n",
       "92   722c098a-37f2-be10-6d41-bad0b2aa1bff   \n",
       "201  e3b3a78b-9601-6c3a-6bca-2bcd325686a2   \n",
       "276  93cbd092-b147-09f3-41b1-622cf919eb7b   \n",
       "304  91128672-9cca-4ba1-8b50-a1fb661e1ff5   \n",
       "308  e6449ca5-2268-5cf7-96ca-b808a234da00   \n",
       "\n",
       "                         institution_uuid first_name  last_name  \n",
       "92   6599f877-7c83-0c47-b05b-dbedd3db7b3a      Julia         Hu  \n",
       "201  6599f877-7c83-0c47-b05b-dbedd3db7b3a     Eugene    Feldman  \n",
       "276  6599f877-7c83-0c47-b05b-dbedd3db7b3a       Jose  Bohorquez  \n",
       "304  6599f877-7c83-0c47-b05b-dbedd3db7b3a      Babar     Bhatti  \n",
       "308  6599f877-7c83-0c47-b05b-dbedd3db7b3a       Drew    Houston  "
      ]
     },
     "execution_count": 17,
     "metadata": {},
     "output_type": "execute_result"
    }
   ],
   "source": [
    "institutions_df[institutions_df['institution_uuid']==t10_inst[1]].head(5)\n",
    "# '6599f877-7c83-0c47-b05b-dbedd3db7b3a' = MIT"
   ]
  },
  {
   "cell_type": "code",
   "execution_count": 18,
   "metadata": {},
   "outputs": [
    {
     "data": {
      "text/html": [
       "<div>\n",
       "<style>\n",
       "    .dataframe thead tr:only-child th {\n",
       "        text-align: right;\n",
       "    }\n",
       "\n",
       "    .dataframe thead th {\n",
       "        text-align: left;\n",
       "    }\n",
       "\n",
       "    .dataframe tbody tr th {\n",
       "        vertical-align: top;\n",
       "    }\n",
       "</style>\n",
       "<table border=\"1\" class=\"dataframe\">\n",
       "  <thead>\n",
       "    <tr style=\"text-align: right;\">\n",
       "      <th></th>\n",
       "      <th>person_uuid</th>\n",
       "      <th>org_uuid</th>\n",
       "      <th>institution_uuid</th>\n",
       "      <th>first_name</th>\n",
       "      <th>last_name</th>\n",
       "    </tr>\n",
       "  </thead>\n",
       "  <tbody>\n",
       "    <tr>\n",
       "      <th>99</th>\n",
       "      <td>00a2f721-a316-43a5-83bf-48dd1ad49a31</td>\n",
       "      <td>fb5d3118-f330-4b3d-a71a-dceb6bd83d6c</td>\n",
       "      <td>10f9a25b-9675-2281-486e-a52955c706df</td>\n",
       "      <td>Stella</td>\n",
       "      <td>Sarraf</td>\n",
       "    </tr>\n",
       "  </tbody>\n",
       "</table>\n",
       "</div>"
      ],
      "text/plain": [
       "                             person_uuid  \\\n",
       "99  00a2f721-a316-43a5-83bf-48dd1ad49a31   \n",
       "\n",
       "                                org_uuid  \\\n",
       "99  fb5d3118-f330-4b3d-a71a-dceb6bd83d6c   \n",
       "\n",
       "                        institution_uuid first_name last_name  \n",
       "99  10f9a25b-9675-2281-486e-a52955c706df     Stella    Sarraf  "
      ]
     },
     "execution_count": 18,
     "metadata": {},
     "output_type": "execute_result"
    }
   ],
   "source": [
    "institutions_df[institutions_df['institution_uuid']==t10_inst[2]].head(1)\n",
    "# '10f9a25b-9675-2281-486e-a52955c706df' = University of California, Berkely"
   ]
  },
  {
   "cell_type": "code",
   "execution_count": 19,
   "metadata": {},
   "outputs": [
    {
     "data": {
      "text/html": [
       "<div>\n",
       "<style>\n",
       "    .dataframe thead tr:only-child th {\n",
       "        text-align: right;\n",
       "    }\n",
       "\n",
       "    .dataframe thead th {\n",
       "        text-align: left;\n",
       "    }\n",
       "\n",
       "    .dataframe tbody tr th {\n",
       "        vertical-align: top;\n",
       "    }\n",
       "</style>\n",
       "<table border=\"1\" class=\"dataframe\">\n",
       "  <thead>\n",
       "    <tr style=\"text-align: right;\">\n",
       "      <th></th>\n",
       "      <th>person_uuid</th>\n",
       "      <th>org_uuid</th>\n",
       "      <th>institution_uuid</th>\n",
       "      <th>first_name</th>\n",
       "      <th>last_name</th>\n",
       "    </tr>\n",
       "  </thead>\n",
       "  <tbody>\n",
       "    <tr>\n",
       "      <th>77</th>\n",
       "      <td>007fa95a-f316-e774-8891-460f05700a35</td>\n",
       "      <td>3abed6bf-6209-9470-de15-82a5a2ecbb60</td>\n",
       "      <td>d8b57c0e-9f0f-4dcb-d207-a12a90c64a2d</td>\n",
       "      <td>Tom</td>\n",
       "      <td>Leung</td>\n",
       "    </tr>\n",
       "  </tbody>\n",
       "</table>\n",
       "</div>"
      ],
      "text/plain": [
       "                             person_uuid  \\\n",
       "77  007fa95a-f316-e774-8891-460f05700a35   \n",
       "\n",
       "                                org_uuid  \\\n",
       "77  3abed6bf-6209-9470-de15-82a5a2ecbb60   \n",
       "\n",
       "                        institution_uuid first_name last_name  \n",
       "77  d8b57c0e-9f0f-4dcb-d207-a12a90c64a2d        Tom     Leung  "
      ]
     },
     "execution_count": 19,
     "metadata": {},
     "output_type": "execute_result"
    }
   ],
   "source": [
    "institutions_df[institutions_df['institution_uuid']==t10_inst[3]].head(1)\n",
    "# 'd8b57c0e-9f0f-4dcb-d207-a12a90c64a2d' = Harvard University"
   ]
  },
  {
   "cell_type": "code",
   "execution_count": 20,
   "metadata": {},
   "outputs": [
    {
     "data": {
      "text/html": [
       "<div>\n",
       "<style>\n",
       "    .dataframe thead tr:only-child th {\n",
       "        text-align: right;\n",
       "    }\n",
       "\n",
       "    .dataframe thead th {\n",
       "        text-align: left;\n",
       "    }\n",
       "\n",
       "    .dataframe tbody tr th {\n",
       "        vertical-align: top;\n",
       "    }\n",
       "</style>\n",
       "<table border=\"1\" class=\"dataframe\">\n",
       "  <thead>\n",
       "    <tr style=\"text-align: right;\">\n",
       "      <th></th>\n",
       "      <th>person_uuid</th>\n",
       "      <th>org_uuid</th>\n",
       "      <th>institution_uuid</th>\n",
       "      <th>first_name</th>\n",
       "      <th>last_name</th>\n",
       "    </tr>\n",
       "  </thead>\n",
       "  <tbody>\n",
       "    <tr>\n",
       "      <th>190</th>\n",
       "      <td>0159561f-be5d-81eb-7ccd-b4d6efeb30fc</td>\n",
       "      <td>297df5af-da41-a709-7df2-7e7f04e53454</td>\n",
       "      <td>630773ca-bbdf-bb41-2985-41a23ffdd01a</td>\n",
       "      <td>Mark</td>\n",
       "      <td>Pincus</td>\n",
       "    </tr>\n",
       "    <tr>\n",
       "      <th>192</th>\n",
       "      <td>0159561f-be5d-81eb-7ccd-b4d6efeb30fc</td>\n",
       "      <td>5755808e-7daa-38f5-12ee-a2d785546413</td>\n",
       "      <td>630773ca-bbdf-bb41-2985-41a23ffdd01a</td>\n",
       "      <td>Mark</td>\n",
       "      <td>Pincus</td>\n",
       "    </tr>\n",
       "    <tr>\n",
       "      <th>236</th>\n",
       "      <td>01c1deaa-9632-60b9-f4ca-0a23f6c77b62</td>\n",
       "      <td>e45f7dce-f8a6-734d-916c-d6261e21a272</td>\n",
       "      <td>630773ca-bbdf-bb41-2985-41a23ffdd01a</td>\n",
       "      <td>Kyle</td>\n",
       "      <td>Green</td>\n",
       "    </tr>\n",
       "  </tbody>\n",
       "</table>\n",
       "</div>"
      ],
      "text/plain": [
       "                              person_uuid  \\\n",
       "190  0159561f-be5d-81eb-7ccd-b4d6efeb30fc   \n",
       "192  0159561f-be5d-81eb-7ccd-b4d6efeb30fc   \n",
       "236  01c1deaa-9632-60b9-f4ca-0a23f6c77b62   \n",
       "\n",
       "                                 org_uuid  \\\n",
       "190  297df5af-da41-a709-7df2-7e7f04e53454   \n",
       "192  5755808e-7daa-38f5-12ee-a2d785546413   \n",
       "236  e45f7dce-f8a6-734d-916c-d6261e21a272   \n",
       "\n",
       "                         institution_uuid first_name last_name  \n",
       "190  630773ca-bbdf-bb41-2985-41a23ffdd01a       Mark    Pincus  \n",
       "192  630773ca-bbdf-bb41-2985-41a23ffdd01a       Mark    Pincus  \n",
       "236  630773ca-bbdf-bb41-2985-41a23ffdd01a       Kyle     Green  "
      ]
     },
     "execution_count": 20,
     "metadata": {},
     "output_type": "execute_result"
    }
   ],
   "source": [
    "institutions_df[institutions_df['institution_uuid']==t10_inst[4]].head(3)\n",
    "# '630773ca-bbdf-bb41-2985-41a23ffdd01a' = Harvard Business School"
   ]
  },
  {
   "cell_type": "code",
   "execution_count": 21,
   "metadata": {},
   "outputs": [
    {
     "data": {
      "text/html": [
       "<div>\n",
       "<style>\n",
       "    .dataframe thead tr:only-child th {\n",
       "        text-align: right;\n",
       "    }\n",
       "\n",
       "    .dataframe thead th {\n",
       "        text-align: left;\n",
       "    }\n",
       "\n",
       "    .dataframe tbody tr th {\n",
       "        vertical-align: top;\n",
       "    }\n",
       "</style>\n",
       "<table border=\"1\" class=\"dataframe\">\n",
       "  <thead>\n",
       "    <tr style=\"text-align: right;\">\n",
       "      <th></th>\n",
       "      <th>person_uuid</th>\n",
       "      <th>org_uuid</th>\n",
       "      <th>institution_uuid</th>\n",
       "      <th>first_name</th>\n",
       "      <th>last_name</th>\n",
       "    </tr>\n",
       "  </thead>\n",
       "  <tbody>\n",
       "    <tr>\n",
       "      <th>95</th>\n",
       "      <td>009c8707-e596-a869-7a92-317d9c498c16</td>\n",
       "      <td>209e1e67-5512-52ee-93cd-e01e9fea79d8</td>\n",
       "      <td>e3a55987-fdbb-cb79-fcb2-7261461b43a5</td>\n",
       "      <td>Yaron</td>\n",
       "      <td>Segev</td>\n",
       "    </tr>\n",
       "    <tr>\n",
       "      <th>96</th>\n",
       "      <td>009c8707-e596-a869-7a92-317d9c498c16</td>\n",
       "      <td>317d7bdd-e0d4-0f7d-24a3-b1b737aaac34</td>\n",
       "      <td>e3a55987-fdbb-cb79-fcb2-7261461b43a5</td>\n",
       "      <td>Yaron</td>\n",
       "      <td>Segev</td>\n",
       "    </tr>\n",
       "    <tr>\n",
       "      <th>195</th>\n",
       "      <td>015dfd0b-6368-37fc-aa3c-89bdbf74c9c8</td>\n",
       "      <td>cee9fc3b-4dd1-de85-7b57-4d173f8840d1</td>\n",
       "      <td>e3a55987-fdbb-cb79-fcb2-7261461b43a5</td>\n",
       "      <td>Itay</td>\n",
       "      <td>Baruchi</td>\n",
       "    </tr>\n",
       "    <tr>\n",
       "      <th>318</th>\n",
       "      <td>023d3f08-4bb9-eeac-518f-0004ef673027</td>\n",
       "      <td>7b5a933f-fd04-cfa4-444e-483a30671441</td>\n",
       "      <td>e3a55987-fdbb-cb79-fcb2-7261461b43a5</td>\n",
       "      <td>Yoni</td>\n",
       "      <td>Lindenfeld</td>\n",
       "    </tr>\n",
       "  </tbody>\n",
       "</table>\n",
       "</div>"
      ],
      "text/plain": [
       "                              person_uuid  \\\n",
       "95   009c8707-e596-a869-7a92-317d9c498c16   \n",
       "96   009c8707-e596-a869-7a92-317d9c498c16   \n",
       "195  015dfd0b-6368-37fc-aa3c-89bdbf74c9c8   \n",
       "318  023d3f08-4bb9-eeac-518f-0004ef673027   \n",
       "\n",
       "                                 org_uuid  \\\n",
       "95   209e1e67-5512-52ee-93cd-e01e9fea79d8   \n",
       "96   317d7bdd-e0d4-0f7d-24a3-b1b737aaac34   \n",
       "195  cee9fc3b-4dd1-de85-7b57-4d173f8840d1   \n",
       "318  7b5a933f-fd04-cfa4-444e-483a30671441   \n",
       "\n",
       "                         institution_uuid first_name   last_name  \n",
       "95   e3a55987-fdbb-cb79-fcb2-7261461b43a5      Yaron       Segev  \n",
       "96   e3a55987-fdbb-cb79-fcb2-7261461b43a5      Yaron       Segev  \n",
       "195  e3a55987-fdbb-cb79-fcb2-7261461b43a5       Itay     Baruchi  \n",
       "318  e3a55987-fdbb-cb79-fcb2-7261461b43a5       Yoni  Lindenfeld  "
      ]
     },
     "execution_count": 21,
     "metadata": {},
     "output_type": "execute_result"
    }
   ],
   "source": [
    "institutions_df[institutions_df['institution_uuid']==t10_inst[5]].head(4)\n",
    "# 'e3a55987-fdbb-cb79-fcb2-7261461b43a5' = Tel Aviv, Israel"
   ]
  },
  {
   "cell_type": "code",
   "execution_count": 22,
   "metadata": {},
   "outputs": [
    {
     "data": {
      "text/html": [
       "<div>\n",
       "<style>\n",
       "    .dataframe thead tr:only-child th {\n",
       "        text-align: right;\n",
       "    }\n",
       "\n",
       "    .dataframe thead th {\n",
       "        text-align: left;\n",
       "    }\n",
       "\n",
       "    .dataframe tbody tr th {\n",
       "        vertical-align: top;\n",
       "    }\n",
       "</style>\n",
       "<table border=\"1\" class=\"dataframe\">\n",
       "  <thead>\n",
       "    <tr style=\"text-align: right;\">\n",
       "      <th></th>\n",
       "      <th>person_uuid</th>\n",
       "      <th>org_uuid</th>\n",
       "      <th>institution_uuid</th>\n",
       "      <th>first_name</th>\n",
       "      <th>last_name</th>\n",
       "    </tr>\n",
       "  </thead>\n",
       "  <tbody>\n",
       "    <tr>\n",
       "      <th>19</th>\n",
       "      <td>00141ae2-df2d-accc-3f96-b062f80c6ead</td>\n",
       "      <td>1e5307ed-cc85-5a83-72a5-1700f392297b</td>\n",
       "      <td>e596515e-38e2-c9c0-7584-a46a8b1ff871</td>\n",
       "      <td>Ankur</td>\n",
       "      <td>Bulsara</td>\n",
       "    </tr>\n",
       "    <tr>\n",
       "      <th>20</th>\n",
       "      <td>00141ae2-df2d-accc-3f96-b062f80c6ead</td>\n",
       "      <td>4f9d1777-57c4-775b-bf79-789bf339f30d</td>\n",
       "      <td>e596515e-38e2-c9c0-7584-a46a8b1ff871</td>\n",
       "      <td>Ankur</td>\n",
       "      <td>Bulsara</td>\n",
       "    </tr>\n",
       "    <tr>\n",
       "      <th>89</th>\n",
       "      <td>008e14b9-0c7f-0da9-14d2-b43ee39cc61e</td>\n",
       "      <td>df031099-5650-2399-79b6-830aa87c9d64</td>\n",
       "      <td>e596515e-38e2-c9c0-7584-a46a8b1ff871</td>\n",
       "      <td>Sloane</td>\n",
       "      <td>Yu</td>\n",
       "    </tr>\n",
       "  </tbody>\n",
       "</table>\n",
       "</div>"
      ],
      "text/plain": [
       "                             person_uuid  \\\n",
       "19  00141ae2-df2d-accc-3f96-b062f80c6ead   \n",
       "20  00141ae2-df2d-accc-3f96-b062f80c6ead   \n",
       "89  008e14b9-0c7f-0da9-14d2-b43ee39cc61e   \n",
       "\n",
       "                                org_uuid  \\\n",
       "19  1e5307ed-cc85-5a83-72a5-1700f392297b   \n",
       "20  4f9d1777-57c4-775b-bf79-789bf339f30d   \n",
       "89  df031099-5650-2399-79b6-830aa87c9d64   \n",
       "\n",
       "                        institution_uuid first_name last_name  \n",
       "19  e596515e-38e2-c9c0-7584-a46a8b1ff871      Ankur   Bulsara  \n",
       "20  e596515e-38e2-c9c0-7584-a46a8b1ff871      Ankur   Bulsara  \n",
       "89  e596515e-38e2-c9c0-7584-a46a8b1ff871     Sloane        Yu  "
      ]
     },
     "execution_count": 22,
     "metadata": {},
     "output_type": "execute_result"
    }
   ],
   "source": [
    "institutions_df[institutions_df['institution_uuid']==t10_inst[6]].head(3)\n",
    "# 'e596515e-38e2-c9c0-7584-a46a8b1ff871' = Cornell University"
   ]
  },
  {
   "cell_type": "code",
   "execution_count": 23,
   "metadata": {},
   "outputs": [
    {
     "data": {
      "text/html": [
       "<div>\n",
       "<style>\n",
       "    .dataframe thead tr:only-child th {\n",
       "        text-align: right;\n",
       "    }\n",
       "\n",
       "    .dataframe thead th {\n",
       "        text-align: left;\n",
       "    }\n",
       "\n",
       "    .dataframe tbody tr th {\n",
       "        vertical-align: top;\n",
       "    }\n",
       "</style>\n",
       "<table border=\"1\" class=\"dataframe\">\n",
       "  <thead>\n",
       "    <tr style=\"text-align: right;\">\n",
       "      <th></th>\n",
       "      <th>person_uuid</th>\n",
       "      <th>org_uuid</th>\n",
       "      <th>institution_uuid</th>\n",
       "      <th>first_name</th>\n",
       "      <th>last_name</th>\n",
       "    </tr>\n",
       "  </thead>\n",
       "  <tbody>\n",
       "    <tr>\n",
       "      <th>177</th>\n",
       "      <td>014531cd-fd8f-60b7-3ccd-e7be916ea408</td>\n",
       "      <td>be5128c1-4e0e-84b7-1e71-8c0ddbfb4f1a</td>\n",
       "      <td>e72aab01-fbef-7d21-ac1d-84ee1413fddd</td>\n",
       "      <td>Jorge</td>\n",
       "      <td>Perdomo</td>\n",
       "    </tr>\n",
       "    <tr>\n",
       "      <th>191</th>\n",
       "      <td>0159561f-be5d-81eb-7ccd-b4d6efeb30fc</td>\n",
       "      <td>297df5af-da41-a709-7df2-7e7f04e53454</td>\n",
       "      <td>e72aab01-fbef-7d21-ac1d-84ee1413fddd</td>\n",
       "      <td>Mark</td>\n",
       "      <td>Pincus</td>\n",
       "    </tr>\n",
       "    <tr>\n",
       "      <th>193</th>\n",
       "      <td>0159561f-be5d-81eb-7ccd-b4d6efeb30fc</td>\n",
       "      <td>5755808e-7daa-38f5-12ee-a2d785546413</td>\n",
       "      <td>e72aab01-fbef-7d21-ac1d-84ee1413fddd</td>\n",
       "      <td>Mark</td>\n",
       "      <td>Pincus</td>\n",
       "    </tr>\n",
       "  </tbody>\n",
       "</table>\n",
       "</div>"
      ],
      "text/plain": [
       "                              person_uuid  \\\n",
       "177  014531cd-fd8f-60b7-3ccd-e7be916ea408   \n",
       "191  0159561f-be5d-81eb-7ccd-b4d6efeb30fc   \n",
       "193  0159561f-be5d-81eb-7ccd-b4d6efeb30fc   \n",
       "\n",
       "                                 org_uuid  \\\n",
       "177  be5128c1-4e0e-84b7-1e71-8c0ddbfb4f1a   \n",
       "191  297df5af-da41-a709-7df2-7e7f04e53454   \n",
       "193  5755808e-7daa-38f5-12ee-a2d785546413   \n",
       "\n",
       "                         institution_uuid first_name last_name  \n",
       "177  e72aab01-fbef-7d21-ac1d-84ee1413fddd      Jorge   Perdomo  \n",
       "191  e72aab01-fbef-7d21-ac1d-84ee1413fddd       Mark    Pincus  \n",
       "193  e72aab01-fbef-7d21-ac1d-84ee1413fddd       Mark    Pincus  "
      ]
     },
     "execution_count": 23,
     "metadata": {},
     "output_type": "execute_result"
    }
   ],
   "source": [
    "institutions_df[institutions_df['institution_uuid']==t10_inst[7]].head(3)\n",
    "# 'e72aab01-fbef-7d21-ac1d-84ee1413fddd' = University of Pennsylvania"
   ]
  },
  {
   "cell_type": "code",
   "execution_count": 24,
   "metadata": {},
   "outputs": [
    {
     "data": {
      "text/html": [
       "<div>\n",
       "<style>\n",
       "    .dataframe thead tr:only-child th {\n",
       "        text-align: right;\n",
       "    }\n",
       "\n",
       "    .dataframe thead th {\n",
       "        text-align: left;\n",
       "    }\n",
       "\n",
       "    .dataframe tbody tr th {\n",
       "        vertical-align: top;\n",
       "    }\n",
       "</style>\n",
       "<table border=\"1\" class=\"dataframe\">\n",
       "  <thead>\n",
       "    <tr style=\"text-align: right;\">\n",
       "      <th></th>\n",
       "      <th>person_uuid</th>\n",
       "      <th>org_uuid</th>\n",
       "      <th>institution_uuid</th>\n",
       "      <th>first_name</th>\n",
       "      <th>last_name</th>\n",
       "    </tr>\n",
       "  </thead>\n",
       "  <tbody>\n",
       "    <tr>\n",
       "      <th>286</th>\n",
       "      <td>020d410a-0a9e-ff0f-f81c-4f778f365fa1</td>\n",
       "      <td>787abe0b-3f63-7ad0-aefe-f873105f0e4e</td>\n",
       "      <td>dcb99002-9225-c513-27c6-9002b6103bc0</td>\n",
       "      <td>Collin</td>\n",
       "      <td>Jackson</td>\n",
       "    </tr>\n",
       "    <tr>\n",
       "      <th>365</th>\n",
       "      <td>027fd2a5-8197-f394-b8e0-07bfd57951a9</td>\n",
       "      <td>d4200dc1-9498-be6c-6f4f-cfdf73c4bde5</td>\n",
       "      <td>dcb99002-9225-c513-27c6-9002b6103bc0</td>\n",
       "      <td>Tom</td>\n",
       "      <td>Katis</td>\n",
       "    </tr>\n",
       "    <tr>\n",
       "      <th>500</th>\n",
       "      <td>033ebb1f-369e-286e-f682-1fb53893159c</td>\n",
       "      <td>450b9605-db2f-4ca7-9ffb-993df5b7e73d</td>\n",
       "      <td>dcb99002-9225-c513-27c6-9002b6103bc0</td>\n",
       "      <td>Spencer</td>\n",
       "      <td>Fry</td>\n",
       "    </tr>\n",
       "  </tbody>\n",
       "</table>\n",
       "</div>"
      ],
      "text/plain": [
       "                              person_uuid  \\\n",
       "286  020d410a-0a9e-ff0f-f81c-4f778f365fa1   \n",
       "365  027fd2a5-8197-f394-b8e0-07bfd57951a9   \n",
       "500  033ebb1f-369e-286e-f682-1fb53893159c   \n",
       "\n",
       "                                 org_uuid  \\\n",
       "286  787abe0b-3f63-7ad0-aefe-f873105f0e4e   \n",
       "365  d4200dc1-9498-be6c-6f4f-cfdf73c4bde5   \n",
       "500  450b9605-db2f-4ca7-9ffb-993df5b7e73d   \n",
       "\n",
       "                         institution_uuid first_name last_name  \n",
       "286  dcb99002-9225-c513-27c6-9002b6103bc0     Collin   Jackson  \n",
       "365  dcb99002-9225-c513-27c6-9002b6103bc0        Tom     Katis  \n",
       "500  dcb99002-9225-c513-27c6-9002b6103bc0    Spencer       Fry  "
      ]
     },
     "execution_count": 24,
     "metadata": {},
     "output_type": "execute_result"
    }
   ],
   "source": [
    "institutions_df[institutions_df['institution_uuid']==t10_inst[8]].head(3)\n",
    "# 'dcb99002-9225-c513-27c6-9002b6103bc0' = Yale University"
   ]
  },
  {
   "cell_type": "code",
   "execution_count": 25,
   "metadata": {},
   "outputs": [
    {
     "data": {
      "text/html": [
       "<div>\n",
       "<style>\n",
       "    .dataframe thead tr:only-child th {\n",
       "        text-align: right;\n",
       "    }\n",
       "\n",
       "    .dataframe thead th {\n",
       "        text-align: left;\n",
       "    }\n",
       "\n",
       "    .dataframe tbody tr th {\n",
       "        vertical-align: top;\n",
       "    }\n",
       "</style>\n",
       "<table border=\"1\" class=\"dataframe\">\n",
       "  <thead>\n",
       "    <tr style=\"text-align: right;\">\n",
       "      <th></th>\n",
       "      <th>person_uuid</th>\n",
       "      <th>org_uuid</th>\n",
       "      <th>institution_uuid</th>\n",
       "      <th>first_name</th>\n",
       "      <th>last_name</th>\n",
       "    </tr>\n",
       "  </thead>\n",
       "  <tbody>\n",
       "    <tr>\n",
       "      <th>521</th>\n",
       "      <td>034d7555-5b2a-ffe2-30c1-39cb7cc557c5</td>\n",
       "      <td>4b943117-d251-1bee-8a63-a6e07e1feb00</td>\n",
       "      <td>7300e89a-2e8e-23d3-3e9a-8f25b2a127f0</td>\n",
       "      <td>Teddy</td>\n",
       "      <td>Zhang</td>\n",
       "    </tr>\n",
       "    <tr>\n",
       "      <th>579</th>\n",
       "      <td>038d239a-ecaa-b35a-10b2-7554c12ab3db</td>\n",
       "      <td>a6709b84-9dfd-319b-751f-b1e8bf07da7e</td>\n",
       "      <td>7300e89a-2e8e-23d3-3e9a-8f25b2a127f0</td>\n",
       "      <td>Mark</td>\n",
       "      <td>Goldman</td>\n",
       "    </tr>\n",
       "    <tr>\n",
       "      <th>718</th>\n",
       "      <td>047fa590-0176-be8d-3c7a-f63789d1ca1d</td>\n",
       "      <td>88b3b1c6-9b24-13af-6e1a-f051db5d9268</td>\n",
       "      <td>7300e89a-2e8e-23d3-3e9a-8f25b2a127f0</td>\n",
       "      <td>Adam</td>\n",
       "      <td>Miller</td>\n",
       "    </tr>\n",
       "  </tbody>\n",
       "</table>\n",
       "</div>"
      ],
      "text/plain": [
       "                              person_uuid  \\\n",
       "521  034d7555-5b2a-ffe2-30c1-39cb7cc557c5   \n",
       "579  038d239a-ecaa-b35a-10b2-7554c12ab3db   \n",
       "718  047fa590-0176-be8d-3c7a-f63789d1ca1d   \n",
       "\n",
       "                                 org_uuid  \\\n",
       "521  4b943117-d251-1bee-8a63-a6e07e1feb00   \n",
       "579  a6709b84-9dfd-319b-751f-b1e8bf07da7e   \n",
       "718  88b3b1c6-9b24-13af-6e1a-f051db5d9268   \n",
       "\n",
       "                         institution_uuid first_name last_name  \n",
       "521  7300e89a-2e8e-23d3-3e9a-8f25b2a127f0      Teddy     Zhang  \n",
       "579  7300e89a-2e8e-23d3-3e9a-8f25b2a127f0       Mark   Goldman  \n",
       "718  7300e89a-2e8e-23d3-3e9a-8f25b2a127f0       Adam    Miller  "
      ]
     },
     "execution_count": 25,
     "metadata": {},
     "output_type": "execute_result"
    }
   ],
   "source": [
    "institutions_df[institutions_df['institution_uuid']==t10_inst[9]].head(3)\n",
    "# '7300e89a-2e8e-23d3-3e9a-8f25b2a127f0' = Wharton School of the University of Pennsylvania"
   ]
  },
  {
   "cell_type": "code",
   "execution_count": 26,
   "metadata": {},
   "outputs": [
    {
     "data": {
      "text/html": [
       "<div>\n",
       "<style>\n",
       "    .dataframe thead tr:only-child th {\n",
       "        text-align: right;\n",
       "    }\n",
       "\n",
       "    .dataframe thead th {\n",
       "        text-align: left;\n",
       "    }\n",
       "\n",
       "    .dataframe tbody tr th {\n",
       "        vertical-align: top;\n",
       "    }\n",
       "</style>\n",
       "<table border=\"1\" class=\"dataframe\">\n",
       "  <thead>\n",
       "    <tr style=\"text-align: right;\">\n",
       "      <th></th>\n",
       "      <th>person_uuid</th>\n",
       "      <th>org_uuid</th>\n",
       "      <th>institution_uuid</th>\n",
       "      <th>first_name</th>\n",
       "      <th>last_name</th>\n",
       "    </tr>\n",
       "  </thead>\n",
       "  <tbody>\n",
       "    <tr>\n",
       "      <th>22</th>\n",
       "      <td>00184b35-b9aa-f6c2-898e-0a1a6e0ee1e5</td>\n",
       "      <td>a3826f14-4c4b-eb30-bdd3-d8c516612ace</td>\n",
       "      <td>8d297d1e-3e3d-fadd-2963-57e0a40bff2a</td>\n",
       "      <td>Mihai</td>\n",
       "      <td>Banu</td>\n",
       "    </tr>\n",
       "    <tr>\n",
       "      <th>100</th>\n",
       "      <td>00a2f721-a316-43a5-83bf-48dd1ad49a31</td>\n",
       "      <td>fb5d3118-f330-4b3d-a71a-dceb6bd83d6c</td>\n",
       "      <td>8d297d1e-3e3d-fadd-2963-57e0a40bff2a</td>\n",
       "      <td>Stella</td>\n",
       "      <td>Sarraf</td>\n",
       "    </tr>\n",
       "    <tr>\n",
       "      <th>240</th>\n",
       "      <td>01c3c9a3-56ce-b320-9cac-b76192215698</td>\n",
       "      <td>503eba80-2a11-c431-fdcb-badf8247410f</td>\n",
       "      <td>8d297d1e-3e3d-fadd-2963-57e0a40bff2a</td>\n",
       "      <td>Matthew</td>\n",
       "      <td>Putman</td>\n",
       "    </tr>\n",
       "  </tbody>\n",
       "</table>\n",
       "</div>"
      ],
      "text/plain": [
       "                              person_uuid  \\\n",
       "22   00184b35-b9aa-f6c2-898e-0a1a6e0ee1e5   \n",
       "100  00a2f721-a316-43a5-83bf-48dd1ad49a31   \n",
       "240  01c3c9a3-56ce-b320-9cac-b76192215698   \n",
       "\n",
       "                                 org_uuid  \\\n",
       "22   a3826f14-4c4b-eb30-bdd3-d8c516612ace   \n",
       "100  fb5d3118-f330-4b3d-a71a-dceb6bd83d6c   \n",
       "240  503eba80-2a11-c431-fdcb-badf8247410f   \n",
       "\n",
       "                         institution_uuid first_name last_name  \n",
       "22   8d297d1e-3e3d-fadd-2963-57e0a40bff2a      Mihai      Banu  \n",
       "100  8d297d1e-3e3d-fadd-2963-57e0a40bff2a     Stella    Sarraf  \n",
       "240  8d297d1e-3e3d-fadd-2963-57e0a40bff2a    Matthew    Putman  "
      ]
     },
     "execution_count": 26,
     "metadata": {},
     "output_type": "execute_result"
    }
   ],
   "source": [
    "institutions_df[institutions_df['institution_uuid']=='8d297d1e-3e3d-fadd-2963-57e0a40bff2a'].head(3)\n",
    "# '8d297d1e-3e3d-fadd-2963-57e0a40bff2a' = Columbia University"
   ]
  },
  {
   "cell_type": "code",
   "execution_count": 27,
   "metadata": {},
   "outputs": [
    {
     "data": {
      "text/html": [
       "<div>\n",
       "<style>\n",
       "    .dataframe thead tr:only-child th {\n",
       "        text-align: right;\n",
       "    }\n",
       "\n",
       "    .dataframe thead th {\n",
       "        text-align: left;\n",
       "    }\n",
       "\n",
       "    .dataframe tbody tr th {\n",
       "        vertical-align: top;\n",
       "    }\n",
       "</style>\n",
       "<table border=\"1\" class=\"dataframe\">\n",
       "  <thead>\n",
       "    <tr style=\"text-align: right;\">\n",
       "      <th></th>\n",
       "      <th>person_uuid</th>\n",
       "      <th>org_uuid</th>\n",
       "      <th>institution_uuid</th>\n",
       "      <th>first_name</th>\n",
       "      <th>last_name</th>\n",
       "    </tr>\n",
       "  </thead>\n",
       "  <tbody>\n",
       "    <tr>\n",
       "      <th>575</th>\n",
       "      <td>03896055-6051-4504-8e08-ccd8befd58fd</td>\n",
       "      <td>af552efe-7466-6773-eb37-fc1c7263a078</td>\n",
       "      <td>6cca2a58-6c3c-9abb-5380-6de702a56710</td>\n",
       "      <td>David</td>\n",
       "      <td>Auerbach</td>\n",
       "    </tr>\n",
       "    <tr>\n",
       "      <th>624</th>\n",
       "      <td>03d370f0-8683-8f8b-a31e-dbf8702bbed1</td>\n",
       "      <td>fbcb563f-59ca-5bcc-b6cb-2ea26f81c5bf</td>\n",
       "      <td>6cca2a58-6c3c-9abb-5380-6de702a56710</td>\n",
       "      <td>Bharani</td>\n",
       "      <td>Rajakumar</td>\n",
       "    </tr>\n",
       "    <tr>\n",
       "      <th>947</th>\n",
       "      <td>06086ba2-9273-7f5c-565d-0b545ad0d2bd</td>\n",
       "      <td>8bd7b52c-d781-df49-305e-a925a42547a3</td>\n",
       "      <td>6cca2a58-6c3c-9abb-5380-6de702a56710</td>\n",
       "      <td>Hahna</td>\n",
       "      <td>Alexander</td>\n",
       "    </tr>\n",
       "  </tbody>\n",
       "</table>\n",
       "</div>"
      ],
      "text/plain": [
       "                              person_uuid  \\\n",
       "575  03896055-6051-4504-8e08-ccd8befd58fd   \n",
       "624  03d370f0-8683-8f8b-a31e-dbf8702bbed1   \n",
       "947  06086ba2-9273-7f5c-565d-0b545ad0d2bd   \n",
       "\n",
       "                                 org_uuid  \\\n",
       "575  af552efe-7466-6773-eb37-fc1c7263a078   \n",
       "624  fbcb563f-59ca-5bcc-b6cb-2ea26f81c5bf   \n",
       "947  8bd7b52c-d781-df49-305e-a925a42547a3   \n",
       "\n",
       "                         institution_uuid first_name  last_name  \n",
       "575  6cca2a58-6c3c-9abb-5380-6de702a56710      David   Auerbach  \n",
       "624  6cca2a58-6c3c-9abb-5380-6de702a56710    Bharani  Rajakumar  \n",
       "947  6cca2a58-6c3c-9abb-5380-6de702a56710      Hahna  Alexander  "
      ]
     },
     "execution_count": 27,
     "metadata": {},
     "output_type": "execute_result"
    }
   ],
   "source": [
    "institutions_df[institutions_df['institution_uuid']=='6cca2a58-6c3c-9abb-5380-6de702a56710'].head(3)\n",
    "# '6cca2a58-6c3c-9abb-5380-6de702a56710' = Carnegie Mellon University"
   ]
  },
  {
   "cell_type": "code",
   "execution_count": 28,
   "metadata": {},
   "outputs": [
    {
     "data": {
      "text/html": [
       "<div>\n",
       "<style>\n",
       "    .dataframe thead tr:only-child th {\n",
       "        text-align: right;\n",
       "    }\n",
       "\n",
       "    .dataframe thead th {\n",
       "        text-align: left;\n",
       "    }\n",
       "\n",
       "    .dataframe tbody tr th {\n",
       "        vertical-align: top;\n",
       "    }\n",
       "</style>\n",
       "<table border=\"1\" class=\"dataframe\">\n",
       "  <thead>\n",
       "    <tr style=\"text-align: right;\">\n",
       "      <th></th>\n",
       "      <th>person_uuid</th>\n",
       "      <th>org_uuid</th>\n",
       "      <th>institution_uuid</th>\n",
       "      <th>first_name</th>\n",
       "      <th>last_name</th>\n",
       "    </tr>\n",
       "  </thead>\n",
       "  <tbody>\n",
       "    <tr>\n",
       "      <th>401</th>\n",
       "      <td>02ae4657-5079-3696-32e5-a9217773d45d</td>\n",
       "      <td>2fcb5978-8f30-563e-eb74-d0aa35138a6e</td>\n",
       "      <td>94a74e17-c5e4-f996-b2b0-4c9d4db492db</td>\n",
       "      <td>Jim</td>\n",
       "      <td>Barnett</td>\n",
       "    </tr>\n",
       "  </tbody>\n",
       "</table>\n",
       "</div>"
      ],
      "text/plain": [
       "                              person_uuid  \\\n",
       "401  02ae4657-5079-3696-32e5-a9217773d45d   \n",
       "\n",
       "                                 org_uuid  \\\n",
       "401  2fcb5978-8f30-563e-eb74-d0aa35138a6e   \n",
       "\n",
       "                         institution_uuid first_name last_name  \n",
       "401  94a74e17-c5e4-f996-b2b0-4c9d4db492db        Jim   Barnett  "
      ]
     },
     "execution_count": 28,
     "metadata": {},
     "output_type": "execute_result"
    }
   ],
   "source": [
    "institutions_df[institutions_df['institution_uuid']=='94a74e17-c5e4-f996-b2b0-4c9d4db492db'].head(1)\n",
    "# '94a74e17-c5e4-f996-b2b0-4c9d4db492db' = Stanford Business School"
   ]
  },
  {
   "cell_type": "code",
   "execution_count": 29,
   "metadata": {},
   "outputs": [
    {
     "data": {
      "text/html": [
       "<div>\n",
       "<style>\n",
       "    .dataframe thead tr:only-child th {\n",
       "        text-align: right;\n",
       "    }\n",
       "\n",
       "    .dataframe thead th {\n",
       "        text-align: left;\n",
       "    }\n",
       "\n",
       "    .dataframe tbody tr th {\n",
       "        vertical-align: top;\n",
       "    }\n",
       "</style>\n",
       "<table border=\"1\" class=\"dataframe\">\n",
       "  <thead>\n",
       "    <tr style=\"text-align: right;\">\n",
       "      <th></th>\n",
       "      <th>person_uuid</th>\n",
       "      <th>org_uuid</th>\n",
       "      <th>institution_uuid</th>\n",
       "      <th>first_name</th>\n",
       "      <th>last_name</th>\n",
       "    </tr>\n",
       "  </thead>\n",
       "  <tbody>\n",
       "    <tr>\n",
       "      <th>1</th>\n",
       "      <td>00026df9-9254-269d-40b1-549e9529550d</td>\n",
       "      <td>d2d0cb83-b874-c5d7-c7f7-fb77613cc95b</td>\n",
       "      <td>bda6a1fb-62b4-a091-42c4-b127539e50cd</td>\n",
       "      <td>Theo</td>\n",
       "      <td>Koutroukides</td>\n",
       "    </tr>\n",
       "  </tbody>\n",
       "</table>\n",
       "</div>"
      ],
      "text/plain": [
       "                            person_uuid                              org_uuid  \\\n",
       "1  00026df9-9254-269d-40b1-549e9529550d  d2d0cb83-b874-c5d7-c7f7-fb77613cc95b   \n",
       "\n",
       "                       institution_uuid first_name     last_name  \n",
       "1  bda6a1fb-62b4-a091-42c4-b127539e50cd       Theo  Koutroukides  "
      ]
     },
     "execution_count": 29,
     "metadata": {},
     "output_type": "execute_result"
    }
   ],
   "source": [
    "institutions_df[institutions_df['institution_uuid']=='bda6a1fb-62b4-a091-42c4-b127539e50cd'].head(1)\n",
    "# 'bda6a1fb-62b4-a091-42c4-b127539e50cd' = Cambridge University"
   ]
  },
  {
   "cell_type": "markdown",
   "metadata": {},
   "source": [
    "**Next Step...**\n",
    "\n",
    "We will assign an Institution Name in place of the unique ID given to us by CrunchBase. The reason we do this is so we can easily filter the dataframe in the future when we only want founders who attended these institutions."
   ]
  },
  {
   "cell_type": "code",
   "execution_count": 30,
   "metadata": {},
   "outputs": [],
   "source": [
    "founders_df_raw.loc[founders_df_raw['institution_uuid']==t10_inst[0], 'institution_uuid'] = 'Stanford'\n",
    "founders_df_raw.loc[founders_df_raw['institution_uuid']==t10_inst[1], 'institution_uuid'] = 'MIT'\n",
    "founders_df_raw.loc[founders_df_raw['institution_uuid']==t10_inst[2], 'institution_uuid'] = 'Berkeley'\n",
    "founders_df_raw.loc[founders_df_raw['institution_uuid']==t10_inst[3], 'institution_uuid'] = 'Harvard'\n",
    "founders_df_raw.loc[founders_df_raw['institution_uuid']==t10_inst[4], 'institution_uuid'] = 'Harvard(B)'\n",
    "founders_df_raw.loc[founders_df_raw['institution_uuid']==t10_inst[5], 'institution_uuid'] = 'Tel Aviv'\n",
    "founders_df_raw.loc[founders_df_raw['institution_uuid']==t10_inst[6], 'institution_uuid'] = 'Cornell'\n",
    "founders_df_raw.loc[founders_df_raw['institution_uuid']==t10_inst[7], 'institution_uuid'] = 'UPenn'\n",
    "founders_df_raw.loc[founders_df_raw['institution_uuid']==t10_inst[8], 'institution_uuid'] = 'Yale'\n",
    "founders_df_raw.loc[founders_df_raw['institution_uuid']==t10_inst[9], 'institution_uuid'] = 'UPenn(B)'\n",
    "# Other institutions found\n",
    "founders_df_raw.loc[founders_df_raw['institution_uuid']=='8d297d1e-3e3d-fadd-2963-57e0a40bff2a', 'institution_uuid'] = 'Columbia'\n",
    "founders_df_raw.loc[founders_df_raw['institution_uuid']=='6cca2a58-6c3c-9abb-5380-6de702a56710', 'institution_uuid'] = 'Carnegie'\n",
    "founders_df_raw.loc[founders_df_raw['institution_uuid']=='94a74e17-c5e4-f996-b2b0-4c9d4db492db', 'institution_uuid'] = 'Stanford(B)'\n",
    "founders_df_raw.loc[founders_df_raw['institution_uuid']=='bda6a1fb-62b4-a091-42c4-b127539e50cd', 'institution_uuid'] = 'Cambridge'"
   ]
  },
  {
   "cell_type": "markdown",
   "metadata": {},
   "source": [
    "**Looking at the Top 10 Institutions again...**"
   ]
  },
  {
   "cell_type": "code",
   "execution_count": 31,
   "metadata": {},
   "outputs": [
    {
     "data": {
      "text/plain": [
       "Stanford      1368\n",
       "MIT            966\n",
       "Berkeley       750\n",
       "Harvard        740\n",
       "Harvard(B)     678\n",
       "Tel Aviv       505\n",
       "Cornell        487\n",
       "UPenn(B)       431\n",
       "UPenn          405\n",
       "Columbia       383\n",
       "Name: institution_uuid, dtype: int64"
      ]
     },
     "execution_count": 31,
     "metadata": {},
     "output_type": "execute_result"
    }
   ],
   "source": [
    "institutions_df = founders_df_raw.groupby(['person_uuid','org_uuid','institution_uuid'],as_index=False).agg({'first_name':'first','last_name':'first'})\n",
    "institutions_df['institution_uuid'].value_counts().head(10)"
   ]
  },
  {
   "cell_type": "markdown",
   "metadata": {},
   "source": [
    "**Plotting these values results in...**"
   ]
  },
  {
   "cell_type": "code",
   "execution_count": 32,
   "metadata": {},
   "outputs": [
    {
     "data": {
      "text/plain": [
       "Text(0.5,0,'Institution attended')"
      ]
     },
     "execution_count": 32,
     "metadata": {},
     "output_type": "execute_result"
    },
    {
     "data": {
      "image/png": "[encoded data removed]",
      "text/plain": [
       "<matplotlib.figure.Figure at 0x109e35470>"
      ]
     },
     "metadata": {},
     "output_type": "display_data"
    }
   ],
   "source": [
    "institutions_df['institution_uuid'].value_counts().head(10).plot.bar(figsize=(10,5))\n",
    "plt.ylabel(\"Count\")\n",
    "plt.title(\"Top Institutions attended by founders\")\n",
    "plt.xlabel(\"Institution attended\")"
   ]
  },
  {
   "cell_type": "markdown",
   "metadata": {},
   "source": [
    "**Next Piece of Analysis...** \n",
    "\n",
    "This analysis will involve looking at the institutions this particular group of founders attended. We want to see whether the institution they attended differs for each of the Top 3 Highest Degree Types - Masters, Bachelors, PhD.\n",
    "\n",
    "## Analysing Institutions of founders based on Highest Degree Achieved"
   ]
  },
  {
   "cell_type": "markdown",
   "metadata": {},
   "source": [
    "To do this analysis we will have to group these founders based on their:\n",
    "- unique person id (person_uuid)\n",
    "- unique id of the startup they founded (org_uuid)\n",
    "- unique id of the institution that they attended (institution_uuid)\n",
    "\n",
    "We are then able to aggergate the first instance of the Highest Degree of the founder.\n",
    "\n",
    "We will be looking at the 3 most popular degree types again for our analysis - **Bachelors, Masters, PhD**\n",
    "\n",
    "**Combining business schools into institutions...** \n",
    "\n",
    "We are doing this because we want to show the institutions as a whole, not the separate schools within them."
   ]
  },
  {
   "cell_type": "code",
   "execution_count": 33,
   "metadata": {},
   "outputs": [
    {
     "data": {
      "text/plain": [
       "(41044, 4)"
      ]
     },
     "execution_count": 33,
     "metadata": {},
     "output_type": "execute_result"
    }
   ],
   "source": [
    "# Combining Business Schools to Overall Institutions\n",
    "founders_df_raw.loc[founders_df_raw['institution_uuid']=='Harvard(B)','institution_uuid'] = 'Harvard'\n",
    "founders_df_raw.loc[founders_df_raw['institution_uuid']=='Stanford(B)','institution_uuid'] = 'Stanford'\n",
    "founders_df_raw.loc[founders_df_raw['institution_uuid']=='UPenn(B)','institution_uuid'] = 'UPenn'\n",
    "\n",
    "# grouping the founders by their unique person id\n",
    "degrees_df = founders_df_raw.groupby(['person_uuid','org_uuid','institution_uuid'],as_index=False).agg({'Highest_Degree':'first'})\n",
    "degrees_df.shape"
   ]
  },
  {
   "cell_type": "markdown",
   "metadata": {},
   "source": [
    "### 1. Bachelors\n",
    "\n",
    "First we will look at the top 5 institutions of founders who have attained a Bachelors as their Highest Degree."
   ]
  },
  {
   "cell_type": "code",
   "execution_count": 34,
   "metadata": {},
   "outputs": [
    {
     "data": {
      "text/html": [
       "<div>\n",
       "<style>\n",
       "    .dataframe thead tr:only-child th {\n",
       "        text-align: right;\n",
       "    }\n",
       "\n",
       "    .dataframe thead th {\n",
       "        text-align: left;\n",
       "    }\n",
       "\n",
       "    .dataframe tbody tr th {\n",
       "        vertical-align: top;\n",
       "    }\n",
       "</style>\n",
       "<table border=\"1\" class=\"dataframe\">\n",
       "  <thead>\n",
       "    <tr style=\"text-align: right;\">\n",
       "      <th></th>\n",
       "      <th>person_uuid</th>\n",
       "      <th>org_uuid</th>\n",
       "      <th>institution_uuid</th>\n",
       "      <th>Highest_Degree</th>\n",
       "    </tr>\n",
       "  </thead>\n",
       "  <tbody>\n",
       "    <tr>\n",
       "      <th>2</th>\n",
       "      <td>000497ac-d3f9-7969-6c8b-b4050c8efc04</td>\n",
       "      <td>14658850-0cc9-15f8-62f3-a8c532ea6c61</td>\n",
       "      <td>922c1428-93c2-8e1e-cb37-327b83824426</td>\n",
       "      <td>Bachelors</td>\n",
       "    </tr>\n",
       "    <tr>\n",
       "      <th>6</th>\n",
       "      <td>00065f25-101a-bfe2-d79c-a172af342c70</td>\n",
       "      <td>6663f9d3-e6ab-348f-66c7-cafc00ce01a8</td>\n",
       "      <td>1fe3a91c-1f94-fecb-3774-b45618c9e4fa</td>\n",
       "      <td>Bachelors</td>\n",
       "    </tr>\n",
       "    <tr>\n",
       "      <th>7</th>\n",
       "      <td>00065f25-101a-bfe2-d79c-a172af342c70</td>\n",
       "      <td>a1102c6c-1bc4-b6aa-c5f2-6c34bd4b2370</td>\n",
       "      <td>1fe3a91c-1f94-fecb-3774-b45618c9e4fa</td>\n",
       "      <td>Bachelors</td>\n",
       "    </tr>\n",
       "    <tr>\n",
       "      <th>8</th>\n",
       "      <td>000792fb-3022-cac3-eea5-a93a49150727</td>\n",
       "      <td>7b224a36-b7b4-d02f-bf76-b4ac9ba085ca</td>\n",
       "      <td>8fea5416-d418-ede2-3a45-43507decf319</td>\n",
       "      <td>Bachelors</td>\n",
       "    </tr>\n",
       "    <tr>\n",
       "      <th>9</th>\n",
       "      <td>00082be1-4c28-c41f-6147-92d0e12629c8</td>\n",
       "      <td>000ad7a8-b868-f301-5f00-2a3361288fc9</td>\n",
       "      <td>15ef87ba-aa17-b1ed-6542-96b1e92663ee</td>\n",
       "      <td>Bachelors</td>\n",
       "    </tr>\n",
       "  </tbody>\n",
       "</table>\n",
       "</div>"
      ],
      "text/plain": [
       "                            person_uuid                              org_uuid  \\\n",
       "2  000497ac-d3f9-7969-6c8b-b4050c8efc04  14658850-0cc9-15f8-62f3-a8c532ea6c61   \n",
       "6  00065f25-101a-bfe2-d79c-a172af342c70  6663f9d3-e6ab-348f-66c7-cafc00ce01a8   \n",
       "7  00065f25-101a-bfe2-d79c-a172af342c70  a1102c6c-1bc4-b6aa-c5f2-6c34bd4b2370   \n",
       "8  000792fb-3022-cac3-eea5-a93a49150727  7b224a36-b7b4-d02f-bf76-b4ac9ba085ca   \n",
       "9  00082be1-4c28-c41f-6147-92d0e12629c8  000ad7a8-b868-f301-5f00-2a3361288fc9   \n",
       "\n",
       "                       institution_uuid Highest_Degree  \n",
       "2  922c1428-93c2-8e1e-cb37-327b83824426      Bachelors  \n",
       "6  1fe3a91c-1f94-fecb-3774-b45618c9e4fa      Bachelors  \n",
       "7  1fe3a91c-1f94-fecb-3774-b45618c9e4fa      Bachelors  \n",
       "8  8fea5416-d418-ede2-3a45-43507decf319      Bachelors  \n",
       "9  15ef87ba-aa17-b1ed-6542-96b1e92663ee      Bachelors  "
      ]
     },
     "execution_count": 34,
     "metadata": {},
     "output_type": "execute_result"
    }
   ],
   "source": [
    "# using a dataframe mask to filter Highest Degrees that are only Bachelors for our analysis\n",
    "bachelors_founders = degrees_df[degrees_df['Highest_Degree']=='Bachelors']\n",
    "# Setting the dataframe.is_copy to False prevents some warnings from appearing.\n",
    "bachelors_founders.is_copy = False\n",
    "bachelors_founders.head(5) "
   ]
  },
  {
   "cell_type": "markdown",
   "metadata": {},
   "source": [
    "**Value Counts for the top 5 institutions...**"
   ]
  },
  {
   "cell_type": "code",
   "execution_count": 35,
   "metadata": {},
   "outputs": [
    {
     "data": {
      "text/plain": [
       "Stanford    308\n",
       "Berkeley    263\n",
       "Harvard     240\n",
       "UPenn       238\n",
       "Tel Aviv    206\n",
       "Name: institution_uuid, dtype: int64"
      ]
     },
     "execution_count": 35,
     "metadata": {},
     "output_type": "execute_result"
    }
   ],
   "source": [
    "bachelors_founders['institution_uuid'].value_counts().head(5)"
   ]
  },
  {
   "cell_type": "markdown",
   "metadata": {},
   "source": [
    "**Plotting these values results in...**"
   ]
  },
  {
   "cell_type": "code",
   "execution_count": 36,
   "metadata": {},
   "outputs": [
    {
     "data": {
      "text/plain": [
       "Text(0.5,0,'Institution attended')"
      ]
     },
     "execution_count": 36,
     "metadata": {},
     "output_type": "execute_result"
    },
    {
     "data": {
      "image/png": "[encoded data removed]",
      "text/plain": [
       "<matplotlib.figure.Figure at 0x109f21748>"
      ]
     },
     "metadata": {},
     "output_type": "display_data"
    }
   ],
   "source": [
    "bachelors_founders['institution_uuid'].value_counts().head(5).plot.bar(figsize=(10,5))\n",
    "plt.ylabel(\"Count\")\n",
    "plt.title(\"Top 5 Institutions of founders (Bachelors)\")\n",
    "plt.xlabel(\"Institution attended\")"
   ]
  },
  {
   "cell_type": "markdown",
   "metadata": {},
   "source": [
    "It was interesting to see the most popular institutions for the founders who had attained a Bachelors as their Highest Degree. Tel Aviv was an interesting university to see in this top 5.\n",
    "\n",
    "### 2. Masters\n",
    "\n",
    "First we will look at the top 5 institutions of founders who have attained a Masters as their Highest Degree."
   ]
  },
  {
   "cell_type": "code",
   "execution_count": 37,
   "metadata": {},
   "outputs": [
    {
     "data": {
      "text/html": [
       "<div>\n",
       "<style>\n",
       "    .dataframe thead tr:only-child th {\n",
       "        text-align: right;\n",
       "    }\n",
       "\n",
       "    .dataframe thead th {\n",
       "        text-align: left;\n",
       "    }\n",
       "\n",
       "    .dataframe tbody tr th {\n",
       "        vertical-align: top;\n",
       "    }\n",
       "</style>\n",
       "<table border=\"1\" class=\"dataframe\">\n",
       "  <thead>\n",
       "    <tr style=\"text-align: right;\">\n",
       "      <th></th>\n",
       "      <th>person_uuid</th>\n",
       "      <th>org_uuid</th>\n",
       "      <th>institution_uuid</th>\n",
       "      <th>Highest_Degree</th>\n",
       "    </tr>\n",
       "  </thead>\n",
       "  <tbody>\n",
       "    <tr>\n",
       "      <th>3</th>\n",
       "      <td>000575b8-eac0-66b1-2a16-03c08c2b9f66</td>\n",
       "      <td>d2de0c01-397d-b4f1-8575-9b5e74e6b6b8</td>\n",
       "      <td>1eab62d2-15d9-0db7-930f-2aa77d4688e1</td>\n",
       "      <td>Masters</td>\n",
       "    </tr>\n",
       "    <tr>\n",
       "      <th>4</th>\n",
       "      <td>0005da7e-2311-9002-7756-ed2f2734e057</td>\n",
       "      <td>2aec3826-0f75-1f21-326a-5dbca9d5ff15</td>\n",
       "      <td>9850bb11-7d5a-85c7-349c-a8977ef7fbac</td>\n",
       "      <td>Masters</td>\n",
       "    </tr>\n",
       "    <tr>\n",
       "      <th>5</th>\n",
       "      <td>0005da7e-2311-9002-7756-ed2f2734e057</td>\n",
       "      <td>bd4c4326-ef34-d5d9-b689-0c0b0a6ba03c</td>\n",
       "      <td>9850bb11-7d5a-85c7-349c-a8977ef7fbac</td>\n",
       "      <td>Masters</td>\n",
       "    </tr>\n",
       "    <tr>\n",
       "      <th>17</th>\n",
       "      <td>00104afd-01f7-d1f0-90af-fff7af4a39ad</td>\n",
       "      <td>a8708f75-09ed-35f3-b346-272131dc977f</td>\n",
       "      <td>5339b107-c747-1fd1-62e1-bcd98ba18ecc</td>\n",
       "      <td>Masters</td>\n",
       "    </tr>\n",
       "    <tr>\n",
       "      <th>21</th>\n",
       "      <td>00163642-b6d8-2548-f825-a3e814a49a7f</td>\n",
       "      <td>b6959be1-c3a2-4147-25ef-4b100615c7fe</td>\n",
       "      <td>ab588ecb-9698-9009-de26-f4a57a3756c2</td>\n",
       "      <td>Masters</td>\n",
       "    </tr>\n",
       "  </tbody>\n",
       "</table>\n",
       "</div>"
      ],
      "text/plain": [
       "                             person_uuid  \\\n",
       "3   000575b8-eac0-66b1-2a16-03c08c2b9f66   \n",
       "4   0005da7e-2311-9002-7756-ed2f2734e057   \n",
       "5   0005da7e-2311-9002-7756-ed2f2734e057   \n",
       "17  00104afd-01f7-d1f0-90af-fff7af4a39ad   \n",
       "21  00163642-b6d8-2548-f825-a3e814a49a7f   \n",
       "\n",
       "                                org_uuid  \\\n",
       "3   d2de0c01-397d-b4f1-8575-9b5e74e6b6b8   \n",
       "4   2aec3826-0f75-1f21-326a-5dbca9d5ff15   \n",
       "5   bd4c4326-ef34-d5d9-b689-0c0b0a6ba03c   \n",
       "17  a8708f75-09ed-35f3-b346-272131dc977f   \n",
       "21  b6959be1-c3a2-4147-25ef-4b100615c7fe   \n",
       "\n",
       "                        institution_uuid Highest_Degree  \n",
       "3   1eab62d2-15d9-0db7-930f-2aa77d4688e1        Masters  \n",
       "4   9850bb11-7d5a-85c7-349c-a8977ef7fbac        Masters  \n",
       "5   9850bb11-7d5a-85c7-349c-a8977ef7fbac        Masters  \n",
       "17  5339b107-c747-1fd1-62e1-bcd98ba18ecc        Masters  \n",
       "21  ab588ecb-9698-9009-de26-f4a57a3756c2        Masters  "
      ]
     },
     "execution_count": 37,
     "metadata": {},
     "output_type": "execute_result"
    }
   ],
   "source": [
    "masters_founders_df = degrees_df[degrees_df['Highest_Degree']=='Masters']\n",
    "masters_founders_df.is_copy = False\n",
    "masters_founders_df.head(5) "
   ]
  },
  {
   "cell_type": "markdown",
   "metadata": {},
   "source": [
    "**Value Counts for the top 5 institutions...**"
   ]
  },
  {
   "cell_type": "code",
   "execution_count": 38,
   "metadata": {},
   "outputs": [
    {
     "data": {
      "text/plain": [
       "Stanford    1012\n",
       "Harvard      925\n",
       "UPenn        473\n",
       "MIT          426\n",
       "Berkeley     266\n",
       "Name: institution_uuid, dtype: int64"
      ]
     },
     "execution_count": 38,
     "metadata": {},
     "output_type": "execute_result"
    }
   ],
   "source": [
    "masters_founders_df['institution_uuid'].value_counts().head(5)"
   ]
  },
  {
   "cell_type": "markdown",
   "metadata": {},
   "source": [
    "**Plotting these values results in...**"
   ]
  },
  {
   "cell_type": "code",
   "execution_count": 39,
   "metadata": {},
   "outputs": [
    {
     "data": {
      "text/plain": [
       "Text(0.5,0,'Institution attended')"
      ]
     },
     "execution_count": 39,
     "metadata": {},
     "output_type": "execute_result"
    },
    {
     "data": {
      "image/png": "[encoded data removed]",
      "text/plain": [
       "<matplotlib.figure.Figure at 0x10a79b4a8>"
      ]
     },
     "metadata": {},
     "output_type": "display_data"
    }
   ],
   "source": [
    "masters_founders_df['institution_uuid'].value_counts().head(5).plot.bar(figsize=(10,5))\n",
    "plt.ylabel(\"Count\")\n",
    "plt.title(\"Top 5 Institutions of founders (Masters)\")\n",
    "plt.xlabel(\"Institution attended\")"
   ]
  },
  {
   "cell_type": "markdown",
   "metadata": {},
   "source": [
    "It was interesting to see the change of orders of institutions, however, it can be easily seen that Stanford and Harvard still dominate.\n",
    "\n",
    "### 3. PhD\n",
    "\n",
    "First we will look at the top 5 institutions of founders who have attained a PhD as their Highest Degree."
   ]
  },
  {
   "cell_type": "code",
   "execution_count": 40,
   "metadata": {},
   "outputs": [
    {
     "data": {
      "text/html": [
       "<div>\n",
       "<style>\n",
       "    .dataframe thead tr:only-child th {\n",
       "        text-align: right;\n",
       "    }\n",
       "\n",
       "    .dataframe thead th {\n",
       "        text-align: left;\n",
       "    }\n",
       "\n",
       "    .dataframe tbody tr th {\n",
       "        vertical-align: top;\n",
       "    }\n",
       "</style>\n",
       "<table border=\"1\" class=\"dataframe\">\n",
       "  <thead>\n",
       "    <tr style=\"text-align: right;\">\n",
       "      <th></th>\n",
       "      <th>person_uuid</th>\n",
       "      <th>org_uuid</th>\n",
       "      <th>institution_uuid</th>\n",
       "      <th>Highest_Degree</th>\n",
       "    </tr>\n",
       "  </thead>\n",
       "  <tbody>\n",
       "    <tr>\n",
       "      <th>0</th>\n",
       "      <td>00026df9-9254-269d-40b1-549e9529550d</td>\n",
       "      <td>d2d0cb83-b874-c5d7-c7f7-fb77613cc95b</td>\n",
       "      <td>3e893a4c-f191-b42c-5dab-4785e07d3c75</td>\n",
       "      <td>PhD</td>\n",
       "    </tr>\n",
       "    <tr>\n",
       "      <th>1</th>\n",
       "      <td>00026df9-9254-269d-40b1-549e9529550d</td>\n",
       "      <td>d2d0cb83-b874-c5d7-c7f7-fb77613cc95b</td>\n",
       "      <td>Cambridge</td>\n",
       "      <td>PhD</td>\n",
       "    </tr>\n",
       "    <tr>\n",
       "      <th>13</th>\n",
       "      <td>0009f5cb-b369-880a-9638-f4eece52f418</td>\n",
       "      <td>0c430e2d-0b76-258c-1d5e-b973cc3cd827</td>\n",
       "      <td>97649ea8-30db-0037-7904-32574f4f7129</td>\n",
       "      <td>PhD</td>\n",
       "    </tr>\n",
       "    <tr>\n",
       "      <th>14</th>\n",
       "      <td>0009f5cb-b369-880a-9638-f4eece52f418</td>\n",
       "      <td>0c430e2d-0b76-258c-1d5e-b973cc3cd827</td>\n",
       "      <td>ef948bad-e493-1056-0eda-e17bd1f6a60c</td>\n",
       "      <td>PhD</td>\n",
       "    </tr>\n",
       "    <tr>\n",
       "      <th>15</th>\n",
       "      <td>0009f5cb-b369-880a-9638-f4eece52f418</td>\n",
       "      <td>d4180d8b-c189-c227-8e7e-e274133023a4</td>\n",
       "      <td>97649ea8-30db-0037-7904-32574f4f7129</td>\n",
       "      <td>PhD</td>\n",
       "    </tr>\n",
       "  </tbody>\n",
       "</table>\n",
       "</div>"
      ],
      "text/plain": [
       "                             person_uuid  \\\n",
       "0   00026df9-9254-269d-40b1-549e9529550d   \n",
       "1   00026df9-9254-269d-40b1-549e9529550d   \n",
       "13  0009f5cb-b369-880a-9638-f4eece52f418   \n",
       "14  0009f5cb-b369-880a-9638-f4eece52f418   \n",
       "15  0009f5cb-b369-880a-9638-f4eece52f418   \n",
       "\n",
       "                                org_uuid  \\\n",
       "0   d2d0cb83-b874-c5d7-c7f7-fb77613cc95b   \n",
       "1   d2d0cb83-b874-c5d7-c7f7-fb77613cc95b   \n",
       "13  0c430e2d-0b76-258c-1d5e-b973cc3cd827   \n",
       "14  0c430e2d-0b76-258c-1d5e-b973cc3cd827   \n",
       "15  d4180d8b-c189-c227-8e7e-e274133023a4   \n",
       "\n",
       "                        institution_uuid Highest_Degree  \n",
       "0   3e893a4c-f191-b42c-5dab-4785e07d3c75            PhD  \n",
       "1                              Cambridge            PhD  \n",
       "13  97649ea8-30db-0037-7904-32574f4f7129            PhD  \n",
       "14  ef948bad-e493-1056-0eda-e17bd1f6a60c            PhD  \n",
       "15  97649ea8-30db-0037-7904-32574f4f7129            PhD  "
      ]
     },
     "execution_count": 40,
     "metadata": {},
     "output_type": "execute_result"
    }
   ],
   "source": [
    "phd_founders = degrees_df[degrees_df['Highest_Degree']=='PhD']\n",
    "phd_founders.head(5) "
   ]
  },
  {
   "cell_type": "markdown",
   "metadata": {},
   "source": [
    "**Value Counts for the top 5 institutions...**"
   ]
  },
  {
   "cell_type": "code",
   "execution_count": 41,
   "metadata": {},
   "outputs": [
    {
     "data": {
      "text/plain": [
       "MIT          315\n",
       "Stanford     308\n",
       "Berkeley     190\n",
       "Harvard      165\n",
       "Cambridge     95\n",
       "Name: institution_uuid, dtype: int64"
      ]
     },
     "execution_count": 41,
     "metadata": {},
     "output_type": "execute_result"
    }
   ],
   "source": [
    "phd_founders['institution_uuid'].value_counts().head(5)"
   ]
  },
  {
   "cell_type": "markdown",
   "metadata": {},
   "source": [
    "**Plotting these values results in...**"
   ]
  },
  {
   "cell_type": "code",
   "execution_count": 42,
   "metadata": {},
   "outputs": [
    {
     "data": {
      "text/plain": [
       "Text(0.5,0,'Institution attended')"
      ]
     },
     "execution_count": 42,
     "metadata": {},
     "output_type": "execute_result"
    },
    {
     "data": {
      "image/png": "[encoded data removed]",
      "text/plain": [
       "<matplotlib.figure.Figure at 0x1a0dad1160>"
      ]
     },
     "metadata": {},
     "output_type": "display_data"
    }
   ],
   "source": [
    "phd_founders['institution_uuid'].value_counts().head(5).plot.bar(figsize=(10,5))\n",
    "plt.ylabel(\"Count\")\n",
    "plt.title(\"Top 5 Institutions of founders (PhD)\")\n",
    "plt.xlabel(\"Institution attended\")"
   ]
  },
  {
   "cell_type": "markdown",
   "metadata": {},
   "source": [
    "It was interesting to see that MIT is the most attended institution for founders who acheived a PhD as their Highest Degree\n",
    "\n",
    "## Ratio of Bachelors, Masters and PhD for Top Institutions\n",
    "\n",
    "Stacked bar chart that we used for our presentation is below. We wanted to see the split in Bachelors, Masters and PhD for each of the Top 5 institutions.\n",
    "The Top 5 institutions were (when Business Schools taken into account):\n",
    "- Stanford\n",
    "- Harvard\n",
    "- MIT\n",
    "- UPenn\n",
    "- Berkeley\n",
    "\n",
    "We found these values from the filtered dataframes above and inputted them into independent arrays."
   ]
  },
  {
   "cell_type": "code",
   "execution_count": 43,
   "metadata": {},
   "outputs": [
    {
     "data": {
      "text/plain": [
       "Stanford                                308\n",
       "Berkeley                                263\n",
       "Harvard                                 240\n",
       "UPenn                                   238\n",
       "Tel Aviv                                206\n",
       "MIT                                     200\n",
       "Cornell                                 160\n",
       "Yale                                    145\n",
       "1b483736-ba8b-3bcc-df47-403f4ac73848    125\n",
       "ea148ca6-363d-04e4-c6eb-4219a3c5a076    124\n",
       "Name: institution_uuid, dtype: int64"
      ]
     },
     "execution_count": 43,
     "metadata": {},
     "output_type": "execute_result"
    }
   ],
   "source": [
    "bachelors_founders['institution_uuid'].value_counts().head(10)"
   ]
  },
  {
   "cell_type": "code",
   "execution_count": 44,
   "metadata": {},
   "outputs": [
    {
     "data": {
      "text/plain": [
       "Stanford                                1012\n",
       "Harvard                                  925\n",
       "UPenn                                    473\n",
       "MIT                                      426\n",
       "Berkeley                                 266\n",
       "Tel Aviv                                 246\n",
       "Cornell                                  220\n",
       "ec74a4ae-156b-5cba-82be-7922964ca376     204\n",
       "Columbia                                 190\n",
       "63165c75-96e3-b8d4-361b-add2d7569952     180\n",
       "Name: institution_uuid, dtype: int64"
      ]
     },
     "execution_count": 44,
     "metadata": {},
     "output_type": "execute_result"
    }
   ],
   "source": [
    "masters_founders_df['institution_uuid'].value_counts().head(10)"
   ]
  },
  {
   "cell_type": "code",
   "execution_count": 45,
   "metadata": {},
   "outputs": [
    {
     "data": {
      "text/plain": [
       "MIT          315\n",
       "Stanford     308\n",
       "Berkeley     190\n",
       "Harvard      165\n",
       "Cambridge     95\n",
       "Name: institution_uuid, dtype: int64"
      ]
     },
     "execution_count": 45,
     "metadata": {},
     "output_type": "execute_result"
    }
   ],
   "source": [
    "phd_founders['institution_uuid'].value_counts().head(5)"
   ]
  },
  {
   "cell_type": "markdown",
   "metadata": {},
   "source": [
    "**Plotting these values results in...**"
   ]
  },
  {
   "cell_type": "code",
   "execution_count": 46,
   "metadata": {},
   "outputs": [
    {
     "data": {
      "image/png": "[encoded data removed]",
      "text/plain": [
       "<matplotlib.figure.Figure at 0x1a0ef15518>"
      ]
     },
     "metadata": {},
     "output_type": "display_data"
    }
   ],
   "source": [
    "plt.figure(figsize=(15,7))\n",
    "\n",
    "# The first values in each of these arrays are for Stanford, 2nd = Harvard, 3rd = MIT, 4th = UPenn, 5th = Berkeley\n",
    "# We entered these from the value_count series above.\n",
    "Bach_vals = np.array((308,240,200,263,263))\n",
    "Mast_vals = np.array((1062,978,426,501,266))\n",
    "phd_vals = np.array((309,166,315,45,190))\n",
    "\n",
    "ind = np.arange(5)    \n",
    "width = 0.35    \n",
    "\n",
    "p1 = plt.bar(ind, Bach_vals, width, color='#329900', edgecolor=\"none\")\n",
    "p2 = plt.bar(ind, Mast_vals, width,  bottom=Bach_vals, color='#ff9c3a', edgecolor=\"none\")\n",
    "p3 = plt.bar(ind, phd_vals, width,  bottom=Bach_vals+Mast_vals, color='#3947ff', edgecolor=\"none\")\n",
    "\n",
    "plt.ylabel('Number of Founders')\n",
    "plt.title('Highest Degrees in Top 5 Institutions')\n",
    "plt.xticks(ind, ('Stanford', 'Harvard', 'MIT', 'UPenn', 'Berkeley'))\n",
    "plt.legend((p1[0], p2[0], p3[0]), ('Bachelors', 'Masters', \"Phd\"), frameon=True)\n",
    "\n",
    "plt.show()"
   ]
  },
  {
   "cell_type": "markdown",
   "metadata": {},
   "source": [
    "**In Conclusion from this...**\n",
    "\n",
    "This visualisation effectively shows the split of degree types in the Top 5 Institutions. It was interesting to see that MIT has a higher amount of PhD's being attained in comparison to UPenn for instance. We already knew this from our previous analysis but this visualisation shows all our previous analysis ideally. We used this in our presentation for this reason. Of course, from it, we are able to see that Stanford and Harvard dominate. From one glance at this visualisation you are also able to see that they are all American institutions. This is no surprise as our data is dominated by American Founders and Organisations.\n",
    "\n",
    "## Saving the adjusted dataframe in pickle file\n",
    "- Only updated institution_uuid's for universities we decoded. 14 in Total"
   ]
  },
  {
   "cell_type": "code",
   "execution_count": 47,
   "metadata": {},
   "outputs": [
    {
     "data": {
      "text/plain": [
       "(44711, 55)"
      ]
     },
     "execution_count": 47,
     "metadata": {},
     "output_type": "execute_result"
    }
   ],
   "source": [
    "founders_df_raw.to_pickle(\"../../data/analysis/200_analysis_RQ2.pkl\")\n",
    "founders_df_raw.shape"
   ]
  },
  {
   "cell_type": "code",
   "execution_count": null,
   "metadata": {},
   "outputs": [],
   "source": []
  }
 ],
 "metadata": {
  "kernelspec": {
   "display_name": "Python 3",
   "language": "python",
   "name": "python3"
  },
  "language_info": {
   "codemirror_mode": {
    "name": "ipython",
    "version": 3
   },
   "file_extension": ".py",
   "mimetype": "text/x-python",
   "name": "python",
   "nbconvert_exporter": "python",
   "pygments_lexer": "ipython3",
   "version": "3.6.3"
  }
 },
 "nbformat": 4,
 "nbformat_minor": 2
}
