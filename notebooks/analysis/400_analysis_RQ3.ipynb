{
 "cells": [
  {
   "cell_type": "markdown",
   "metadata": {},
   "source": [
    "# 400_analysis_RQ3\n",
    "\n",
    "## Purpose\n",
    "In this notebook we will be doing the basic analysis of our second RQ:\n",
    "\n",
    "- \"Does past experience of a founder effect the amount of funding received by a startup?\"\n",
    "\n",
    "We proceed to analyse the following details:\n",
    "- Gender analysis of experienced and non-experienced founders\n",
    "- Average funding received by experienced versus non-experienced founders\n",
    "- Percentage change of funding for experienced founders\n",
    "- 1st startup of experienced founder versus non-experienced founder only startup.\n",
    "\n",
    "\n",
    "## Datasets\n",
    "* _Input_: 300_analysis_RQ2.pkl\n",
    "* _Output_: None"
   ]
  },
  {
   "cell_type": "code",
   "execution_count": 1,
   "metadata": {},
   "outputs": [],
   "source": [
    "import os\n",
    "import sys\n",
    "import pandas as pd\n",
    "import numpy as np\n",
    "import matplotlib.pylab as plt\n",
    "from matplotlib import cm\n",
    "import seaborn as sns\n",
    "import networkx as nx\n",
    "from matplotlib.ticker import FuncFormatter\n",
    "pd.set_option('display.max_columns', None)\n",
    "module_path = os.path.abspath(os.path.join('../../data/..'))\n",
    "if module_path not in sys.path:\n",
    "    sys.path.append(module_path)\n",
    "%matplotlib inline"
   ]
  },
  {
   "cell_type": "code",
   "execution_count": 2,
   "metadata": {},
   "outputs": [],
   "source": [
    "sns.set_style(\"whitegrid\")\n",
    "sns.set_style(\"ticks\")\n",
    "sns.set_palette(\"muted\")\n",
    "sns.set_context(\"poster\")\n",
    "\n",
    "# Text, lines, and markers...\n",
    "plt.rcParams['text.color'] = 'k'\n",
    "plt.rcParams['axes.labelcolor'] = 'k'\n",
    "plt.rcParams['axes.titlesize'] = 28\n",
    "plt.rcParams['axes.titleweight'] = 'bold'\n",
    "plt.rcParams['axes.labelsize'] = 28\n",
    "plt.rcParams['axes.labelweight'] = 'bold'\n",
    "plt.rcParams['axes.grid'] = True\n",
    "plt.rcParams['xtick.labelsize'] = 22\n",
    "plt.rcParams['ytick.labelsize'] = 22\n",
    "plt.rcParams['lines.markersize'] = 15\n",
    "plt.rcParams['lines.markeredgewidth'] = 1\n",
    "plt.rcParams['lines.linewidth'] = 2\n",
    "plt.rcParams['legend.fontsize'] = 22\n",
    "plt.rcParams['patch.force_edgecolor'] = True"
   ]
  },
  {
   "cell_type": "markdown",
   "metadata": {},
   "source": [
    "## Importing dataset 2\n",
    "\n",
    "This is the same dataset we used for our analysis of RQ2. It contains information about each founder like their education and also details about the startup they founded. As mentioned in previous notebooks, the reason there are multiple person instances in our dataset is because: \n",
    "- A duplicate person instance if they have founded multiple companies.\n",
    "- A duplicate person instance if they have changed positions in the same company.\n",
    "- A duplicate person instance if they have attain another degree/change institution while at the same company.\n",
    "\n",
    "However, we do not see the need of merging these rows together as they would store too much information. Not only this, having the rows seperated makes it easier for our analysis of this RQ when looking at the Highest Degree and Institutions attended by the founders."
   ]
  },
  {
   "cell_type": "code",
   "execution_count": 3,
   "metadata": {},
   "outputs": [
    {
     "data": {
      "text/plain": [
       "(44711, 55)"
      ]
     },
     "execution_count": 3,
     "metadata": {},
     "output_type": "execute_result"
    }
   ],
   "source": [
    "founders_df_raw = pd.read_pickle('../../data/analysis/300_analysis_RQ2.pkl')\n",
    "founders_df_raw.shape"
   ]
  },
  {
   "cell_type": "code",
   "execution_count": 4,
   "metadata": {},
   "outputs": [
    {
     "data": {
      "text/html": [
       "<div>\n",
       "<style>\n",
       "    .dataframe thead tr:only-child th {\n",
       "        text-align: right;\n",
       "    }\n",
       "\n",
       "    .dataframe thead th {\n",
       "        text-align: left;\n",
       "    }\n",
       "\n",
       "    .dataframe tbody tr th {\n",
       "        vertical-align: top;\n",
       "    }\n",
       "</style>\n",
       "<table border=\"1\" class=\"dataframe\">\n",
       "  <thead>\n",
       "    <tr style=\"text-align: right;\">\n",
       "      <th></th>\n",
       "      <th>first_name</th>\n",
       "      <th>last_name</th>\n",
       "      <th>gender</th>\n",
       "      <th>company_name</th>\n",
       "      <th>funding_rounds</th>\n",
       "      <th>funding_total_usd</th>\n",
       "      <th>primary_role</th>\n",
       "      <th>country_code</th>\n",
       "      <th>state_code</th>\n",
       "      <th>city</th>\n",
       "      <th>title</th>\n",
       "      <th>job_type</th>\n",
       "      <th>subject</th>\n",
       "      <th>degree_type</th>\n",
       "      <th>person_uuid</th>\n",
       "      <th>degree_uuid</th>\n",
       "      <th>institution_uuid</th>\n",
       "      <th>org_uuid</th>\n",
       "      <th>Highest_Degree</th>\n",
       "      <th>Administrative Services</th>\n",
       "      <th>Advertising</th>\n",
       "      <th>Agriculture and Farming</th>\n",
       "      <th>Biotechnology</th>\n",
       "      <th>Clothing and Apparel</th>\n",
       "      <th>Commerce and Shopping</th>\n",
       "      <th>Community and Lifestyle</th>\n",
       "      <th>Consumer Goods</th>\n",
       "      <th>Content and Publishing</th>\n",
       "      <th>Design</th>\n",
       "      <th>Education</th>\n",
       "      <th>Energy</th>\n",
       "      <th>Events</th>\n",
       "      <th>Food and Beverage</th>\n",
       "      <th>Government and Military</th>\n",
       "      <th>Hardware</th>\n",
       "      <th>Health Care</th>\n",
       "      <th>Manufacturing</th>\n",
       "      <th>Media and Entertainment</th>\n",
       "      <th>Music and Audio</th>\n",
       "      <th>Natural Resources</th>\n",
       "      <th>Navigation and Mapping</th>\n",
       "      <th>Platforms</th>\n",
       "      <th>Privacy and Security</th>\n",
       "      <th>Professional Services</th>\n",
       "      <th>Real Estate</th>\n",
       "      <th>Sales and Marketing</th>\n",
       "      <th>Science and Engineering</th>\n",
       "      <th>Sports</th>\n",
       "      <th>Sustainability</th>\n",
       "      <th>Transportation</th>\n",
       "      <th>Travel and Tourism</th>\n",
       "      <th>Video</th>\n",
       "      <th>Technology</th>\n",
       "      <th>Finance</th>\n",
       "      <th>Communication</th>\n",
       "    </tr>\n",
       "  </thead>\n",
       "  <tbody>\n",
       "    <tr>\n",
       "      <th>0</th>\n",
       "      <td>Steve</td>\n",
       "      <td>Wozniak</td>\n",
       "      <td>male</td>\n",
       "      <td>Apple</td>\n",
       "      <td>4</td>\n",
       "      <td>6.150250e+09</td>\n",
       "      <td>company</td>\n",
       "      <td>USA</td>\n",
       "      <td>CA</td>\n",
       "      <td>Cupertino</td>\n",
       "      <td>Co-founder</td>\n",
       "      <td>executive</td>\n",
       "      <td>EE &amp; CS</td>\n",
       "      <td>bs</td>\n",
       "      <td>f3abe539-8db3-57e4-0f4d-de54a78eaf68</td>\n",
       "      <td>fe3eb345-b465-84ad-45d7-448f8f7a44e5</td>\n",
       "      <td>Berkeley</td>\n",
       "      <td>7063d087-96b8-2cc1-ee88-c221288acc2a</td>\n",
       "      <td>Bachelors</td>\n",
       "      <td>0</td>\n",
       "      <td>0</td>\n",
       "      <td>0</td>\n",
       "      <td>0</td>\n",
       "      <td>0</td>\n",
       "      <td>1</td>\n",
       "      <td>0</td>\n",
       "      <td>0</td>\n",
       "      <td>0</td>\n",
       "      <td>0</td>\n",
       "      <td>0</td>\n",
       "      <td>0</td>\n",
       "      <td>0</td>\n",
       "      <td>0</td>\n",
       "      <td>0</td>\n",
       "      <td>1</td>\n",
       "      <td>0</td>\n",
       "      <td>0</td>\n",
       "      <td>0</td>\n",
       "      <td>0</td>\n",
       "      <td>0</td>\n",
       "      <td>0</td>\n",
       "      <td>0</td>\n",
       "      <td>0</td>\n",
       "      <td>0</td>\n",
       "      <td>0</td>\n",
       "      <td>0</td>\n",
       "      <td>0</td>\n",
       "      <td>0</td>\n",
       "      <td>0</td>\n",
       "      <td>0</td>\n",
       "      <td>0</td>\n",
       "      <td>0</td>\n",
       "      <td>1</td>\n",
       "      <td>0</td>\n",
       "      <td>0</td>\n",
       "    </tr>\n",
       "    <tr>\n",
       "      <th>1</th>\n",
       "      <td>Kevin</td>\n",
       "      <td>Harvey</td>\n",
       "      <td>male</td>\n",
       "      <td>Apple</td>\n",
       "      <td>4</td>\n",
       "      <td>6.150250e+09</td>\n",
       "      <td>company</td>\n",
       "      <td>USA</td>\n",
       "      <td>CA</td>\n",
       "      <td>Cupertino</td>\n",
       "      <td>Founder</td>\n",
       "      <td>executive</td>\n",
       "      <td>Engineering</td>\n",
       "      <td>bs</td>\n",
       "      <td>e7f5c146-66c5-fba4-64cb-8ffd422899d8</td>\n",
       "      <td>0dee09e8-13b6-50ee-3e17-1343036b2eed</td>\n",
       "      <td>c3144da5-8618-2e95-3a13-60417220da5e</td>\n",
       "      <td>7063d087-96b8-2cc1-ee88-c221288acc2a</td>\n",
       "      <td>Bachelors</td>\n",
       "      <td>0</td>\n",
       "      <td>0</td>\n",
       "      <td>0</td>\n",
       "      <td>0</td>\n",
       "      <td>0</td>\n",
       "      <td>1</td>\n",
       "      <td>0</td>\n",
       "      <td>0</td>\n",
       "      <td>0</td>\n",
       "      <td>0</td>\n",
       "      <td>0</td>\n",
       "      <td>0</td>\n",
       "      <td>0</td>\n",
       "      <td>0</td>\n",
       "      <td>0</td>\n",
       "      <td>1</td>\n",
       "      <td>0</td>\n",
       "      <td>0</td>\n",
       "      <td>0</td>\n",
       "      <td>0</td>\n",
       "      <td>0</td>\n",
       "      <td>0</td>\n",
       "      <td>0</td>\n",
       "      <td>0</td>\n",
       "      <td>0</td>\n",
       "      <td>0</td>\n",
       "      <td>0</td>\n",
       "      <td>0</td>\n",
       "      <td>0</td>\n",
       "      <td>0</td>\n",
       "      <td>0</td>\n",
       "      <td>0</td>\n",
       "      <td>0</td>\n",
       "      <td>1</td>\n",
       "      <td>0</td>\n",
       "      <td>0</td>\n",
       "    </tr>\n",
       "    <tr>\n",
       "      <th>2</th>\n",
       "      <td>Armas</td>\n",
       "      <td>Markkula</td>\n",
       "      <td>male</td>\n",
       "      <td>Apple</td>\n",
       "      <td>4</td>\n",
       "      <td>6.150250e+09</td>\n",
       "      <td>company</td>\n",
       "      <td>USA</td>\n",
       "      <td>CA</td>\n",
       "      <td>Cupertino</td>\n",
       "      <td>Founder</td>\n",
       "      <td>executive</td>\n",
       "      <td>Electrical Engineering</td>\n",
       "      <td>bs</td>\n",
       "      <td>56e8a800-5c37-7599-5eb3-b815aa6acd30</td>\n",
       "      <td>29b2a7bc-4628-0e5d-53d1-d0af77d3de33</td>\n",
       "      <td>867f0af5-a1d0-143d-bbed-5cc252ca40d6</td>\n",
       "      <td>7063d087-96b8-2cc1-ee88-c221288acc2a</td>\n",
       "      <td>Masters</td>\n",
       "      <td>0</td>\n",
       "      <td>0</td>\n",
       "      <td>0</td>\n",
       "      <td>0</td>\n",
       "      <td>0</td>\n",
       "      <td>1</td>\n",
       "      <td>0</td>\n",
       "      <td>0</td>\n",
       "      <td>0</td>\n",
       "      <td>0</td>\n",
       "      <td>0</td>\n",
       "      <td>0</td>\n",
       "      <td>0</td>\n",
       "      <td>0</td>\n",
       "      <td>0</td>\n",
       "      <td>1</td>\n",
       "      <td>0</td>\n",
       "      <td>0</td>\n",
       "      <td>0</td>\n",
       "      <td>0</td>\n",
       "      <td>0</td>\n",
       "      <td>0</td>\n",
       "      <td>0</td>\n",
       "      <td>0</td>\n",
       "      <td>0</td>\n",
       "      <td>0</td>\n",
       "      <td>0</td>\n",
       "      <td>0</td>\n",
       "      <td>0</td>\n",
       "      <td>0</td>\n",
       "      <td>0</td>\n",
       "      <td>0</td>\n",
       "      <td>0</td>\n",
       "      <td>1</td>\n",
       "      <td>0</td>\n",
       "      <td>0</td>\n",
       "    </tr>\n",
       "    <tr>\n",
       "      <th>3</th>\n",
       "      <td>Armas</td>\n",
       "      <td>Markkula</td>\n",
       "      <td>male</td>\n",
       "      <td>Apple</td>\n",
       "      <td>4</td>\n",
       "      <td>6.150250e+09</td>\n",
       "      <td>company</td>\n",
       "      <td>USA</td>\n",
       "      <td>CA</td>\n",
       "      <td>Cupertino</td>\n",
       "      <td>Founder</td>\n",
       "      <td>executive</td>\n",
       "      <td>Electrical Engineering</td>\n",
       "      <td>ms</td>\n",
       "      <td>56e8a800-5c37-7599-5eb3-b815aa6acd30</td>\n",
       "      <td>9da52706-0933-81f3-5be3-5ae30747612e</td>\n",
       "      <td>867f0af5-a1d0-143d-bbed-5cc252ca40d6</td>\n",
       "      <td>7063d087-96b8-2cc1-ee88-c221288acc2a</td>\n",
       "      <td>Masters</td>\n",
       "      <td>0</td>\n",
       "      <td>0</td>\n",
       "      <td>0</td>\n",
       "      <td>0</td>\n",
       "      <td>0</td>\n",
       "      <td>1</td>\n",
       "      <td>0</td>\n",
       "      <td>0</td>\n",
       "      <td>0</td>\n",
       "      <td>0</td>\n",
       "      <td>0</td>\n",
       "      <td>0</td>\n",
       "      <td>0</td>\n",
       "      <td>0</td>\n",
       "      <td>0</td>\n",
       "      <td>1</td>\n",
       "      <td>0</td>\n",
       "      <td>0</td>\n",
       "      <td>0</td>\n",
       "      <td>0</td>\n",
       "      <td>0</td>\n",
       "      <td>0</td>\n",
       "      <td>0</td>\n",
       "      <td>0</td>\n",
       "      <td>0</td>\n",
       "      <td>0</td>\n",
       "      <td>0</td>\n",
       "      <td>0</td>\n",
       "      <td>0</td>\n",
       "      <td>0</td>\n",
       "      <td>0</td>\n",
       "      <td>0</td>\n",
       "      <td>0</td>\n",
       "      <td>1</td>\n",
       "      <td>0</td>\n",
       "      <td>0</td>\n",
       "    </tr>\n",
       "    <tr>\n",
       "      <th>4</th>\n",
       "      <td>Kristee</td>\n",
       "      <td>Rosendahl</td>\n",
       "      <td>female</td>\n",
       "      <td>Apple</td>\n",
       "      <td>4</td>\n",
       "      <td>6.150250e+09</td>\n",
       "      <td>company</td>\n",
       "      <td>USA</td>\n",
       "      <td>CA</td>\n",
       "      <td>Cupertino</td>\n",
       "      <td>Designer, Art Director, Human Interface Co-fou...</td>\n",
       "      <td>employee</td>\n",
       "      <td>Design</td>\n",
       "      <td>ba</td>\n",
       "      <td>035e9cc5-d2a4-9298-7488-c348527a5d1a</td>\n",
       "      <td>0c2be7d4-47cd-8758-e668-34593c6c605f</td>\n",
       "      <td>Stanford</td>\n",
       "      <td>7063d087-96b8-2cc1-ee88-c221288acc2a</td>\n",
       "      <td>Bachelors</td>\n",
       "      <td>0</td>\n",
       "      <td>0</td>\n",
       "      <td>0</td>\n",
       "      <td>0</td>\n",
       "      <td>0</td>\n",
       "      <td>1</td>\n",
       "      <td>0</td>\n",
       "      <td>0</td>\n",
       "      <td>0</td>\n",
       "      <td>0</td>\n",
       "      <td>0</td>\n",
       "      <td>0</td>\n",
       "      <td>0</td>\n",
       "      <td>0</td>\n",
       "      <td>0</td>\n",
       "      <td>1</td>\n",
       "      <td>0</td>\n",
       "      <td>0</td>\n",
       "      <td>0</td>\n",
       "      <td>0</td>\n",
       "      <td>0</td>\n",
       "      <td>0</td>\n",
       "      <td>0</td>\n",
       "      <td>0</td>\n",
       "      <td>0</td>\n",
       "      <td>0</td>\n",
       "      <td>0</td>\n",
       "      <td>0</td>\n",
       "      <td>0</td>\n",
       "      <td>0</td>\n",
       "      <td>0</td>\n",
       "      <td>0</td>\n",
       "      <td>0</td>\n",
       "      <td>1</td>\n",
       "      <td>0</td>\n",
       "      <td>0</td>\n",
       "    </tr>\n",
       "  </tbody>\n",
       "</table>\n",
       "</div>"
      ],
      "text/plain": [
       "  first_name  last_name  gender company_name  funding_rounds  \\\n",
       "0      Steve    Wozniak    male        Apple               4   \n",
       "1      Kevin     Harvey    male        Apple               4   \n",
       "2      Armas   Markkula    male        Apple               4   \n",
       "3      Armas   Markkula    male        Apple               4   \n",
       "4    Kristee  Rosendahl  female        Apple               4   \n",
       "\n",
       "   funding_total_usd primary_role country_code state_code       city  \\\n",
       "0       6.150250e+09      company          USA         CA  Cupertino   \n",
       "1       6.150250e+09      company          USA         CA  Cupertino   \n",
       "2       6.150250e+09      company          USA         CA  Cupertino   \n",
       "3       6.150250e+09      company          USA         CA  Cupertino   \n",
       "4       6.150250e+09      company          USA         CA  Cupertino   \n",
       "\n",
       "                                               title   job_type  \\\n",
       "0                                         Co-founder  executive   \n",
       "1                                            Founder  executive   \n",
       "2                                            Founder  executive   \n",
       "3                                            Founder  executive   \n",
       "4  Designer, Art Director, Human Interface Co-fou...   employee   \n",
       "\n",
       "                  subject degree_type                           person_uuid  \\\n",
       "0                 EE & CS          bs  f3abe539-8db3-57e4-0f4d-de54a78eaf68   \n",
       "1             Engineering          bs  e7f5c146-66c5-fba4-64cb-8ffd422899d8   \n",
       "2  Electrical Engineering          bs  56e8a800-5c37-7599-5eb3-b815aa6acd30   \n",
       "3  Electrical Engineering          ms  56e8a800-5c37-7599-5eb3-b815aa6acd30   \n",
       "4                  Design          ba  035e9cc5-d2a4-9298-7488-c348527a5d1a   \n",
       "\n",
       "                            degree_uuid                      institution_uuid  \\\n",
       "0  fe3eb345-b465-84ad-45d7-448f8f7a44e5                              Berkeley   \n",
       "1  0dee09e8-13b6-50ee-3e17-1343036b2eed  c3144da5-8618-2e95-3a13-60417220da5e   \n",
       "2  29b2a7bc-4628-0e5d-53d1-d0af77d3de33  867f0af5-a1d0-143d-bbed-5cc252ca40d6   \n",
       "3  9da52706-0933-81f3-5be3-5ae30747612e  867f0af5-a1d0-143d-bbed-5cc252ca40d6   \n",
       "4  0c2be7d4-47cd-8758-e668-34593c6c605f                              Stanford   \n",
       "\n",
       "                               org_uuid Highest_Degree  \\\n",
       "0  7063d087-96b8-2cc1-ee88-c221288acc2a      Bachelors   \n",
       "1  7063d087-96b8-2cc1-ee88-c221288acc2a      Bachelors   \n",
       "2  7063d087-96b8-2cc1-ee88-c221288acc2a        Masters   \n",
       "3  7063d087-96b8-2cc1-ee88-c221288acc2a        Masters   \n",
       "4  7063d087-96b8-2cc1-ee88-c221288acc2a      Bachelors   \n",
       "\n",
       "   Administrative Services  Advertising  Agriculture and Farming  \\\n",
       "0                        0            0                        0   \n",
       "1                        0            0                        0   \n",
       "2                        0            0                        0   \n",
       "3                        0            0                        0   \n",
       "4                        0            0                        0   \n",
       "\n",
       "   Biotechnology  Clothing and Apparel  Commerce and Shopping  \\\n",
       "0              0                     0                      1   \n",
       "1              0                     0                      1   \n",
       "2              0                     0                      1   \n",
       "3              0                     0                      1   \n",
       "4              0                     0                      1   \n",
       "\n",
       "   Community and Lifestyle  Consumer Goods  Content and Publishing  Design  \\\n",
       "0                        0               0                       0       0   \n",
       "1                        0               0                       0       0   \n",
       "2                        0               0                       0       0   \n",
       "3                        0               0                       0       0   \n",
       "4                        0               0                       0       0   \n",
       "\n",
       "   Education  Energy  Events  Food and Beverage  Government and Military  \\\n",
       "0          0       0       0                  0                        0   \n",
       "1          0       0       0                  0                        0   \n",
       "2          0       0       0                  0                        0   \n",
       "3          0       0       0                  0                        0   \n",
       "4          0       0       0                  0                        0   \n",
       "\n",
       "   Hardware  Health Care  Manufacturing  Media and Entertainment  \\\n",
       "0         1            0              0                        0   \n",
       "1         1            0              0                        0   \n",
       "2         1            0              0                        0   \n",
       "3         1            0              0                        0   \n",
       "4         1            0              0                        0   \n",
       "\n",
       "   Music and Audio  Natural Resources  Navigation and Mapping  Platforms  \\\n",
       "0                0                  0                       0          0   \n",
       "1                0                  0                       0          0   \n",
       "2                0                  0                       0          0   \n",
       "3                0                  0                       0          0   \n",
       "4                0                  0                       0          0   \n",
       "\n",
       "   Privacy and Security  Professional Services  Real Estate  \\\n",
       "0                     0                      0            0   \n",
       "1                     0                      0            0   \n",
       "2                     0                      0            0   \n",
       "3                     0                      0            0   \n",
       "4                     0                      0            0   \n",
       "\n",
       "   Sales and Marketing  Science and Engineering  Sports  Sustainability  \\\n",
       "0                    0                        0       0               0   \n",
       "1                    0                        0       0               0   \n",
       "2                    0                        0       0               0   \n",
       "3                    0                        0       0               0   \n",
       "4                    0                        0       0               0   \n",
       "\n",
       "   Transportation  Travel and Tourism  Video  Technology  Finance  \\\n",
       "0               0                   0      0           1        0   \n",
       "1               0                   0      0           1        0   \n",
       "2               0                   0      0           1        0   \n",
       "3               0                   0      0           1        0   \n",
       "4               0                   0      0           1        0   \n",
       "\n",
       "   Communication  \n",
       "0              0  \n",
       "1              0  \n",
       "2              0  \n",
       "3              0  \n",
       "4              0  "
      ]
     },
     "execution_count": 4,
     "metadata": {},
     "output_type": "execute_result"
    }
   ],
   "source": [
    "founders_df_raw.head(5)"
   ]
  },
  {
   "cell_type": "markdown",
   "metadata": {},
   "source": [
    "## Defining an experienced founder\n",
    "\n",
    "The first point of action for this RQ is defining what an experienced founder is. We have decided that it is someone who has founded more than one startup. Therefore, a founder is defined as inexperienced if they have only found one startup. \n",
    "\n",
    "**First piece of analysis...**\n",
    "\n",
    "#### How many experienced and non experienced founders are in our dataset?\n",
    "\n",
    "To do this we will need to group our raw founders dataframe by the unique person identifier and their unique organisation identifier. We will then aggergate the first instance of the organisations funding total. We are grouping this raw dataframe for the reasons stated when importing this dataset at the start of the notebook."
   ]
  },
  {
   "cell_type": "code",
   "execution_count": 5,
   "metadata": {},
   "outputs": [
    {
     "data": {
      "text/html": [
       "<div>\n",
       "<style>\n",
       "    .dataframe thead tr:only-child th {\n",
       "        text-align: right;\n",
       "    }\n",
       "\n",
       "    .dataframe thead th {\n",
       "        text-align: left;\n",
       "    }\n",
       "\n",
       "    .dataframe tbody tr th {\n",
       "        vertical-align: top;\n",
       "    }\n",
       "</style>\n",
       "<table border=\"1\" class=\"dataframe\">\n",
       "  <thead>\n",
       "    <tr style=\"text-align: right;\">\n",
       "      <th></th>\n",
       "      <th>person_uuid</th>\n",
       "      <th>org_uuid</th>\n",
       "      <th>funding_total_usd</th>\n",
       "      <th>gender</th>\n",
       "    </tr>\n",
       "  </thead>\n",
       "  <tbody>\n",
       "    <tr>\n",
       "      <th>0</th>\n",
       "      <td>00026df9-9254-269d-40b1-549e9529550d</td>\n",
       "      <td>d2d0cb83-b874-c5d7-c7f7-fb77613cc95b</td>\n",
       "      <td>1016992.0</td>\n",
       "      <td>male</td>\n",
       "    </tr>\n",
       "    <tr>\n",
       "      <th>1</th>\n",
       "      <td>000497ac-d3f9-7969-6c8b-b4050c8efc04</td>\n",
       "      <td>14658850-0cc9-15f8-62f3-a8c532ea6c61</td>\n",
       "      <td>8521954.0</td>\n",
       "      <td>male</td>\n",
       "    </tr>\n",
       "    <tr>\n",
       "      <th>2</th>\n",
       "      <td>000575b8-eac0-66b1-2a16-03c08c2b9f66</td>\n",
       "      <td>d2de0c01-397d-b4f1-8575-9b5e74e6b6b8</td>\n",
       "      <td>30000.0</td>\n",
       "      <td>male</td>\n",
       "    </tr>\n",
       "    <tr>\n",
       "      <th>3</th>\n",
       "      <td>0005da7e-2311-9002-7756-ed2f2734e057</td>\n",
       "      <td>2aec3826-0f75-1f21-326a-5dbca9d5ff15</td>\n",
       "      <td>7387100.0</td>\n",
       "      <td>male</td>\n",
       "    </tr>\n",
       "    <tr>\n",
       "      <th>4</th>\n",
       "      <td>0005da7e-2311-9002-7756-ed2f2734e057</td>\n",
       "      <td>bd4c4326-ef34-d5d9-b689-0c0b0a6ba03c</td>\n",
       "      <td>3428769.0</td>\n",
       "      <td>male</td>\n",
       "    </tr>\n",
       "  </tbody>\n",
       "</table>\n",
       "</div>"
      ],
      "text/plain": [
       "                            person_uuid                              org_uuid  \\\n",
       "0  00026df9-9254-269d-40b1-549e9529550d  d2d0cb83-b874-c5d7-c7f7-fb77613cc95b   \n",
       "1  000497ac-d3f9-7969-6c8b-b4050c8efc04  14658850-0cc9-15f8-62f3-a8c532ea6c61   \n",
       "2  000575b8-eac0-66b1-2a16-03c08c2b9f66  d2de0c01-397d-b4f1-8575-9b5e74e6b6b8   \n",
       "3  0005da7e-2311-9002-7756-ed2f2734e057  2aec3826-0f75-1f21-326a-5dbca9d5ff15   \n",
       "4  0005da7e-2311-9002-7756-ed2f2734e057  bd4c4326-ef34-d5d9-b689-0c0b0a6ba03c   \n",
       "\n",
       "   funding_total_usd gender  \n",
       "0          1016992.0   male  \n",
       "1          8521954.0   male  \n",
       "2            30000.0   male  \n",
       "3          7387100.0   male  \n",
       "4          3428769.0   male  "
      ]
     },
     "execution_count": 5,
     "metadata": {},
     "output_type": "execute_result"
    }
   ],
   "source": [
    "# grouping raw founders dataframe by person_uuid and org_uuid. Aggergating gender of person and total funding for grouped organisation\n",
    "founders_df = founders_df_raw.groupby(['person_uuid','org_uuid'],as_index=False).agg({'funding_total_usd':'first', 'gender':'first'})\n",
    "founders_df = founders_df[founders_df['gender'] != 'not_provided']\n",
    "founders_df.head(5)"
   ]
  },
  {
   "cell_type": "markdown",
   "metadata": {},
   "source": [
    "**Next step...**\n",
    "\n",
    "Looking at the value counts of people in the dataset will tell us the highest number of startups founded by a person in our dataset."
   ]
  },
  {
   "cell_type": "code",
   "execution_count": 6,
   "metadata": {},
   "outputs": [
    {
     "data": {
      "text/plain": [
       "6171f0b6-e39f-247f-1290-cfa84781e4c8    15\n",
       "396dc987-fa6b-d5db-c6da-487576633993    12\n",
       "f9060a62-278f-5ab9-ca18-3f4a2a7b6ba7    10\n",
       "a16abeb6-b37a-ccdd-34ab-8129006d1ef2     9\n",
       "fe7c3d15-3469-e0e1-3b31-f4cb8d0b90a6     8\n",
       "Name: person_uuid, dtype: int64"
      ]
     },
     "execution_count": 6,
     "metadata": {},
     "output_type": "execute_result"
    }
   ],
   "source": [
    "founder_counts = founders_df.person_uuid.value_counts()\n",
    "founder_counts.head(5)"
   ]
  },
  {
   "cell_type": "markdown",
   "metadata": {},
   "source": [
    "**A glimpse of the Top 2 most experienced founders...**\n",
    "\n",
    "Note: All information discussed is freely available on CrunchBase.com"
   ]
  },
  {
   "cell_type": "code",
   "execution_count": 7,
   "metadata": {},
   "outputs": [
    {
     "data": {
      "text/html": [
       "<div>\n",
       "<style>\n",
       "    .dataframe thead tr:only-child th {\n",
       "        text-align: right;\n",
       "    }\n",
       "\n",
       "    .dataframe thead th {\n",
       "        text-align: left;\n",
       "    }\n",
       "\n",
       "    .dataframe tbody tr th {\n",
       "        vertical-align: top;\n",
       "    }\n",
       "</style>\n",
       "<table border=\"1\" class=\"dataframe\">\n",
       "  <thead>\n",
       "    <tr style=\"text-align: right;\">\n",
       "      <th></th>\n",
       "      <th>first_name</th>\n",
       "      <th>last_name</th>\n",
       "      <th>gender</th>\n",
       "      <th>company_name</th>\n",
       "      <th>funding_rounds</th>\n",
       "      <th>funding_total_usd</th>\n",
       "      <th>primary_role</th>\n",
       "      <th>country_code</th>\n",
       "      <th>state_code</th>\n",
       "      <th>city</th>\n",
       "      <th>title</th>\n",
       "      <th>job_type</th>\n",
       "      <th>subject</th>\n",
       "      <th>degree_type</th>\n",
       "      <th>person_uuid</th>\n",
       "      <th>degree_uuid</th>\n",
       "      <th>institution_uuid</th>\n",
       "      <th>org_uuid</th>\n",
       "      <th>Highest_Degree</th>\n",
       "      <th>Administrative Services</th>\n",
       "      <th>Advertising</th>\n",
       "      <th>Agriculture and Farming</th>\n",
       "      <th>Biotechnology</th>\n",
       "      <th>Clothing and Apparel</th>\n",
       "      <th>Commerce and Shopping</th>\n",
       "      <th>Community and Lifestyle</th>\n",
       "      <th>Consumer Goods</th>\n",
       "      <th>Content and Publishing</th>\n",
       "      <th>Design</th>\n",
       "      <th>Education</th>\n",
       "      <th>Energy</th>\n",
       "      <th>Events</th>\n",
       "      <th>Food and Beverage</th>\n",
       "      <th>Government and Military</th>\n",
       "      <th>Hardware</th>\n",
       "      <th>Health Care</th>\n",
       "      <th>Manufacturing</th>\n",
       "      <th>Media and Entertainment</th>\n",
       "      <th>Music and Audio</th>\n",
       "      <th>Natural Resources</th>\n",
       "      <th>Navigation and Mapping</th>\n",
       "      <th>Platforms</th>\n",
       "      <th>Privacy and Security</th>\n",
       "      <th>Professional Services</th>\n",
       "      <th>Real Estate</th>\n",
       "      <th>Sales and Marketing</th>\n",
       "      <th>Science and Engineering</th>\n",
       "      <th>Sports</th>\n",
       "      <th>Sustainability</th>\n",
       "      <th>Transportation</th>\n",
       "      <th>Travel and Tourism</th>\n",
       "      <th>Video</th>\n",
       "      <th>Technology</th>\n",
       "      <th>Finance</th>\n",
       "      <th>Communication</th>\n",
       "    </tr>\n",
       "  </thead>\n",
       "  <tbody>\n",
       "    <tr>\n",
       "      <th>6321</th>\n",
       "      <td>John</td>\n",
       "      <td>Donovan</td>\n",
       "      <td>male</td>\n",
       "      <td>Open Environment Corporation</td>\n",
       "      <td>2</td>\n",
       "      <td>870578950.0</td>\n",
       "      <td>company</td>\n",
       "      <td>USA</td>\n",
       "      <td>MA</td>\n",
       "      <td>Cambridge</td>\n",
       "      <td>Co-founder/Chairman</td>\n",
       "      <td>executive</td>\n",
       "      <td>unknown</td>\n",
       "      <td>bs</td>\n",
       "      <td>6171f0b6-e39f-247f-1290-cfa84781e4c8</td>\n",
       "      <td>2c0c8633-511c-794b-2362-5578006bf075</td>\n",
       "      <td>fd3759ee-9f14-b6d9-03fb-173ce84dc70d</td>\n",
       "      <td>2c46049d-baf5-af92-7ab8-0d121fe83068</td>\n",
       "      <td>PhD</td>\n",
       "      <td>0</td>\n",
       "      <td>0</td>\n",
       "      <td>0</td>\n",
       "      <td>0</td>\n",
       "      <td>0</td>\n",
       "      <td>0</td>\n",
       "      <td>0</td>\n",
       "      <td>0</td>\n",
       "      <td>0</td>\n",
       "      <td>0</td>\n",
       "      <td>0</td>\n",
       "      <td>0</td>\n",
       "      <td>0</td>\n",
       "      <td>0</td>\n",
       "      <td>0</td>\n",
       "      <td>1</td>\n",
       "      <td>0</td>\n",
       "      <td>0</td>\n",
       "      <td>0</td>\n",
       "      <td>0</td>\n",
       "      <td>0</td>\n",
       "      <td>0</td>\n",
       "      <td>0</td>\n",
       "      <td>0</td>\n",
       "      <td>0</td>\n",
       "      <td>1</td>\n",
       "      <td>0</td>\n",
       "      <td>0</td>\n",
       "      <td>0</td>\n",
       "      <td>0</td>\n",
       "      <td>0</td>\n",
       "      <td>0</td>\n",
       "      <td>0</td>\n",
       "      <td>1</td>\n",
       "      <td>0</td>\n",
       "      <td>0</td>\n",
       "    </tr>\n",
       "  </tbody>\n",
       "</table>\n",
       "</div>"
      ],
      "text/plain": [
       "     first_name last_name gender                  company_name  \\\n",
       "6321       John   Donovan   male  Open Environment Corporation   \n",
       "\n",
       "      funding_rounds  funding_total_usd primary_role country_code state_code  \\\n",
       "6321               2        870578950.0      company          USA         MA   \n",
       "\n",
       "           city                title   job_type  subject degree_type  \\\n",
       "6321  Cambridge  Co-founder/Chairman  executive  unknown          bs   \n",
       "\n",
       "                               person_uuid  \\\n",
       "6321  6171f0b6-e39f-247f-1290-cfa84781e4c8   \n",
       "\n",
       "                               degree_uuid  \\\n",
       "6321  2c0c8633-511c-794b-2362-5578006bf075   \n",
       "\n",
       "                          institution_uuid  \\\n",
       "6321  fd3759ee-9f14-b6d9-03fb-173ce84dc70d   \n",
       "\n",
       "                                  org_uuid Highest_Degree  \\\n",
       "6321  2c46049d-baf5-af92-7ab8-0d121fe83068            PhD   \n",
       "\n",
       "      Administrative Services  Advertising  Agriculture and Farming  \\\n",
       "6321                        0            0                        0   \n",
       "\n",
       "      Biotechnology  Clothing and Apparel  Commerce and Shopping  \\\n",
       "6321              0                     0                      0   \n",
       "\n",
       "      Community and Lifestyle  Consumer Goods  Content and Publishing  Design  \\\n",
       "6321                        0               0                       0       0   \n",
       "\n",
       "      Education  Energy  Events  Food and Beverage  Government and Military  \\\n",
       "6321          0       0       0                  0                        0   \n",
       "\n",
       "      Hardware  Health Care  Manufacturing  Media and Entertainment  \\\n",
       "6321         1            0              0                        0   \n",
       "\n",
       "      Music and Audio  Natural Resources  Navigation and Mapping  Platforms  \\\n",
       "6321                0                  0                       0          0   \n",
       "\n",
       "      Privacy and Security  Professional Services  Real Estate  \\\n",
       "6321                     0                      0            1   \n",
       "\n",
       "      Sales and Marketing  Science and Engineering  Sports  Sustainability  \\\n",
       "6321                    0                        0       0               0   \n",
       "\n",
       "      Transportation  Travel and Tourism  Video  Technology  Finance  \\\n",
       "6321               0                   0      0           1        0   \n",
       "\n",
       "      Communication  \n",
       "6321              0  "
      ]
     },
     "execution_count": 7,
     "metadata": {},
     "output_type": "execute_result"
    }
   ],
   "source": [
    "founders_df_raw[founders_df_raw['person_uuid']=='6171f0b6-e39f-247f-1290-cfa84781e4c8'].head(1)"
   ]
  },
  {
   "cell_type": "markdown",
   "metadata": {},
   "source": [
    "John Donovan has founded the most amount of startups in our dataset at a grand total of 15. He is a decorated businessman and is also a former professor at MIT. He has actually founded 26 companies in total, however, CrunchBase has only provided funding data on 15 of these."
   ]
  },
  {
   "cell_type": "code",
   "execution_count": 8,
   "metadata": {},
   "outputs": [
    {
     "data": {
      "text/html": [
       "<div>\n",
       "<style>\n",
       "    .dataframe thead tr:only-child th {\n",
       "        text-align: right;\n",
       "    }\n",
       "\n",
       "    .dataframe thead th {\n",
       "        text-align: left;\n",
       "    }\n",
       "\n",
       "    .dataframe tbody tr th {\n",
       "        vertical-align: top;\n",
       "    }\n",
       "</style>\n",
       "<table border=\"1\" class=\"dataframe\">\n",
       "  <thead>\n",
       "    <tr style=\"text-align: right;\">\n",
       "      <th></th>\n",
       "      <th>first_name</th>\n",
       "      <th>last_name</th>\n",
       "      <th>gender</th>\n",
       "      <th>company_name</th>\n",
       "      <th>funding_rounds</th>\n",
       "      <th>funding_total_usd</th>\n",
       "      <th>primary_role</th>\n",
       "      <th>country_code</th>\n",
       "      <th>state_code</th>\n",
       "      <th>city</th>\n",
       "      <th>title</th>\n",
       "      <th>job_type</th>\n",
       "      <th>subject</th>\n",
       "      <th>degree_type</th>\n",
       "      <th>person_uuid</th>\n",
       "      <th>degree_uuid</th>\n",
       "      <th>institution_uuid</th>\n",
       "      <th>org_uuid</th>\n",
       "      <th>Highest_Degree</th>\n",
       "      <th>Administrative Services</th>\n",
       "      <th>Advertising</th>\n",
       "      <th>Agriculture and Farming</th>\n",
       "      <th>Biotechnology</th>\n",
       "      <th>Clothing and Apparel</th>\n",
       "      <th>Commerce and Shopping</th>\n",
       "      <th>Community and Lifestyle</th>\n",
       "      <th>Consumer Goods</th>\n",
       "      <th>Content and Publishing</th>\n",
       "      <th>Design</th>\n",
       "      <th>Education</th>\n",
       "      <th>Energy</th>\n",
       "      <th>Events</th>\n",
       "      <th>Food and Beverage</th>\n",
       "      <th>Government and Military</th>\n",
       "      <th>Hardware</th>\n",
       "      <th>Health Care</th>\n",
       "      <th>Manufacturing</th>\n",
       "      <th>Media and Entertainment</th>\n",
       "      <th>Music and Audio</th>\n",
       "      <th>Natural Resources</th>\n",
       "      <th>Navigation and Mapping</th>\n",
       "      <th>Platforms</th>\n",
       "      <th>Privacy and Security</th>\n",
       "      <th>Professional Services</th>\n",
       "      <th>Real Estate</th>\n",
       "      <th>Sales and Marketing</th>\n",
       "      <th>Science and Engineering</th>\n",
       "      <th>Sports</th>\n",
       "      <th>Sustainability</th>\n",
       "      <th>Transportation</th>\n",
       "      <th>Travel and Tourism</th>\n",
       "      <th>Video</th>\n",
       "      <th>Technology</th>\n",
       "      <th>Finance</th>\n",
       "      <th>Communication</th>\n",
       "    </tr>\n",
       "  </thead>\n",
       "  <tbody>\n",
       "    <tr>\n",
       "      <th>2878</th>\n",
       "      <td>Noubar</td>\n",
       "      <td>Afeyan</td>\n",
       "      <td>male</td>\n",
       "      <td>Joule Unlimited Technologies, Inc.</td>\n",
       "      <td>4</td>\n",
       "      <td>190000000.0</td>\n",
       "      <td>company</td>\n",
       "      <td>USA</td>\n",
       "      <td>MA</td>\n",
       "      <td>Bedford</td>\n",
       "      <td>Co-Founder</td>\n",
       "      <td>executive</td>\n",
       "      <td>Biochemical Engineering</td>\n",
       "      <td>phd</td>\n",
       "      <td>396dc987-fa6b-d5db-c6da-487576633993</td>\n",
       "      <td>5e3b1f9e-0149-f4e9-6038-fce73641381f</td>\n",
       "      <td>MIT</td>\n",
       "      <td>0b776b08-3636-cac5-0d83-72e9e0c26486</td>\n",
       "      <td>PhD</td>\n",
       "      <td>0</td>\n",
       "      <td>0</td>\n",
       "      <td>0</td>\n",
       "      <td>0</td>\n",
       "      <td>0</td>\n",
       "      <td>0</td>\n",
       "      <td>0</td>\n",
       "      <td>0</td>\n",
       "      <td>0</td>\n",
       "      <td>0</td>\n",
       "      <td>0</td>\n",
       "      <td>1</td>\n",
       "      <td>0</td>\n",
       "      <td>0</td>\n",
       "      <td>0</td>\n",
       "      <td>0</td>\n",
       "      <td>0</td>\n",
       "      <td>0</td>\n",
       "      <td>0</td>\n",
       "      <td>0</td>\n",
       "      <td>1</td>\n",
       "      <td>0</td>\n",
       "      <td>0</td>\n",
       "      <td>0</td>\n",
       "      <td>0</td>\n",
       "      <td>0</td>\n",
       "      <td>0</td>\n",
       "      <td>0</td>\n",
       "      <td>0</td>\n",
       "      <td>1</td>\n",
       "      <td>0</td>\n",
       "      <td>0</td>\n",
       "      <td>0</td>\n",
       "      <td>0</td>\n",
       "      <td>0</td>\n",
       "      <td>0</td>\n",
       "    </tr>\n",
       "  </tbody>\n",
       "</table>\n",
       "</div>"
      ],
      "text/plain": [
       "     first_name last_name gender                        company_name  \\\n",
       "2878     Noubar    Afeyan   male  Joule Unlimited Technologies, Inc.   \n",
       "\n",
       "      funding_rounds  funding_total_usd primary_role country_code state_code  \\\n",
       "2878               4        190000000.0      company          USA         MA   \n",
       "\n",
       "         city       title   job_type                  subject degree_type  \\\n",
       "2878  Bedford  Co-Founder  executive  Biochemical Engineering         phd   \n",
       "\n",
       "                               person_uuid  \\\n",
       "2878  396dc987-fa6b-d5db-c6da-487576633993   \n",
       "\n",
       "                               degree_uuid institution_uuid  \\\n",
       "2878  5e3b1f9e-0149-f4e9-6038-fce73641381f              MIT   \n",
       "\n",
       "                                  org_uuid Highest_Degree  \\\n",
       "2878  0b776b08-3636-cac5-0d83-72e9e0c26486            PhD   \n",
       "\n",
       "      Administrative Services  Advertising  Agriculture and Farming  \\\n",
       "2878                        0            0                        0   \n",
       "\n",
       "      Biotechnology  Clothing and Apparel  Commerce and Shopping  \\\n",
       "2878              0                     0                      0   \n",
       "\n",
       "      Community and Lifestyle  Consumer Goods  Content and Publishing  Design  \\\n",
       "2878                        0               0                       0       0   \n",
       "\n",
       "      Education  Energy  Events  Food and Beverage  Government and Military  \\\n",
       "2878          0       1       0                  0                        0   \n",
       "\n",
       "      Hardware  Health Care  Manufacturing  Media and Entertainment  \\\n",
       "2878         0            0              0                        0   \n",
       "\n",
       "      Music and Audio  Natural Resources  Navigation and Mapping  Platforms  \\\n",
       "2878                0                  1                       0          0   \n",
       "\n",
       "      Privacy and Security  Professional Services  Real Estate  \\\n",
       "2878                     0                      0            0   \n",
       "\n",
       "      Sales and Marketing  Science and Engineering  Sports  Sustainability  \\\n",
       "2878                    0                        0       0               1   \n",
       "\n",
       "      Transportation  Travel and Tourism  Video  Technology  Finance  \\\n",
       "2878               0                   0      0           0        0   \n",
       "\n",
       "      Communication  \n",
       "2878              0  "
      ]
     },
     "execution_count": 8,
     "metadata": {},
     "output_type": "execute_result"
    }
   ],
   "source": [
    "founders_df_raw[founders_df_raw['person_uuid']=='396dc987-fa6b-d5db-c6da-487576633993'].head(1)"
   ]
  },
  {
   "cell_type": "markdown",
   "metadata": {},
   "source": [
    "During Noubar Afeyan 28-year career as inventor, entrepreneur, CEO and venture capitalist, Noubar has co-founded and helped build over 35 successful life science and technology startups. \n",
    "\n",
    "**Next Step of Analysis...**\n",
    "\n",
    "In order for us to see how many experienced founders there are, we simply just have to find the size of the series created above when values are greater than 1."
   ]
  },
  {
   "cell_type": "code",
   "execution_count": 9,
   "metadata": {},
   "outputs": [
    {
     "data": {
      "text/plain": [
       "2635"
      ]
     },
     "execution_count": 9,
     "metadata": {},
     "output_type": "execute_result"
    }
   ],
   "source": [
    "experienced = (founder_counts > 1)\n",
    "founder_counts[experienced].size"
   ]
  },
  {
   "cell_type": "code",
   "execution_count": 10,
   "metadata": {},
   "outputs": [
    {
     "data": {
      "text/plain": [
       "24099"
      ]
     },
     "execution_count": 10,
     "metadata": {},
     "output_type": "execute_result"
    }
   ],
   "source": [
    "founder_counts[~experienced].size"
   ]
  },
  {
   "cell_type": "markdown",
   "metadata": {},
   "source": [
    "**Next Step of Analysis...**\n",
    "\n",
    "It would be interesting to see the mean number of companies founded by an experienced founder."
   ]
  },
  {
   "cell_type": "code",
   "execution_count": 11,
   "metadata": {},
   "outputs": [
    {
     "data": {
      "text/plain": [
       "1"
      ]
     },
     "execution_count": 11,
     "metadata": {},
     "output_type": "execute_result"
    }
   ],
   "source": [
    "round(founder_counts.mean())"
   ]
  },
  {
   "cell_type": "code",
   "execution_count": 12,
   "metadata": {},
   "outputs": [
    {
     "data": {
      "text/plain": [
       "2"
      ]
     },
     "execution_count": 12,
     "metadata": {},
     "output_type": "execute_result"
    }
   ],
   "source": [
    "round(founder_counts[experienced].mean())"
   ]
  },
  {
   "cell_type": "markdown",
   "metadata": {},
   "source": [
    "This is not a surprising result. The average number of startups founded by an experienced founder was 2.\n",
    "\n",
    "**Overall counts of Experienced and Non-Experienced Founders....**"
   ]
  },
  {
   "cell_type": "code",
   "execution_count": 13,
   "metadata": {},
   "outputs": [
    {
     "data": {
      "text/plain": [
       "exp         2635\n",
       "non_exp    24099\n",
       "dtype: int64"
      ]
     },
     "execution_count": 13,
     "metadata": {},
     "output_type": "execute_result"
    }
   ],
   "source": [
    "exp_compare_series = pd.Series({'exp':founder_counts[experienced].size, 'non_exp':founder_counts[~experienced].size})\n",
    "exp_compare_series"
   ]
  },
  {
   "cell_type": "markdown",
   "metadata": {},
   "source": [
    "**Plotting these values results in...**"
   ]
  },
  {
   "cell_type": "code",
   "execution_count": 14,
   "metadata": {},
   "outputs": [
    {
     "data": {
      "text/plain": [
       "Text(0,0.5,'Count')"
      ]
     },
     "execution_count": 14,
     "metadata": {},
     "output_type": "execute_result"
    },
    {
     "data": {
      "image/png": "[encoded data removed]",
      "text/plain": [
       "<matplotlib.figure.Figure at 0x1a123157f0>"
      ]
     },
     "metadata": {},
     "output_type": "display_data"
    }
   ],
   "source": [
    "exp_compare_series.plot.bar(figsize=(10,5))\n",
    "plt.xticks(np.arange(2), ('Experienced', 'Non-Experienced'), rotation=0)\n",
    "plt.title(\"Comparing founder experience counts\")\n",
    "plt.ylabel(\"Count\")"
   ]
  },
  {
   "cell_type": "markdown",
   "metadata": {},
   "source": [
    "This piece of analysis is interesting as we can see the sample size we have of experienced founders is very small in comparison to that of non-experienced founders.\n",
    "\n",
    "### Gender analysis of Experienced and Non-Experienced founders\n",
    "We will be looking at the gender ratio for founders with different experience."
   ]
  },
  {
   "cell_type": "code",
   "execution_count": 15,
   "metadata": {},
   "outputs": [
    {
     "data": {
      "text/plain": [
       "(2635, 1)"
      ]
     },
     "execution_count": 15,
     "metadata": {},
     "output_type": "execute_result"
    }
   ],
   "source": [
    "# this experienced bool condition allows us to only group founders who have a group size > 1 when used as a df mask\n",
    "experienced = founders_df.groupby('person_uuid',sort=False)[\"person_uuid\"].transform(len) > 1\n",
    "# grouping the founders using the experienced boolean condition and aggergating their gender.\n",
    "expf_df = founders_df[experienced].groupby('person_uuid').agg({'gender':'first'})\n",
    "expf_df.shape"
   ]
  },
  {
   "cell_type": "markdown",
   "metadata": {},
   "source": [
    "**Looking at the counts of the genders of experienced founders...**"
   ]
  },
  {
   "cell_type": "code",
   "execution_count": 16,
   "metadata": {},
   "outputs": [
    {
     "data": {
      "text/plain": [
       "male      2447\n",
       "female     188\n",
       "Name: gender, dtype: int64"
      ]
     },
     "execution_count": 16,
     "metadata": {},
     "output_type": "execute_result"
    }
   ],
   "source": [
    "exp_gender = expf_df.gender.value_counts()\n",
    "exp_gender"
   ]
  },
  {
   "cell_type": "markdown",
   "metadata": {},
   "source": [
    "**Plotting these values results in...**"
   ]
  },
  {
   "cell_type": "code",
   "execution_count": 17,
   "metadata": {},
   "outputs": [
    {
     "data": {
      "text/plain": [
       "Text(0.5,1,'Experienced Founders')"
      ]
     },
     "execution_count": 17,
     "metadata": {},
     "output_type": "execute_result"
    },
    {
     "data": {
      "image/png": "[encoded data removed]",
      "text/plain": [
       "<matplotlib.figure.Figure at 0x1a12315dd8>"
      ]
     },
     "metadata": {},
     "output_type": "display_data"
    }
   ],
   "source": [
    "pd.DataFrame(exp_gender).T.plot.bar(stacked=True, figsize=(7,7), color=['#66b3ff','#ff9999'], edgecolor='none')\n",
    "plt.ylim(0,3500)\n",
    "plt.legend(frameon=True)\n",
    "plt.xticks(np.arange(1),(''), rotation=0)\n",
    "plt.ylabel(\"Count\")\n",
    "plt.xlabel(\"Gender\")\n",
    "plt.title(\"Experienced Founders\")"
   ]
  },
  {
   "cell_type": "markdown",
   "metadata": {},
   "source": [
    "As seen in previous analysis of RQ2, males dominate the gender split.\n",
    "\n",
    "**Next...**"
   ]
  },
  {
   "cell_type": "code",
   "execution_count": 18,
   "metadata": {},
   "outputs": [
    {
     "data": {
      "text/plain": [
       "array(['Bachelors', 'Masters', 'Juris', 'PhD', 'Diploma', 'certificate',\n",
       "       'Doctorate', 'Executive', 'Honors'], dtype=object)"
      ]
     },
     "execution_count": 18,
     "metadata": {},
     "output_type": "execute_result"
    }
   ],
   "source": [
    "founders_df_raw.Highest_Degree.unique()"
   ]
  },
  {
   "cell_type": "code",
   "execution_count": 19,
   "metadata": {},
   "outputs": [
    {
     "data": {
      "text/plain": [
       "(24099, 1)"
      ]
     },
     "execution_count": 19,
     "metadata": {},
     "output_type": "execute_result"
    }
   ],
   "source": [
    "# using the experienced boolean condition again, negating it this time, grouping non-experienced founders and aggregating gender\n",
    "nexpf_df = founders_df[~experienced].groupby('person_uuid').agg({'gender':'first'})\n",
    "nexpf_df.shape"
   ]
  },
  {
   "cell_type": "markdown",
   "metadata": {},
   "source": [
    "**Looking at the counts of the genders of Non-Experienced Founders...**"
   ]
  },
  {
   "cell_type": "code",
   "execution_count": 20,
   "metadata": {},
   "outputs": [
    {
     "data": {
      "text/plain": [
       "male      20619\n",
       "female     3463\n",
       "Name: gender, dtype: int64"
      ]
     },
     "execution_count": 20,
     "metadata": {},
     "output_type": "execute_result"
    }
   ],
   "source": [
    "nexp_gender = nexpf_df.gender.value_counts()\n",
    "nexp_gender"
   ]
  },
  {
   "cell_type": "markdown",
   "metadata": {},
   "source": [
    "**Plotting these values results in...**"
   ]
  },
  {
   "cell_type": "code",
   "execution_count": 21,
   "metadata": {},
   "outputs": [
    {
     "data": {
      "text/plain": [
       "Text(0.5,1,'Non-Experienced Founders')"
      ]
     },
     "execution_count": 21,
     "metadata": {},
     "output_type": "execute_result"
    },
    {
     "data": {
      "image/png": "[encoded data removed]",
      "text/plain": [
       "<matplotlib.figure.Figure at 0x10a6aba90>"
      ]
     },
     "metadata": {},
     "output_type": "display_data"
    }
   ],
   "source": [
    "pd.DataFrame(nexp_gender).T.plot.bar(stacked=True, figsize=(7,7), color=['#66b3ff','#ff9999'], edgecolor='none')\n",
    "plt.ylim(0,32000)\n",
    "plt.legend(frameon=True)\n",
    "plt.xticks(np.arange(1),(''), rotation=0)\n",
    "plt.ylabel(\"Count\")\n",
    "plt.xlabel(\"Gender\")\n",
    "plt.title(\"Non-Experienced Founders\")"
   ]
  },
  {
   "cell_type": "markdown",
   "metadata": {},
   "source": [
    "We can see the extent of which males dominate Non-Experienced founders by compared to females.\n",
    "\n",
    "## Average funding attained by Experienced and Non-Experienced Founders\n",
    "Next we will investigate the average funding of experienced founders vs non-experienced founders\n",
    "\n",
    "**Calculating the mean funding of experienced founders...**"
   ]
  },
  {
   "cell_type": "code",
   "execution_count": 22,
   "metadata": {},
   "outputs": [
    {
     "data": {
      "text/plain": [
       "61355340.57433009"
      ]
     },
     "execution_count": 22,
     "metadata": {},
     "output_type": "execute_result"
    }
   ],
   "source": [
    "founders_df[experienced].funding_total_usd.mean()"
   ]
  },
  {
   "cell_type": "markdown",
   "metadata": {},
   "source": [
    "**Saving mean value into variable and dividing it to get value in terms of millions...**"
   ]
  },
  {
   "cell_type": "code",
   "execution_count": 23,
   "metadata": {},
   "outputs": [
    {
     "data": {
      "text/plain": [
       "61.35534057433009"
      ]
     },
     "execution_count": 23,
     "metadata": {},
     "output_type": "execute_result"
    }
   ],
   "source": [
    "val1 = founders_df[experienced].funding_total_usd.mean()\n",
    "val1 = val1/1000000 # division to get in terms of millions\n",
    "val1"
   ]
  },
  {
   "cell_type": "markdown",
   "metadata": {},
   "source": [
    "**Calculating the mean funding of non-experienced founders...**"
   ]
  },
  {
   "cell_type": "code",
   "execution_count": 24,
   "metadata": {},
   "outputs": [
    {
     "data": {
      "text/plain": [
       "34135466.084028386"
      ]
     },
     "execution_count": 24,
     "metadata": {},
     "output_type": "execute_result"
    }
   ],
   "source": [
    "founders_df[~experienced].funding_total_usd.mean()"
   ]
  },
  {
   "cell_type": "markdown",
   "metadata": {},
   "source": [
    "**Saving mean value into variable and dividing it to get value in terms of millions...**"
   ]
  },
  {
   "cell_type": "code",
   "execution_count": 25,
   "metadata": {},
   "outputs": [
    {
     "data": {
      "text/plain": [
       "34.13546608402839"
      ]
     },
     "execution_count": 25,
     "metadata": {},
     "output_type": "execute_result"
    }
   ],
   "source": [
    "val2 = founders_df[~experienced].funding_total_usd.mean()\n",
    "val2 = val2/1000000 # division to get in terms of millions\n",
    "val2"
   ]
  },
  {
   "cell_type": "markdown",
   "metadata": {},
   "source": [
    "**Plotting these values results in...**"
   ]
  },
  {
   "cell_type": "code",
   "execution_count": 26,
   "metadata": {},
   "outputs": [
    {
     "data": {
      "image/png": "[encoded data removed]",
      "text/plain": [
       "<matplotlib.figure.Figure at 0x1a1d1df2b0>"
      ]
     },
     "metadata": {},
     "output_type": "display_data"
    }
   ],
   "source": [
    "x = np.arange(2)\n",
    "means = [val1,val2]\n",
    "plt.figure(figsize=(7,7))\n",
    "plt.bar(x, means, color='#ffa954')\n",
    "plt.xticks(x, ('Experienced','Non-Experienced'))\n",
    "plt.title(\"Average Funding of Founders\")\n",
    "plt.ylabel(\"Funding in Millions\")\n",
    "plt.ticklabel_format(style='plain', axis='y')\n",
    "plt.show()"
   ]
  },
  {
   "cell_type": "markdown",
   "metadata": {},
   "source": [
    "### Experienced founders funding percentage change\n",
    "\n",
    "In this section we will look at the percentage change in funding of experienced founders. There is no need to filter non-experienced founders in this analysis from the original founders dataframe. "
   ]
  },
  {
   "cell_type": "code",
   "execution_count": 27,
   "metadata": {},
   "outputs": [
    {
     "data": {
      "text/html": [
       "<div>\n",
       "<style>\n",
       "    .dataframe thead tr:only-child th {\n",
       "        text-align: right;\n",
       "    }\n",
       "\n",
       "    .dataframe thead th {\n",
       "        text-align: left;\n",
       "    }\n",
       "\n",
       "    .dataframe tbody tr th {\n",
       "        vertical-align: top;\n",
       "    }\n",
       "</style>\n",
       "<table border=\"1\" class=\"dataframe\">\n",
       "  <thead>\n",
       "    <tr style=\"text-align: right;\">\n",
       "      <th></th>\n",
       "      <th>person_uuid</th>\n",
       "      <th>org_uuid</th>\n",
       "      <th>funding_total_usd</th>\n",
       "      <th>gender</th>\n",
       "      <th>pct</th>\n",
       "    </tr>\n",
       "  </thead>\n",
       "  <tbody>\n",
       "    <tr>\n",
       "      <th>0</th>\n",
       "      <td>00026df9-9254-269d-40b1-549e9529550d</td>\n",
       "      <td>d2d0cb83-b874-c5d7-c7f7-fb77613cc95b</td>\n",
       "      <td>1016992.0</td>\n",
       "      <td>male</td>\n",
       "      <td>NaN</td>\n",
       "    </tr>\n",
       "    <tr>\n",
       "      <th>1</th>\n",
       "      <td>000497ac-d3f9-7969-6c8b-b4050c8efc04</td>\n",
       "      <td>14658850-0cc9-15f8-62f3-a8c532ea6c61</td>\n",
       "      <td>8521954.0</td>\n",
       "      <td>male</td>\n",
       "      <td>NaN</td>\n",
       "    </tr>\n",
       "    <tr>\n",
       "      <th>2</th>\n",
       "      <td>000575b8-eac0-66b1-2a16-03c08c2b9f66</td>\n",
       "      <td>d2de0c01-397d-b4f1-8575-9b5e74e6b6b8</td>\n",
       "      <td>30000.0</td>\n",
       "      <td>male</td>\n",
       "      <td>NaN</td>\n",
       "    </tr>\n",
       "    <tr>\n",
       "      <th>3</th>\n",
       "      <td>0005da7e-2311-9002-7756-ed2f2734e057</td>\n",
       "      <td>2aec3826-0f75-1f21-326a-5dbca9d5ff15</td>\n",
       "      <td>7387100.0</td>\n",
       "      <td>male</td>\n",
       "      <td>NaN</td>\n",
       "    </tr>\n",
       "    <tr>\n",
       "      <th>4</th>\n",
       "      <td>0005da7e-2311-9002-7756-ed2f2734e057</td>\n",
       "      <td>bd4c4326-ef34-d5d9-b689-0c0b0a6ba03c</td>\n",
       "      <td>3428769.0</td>\n",
       "      <td>male</td>\n",
       "      <td>-0.535844</td>\n",
       "    </tr>\n",
       "    <tr>\n",
       "      <th>5</th>\n",
       "      <td>00065f25-101a-bfe2-d79c-a172af342c70</td>\n",
       "      <td>6663f9d3-e6ab-348f-66c7-cafc00ce01a8</td>\n",
       "      <td>50000.0</td>\n",
       "      <td>male</td>\n",
       "      <td>NaN</td>\n",
       "    </tr>\n",
       "    <tr>\n",
       "      <th>6</th>\n",
       "      <td>00065f25-101a-bfe2-d79c-a172af342c70</td>\n",
       "      <td>a1102c6c-1bc4-b6aa-c5f2-6c34bd4b2370</td>\n",
       "      <td>18100000.0</td>\n",
       "      <td>male</td>\n",
       "      <td>361.000000</td>\n",
       "    </tr>\n",
       "    <tr>\n",
       "      <th>7</th>\n",
       "      <td>000792fb-3022-cac3-eea5-a93a49150727</td>\n",
       "      <td>7b224a36-b7b4-d02f-bf76-b4ac9ba085ca</td>\n",
       "      <td>11920000.0</td>\n",
       "      <td>male</td>\n",
       "      <td>NaN</td>\n",
       "    </tr>\n",
       "    <tr>\n",
       "      <th>8</th>\n",
       "      <td>00082be1-4c28-c41f-6147-92d0e12629c8</td>\n",
       "      <td>000ad7a8-b868-f301-5f00-2a3361288fc9</td>\n",
       "      <td>25200000.0</td>\n",
       "      <td>female</td>\n",
       "      <td>NaN</td>\n",
       "    </tr>\n",
       "    <tr>\n",
       "      <th>9</th>\n",
       "      <td>00086acf-adf2-b9cc-e600-442bfba4412d</td>\n",
       "      <td>fcf35538-c297-85aa-4fd8-230d4a64125a</td>\n",
       "      <td>20000.0</td>\n",
       "      <td>male</td>\n",
       "      <td>NaN</td>\n",
       "    </tr>\n",
       "  </tbody>\n",
       "</table>\n",
       "</div>"
      ],
      "text/plain": [
       "                            person_uuid                              org_uuid  \\\n",
       "0  00026df9-9254-269d-40b1-549e9529550d  d2d0cb83-b874-c5d7-c7f7-fb77613cc95b   \n",
       "1  000497ac-d3f9-7969-6c8b-b4050c8efc04  14658850-0cc9-15f8-62f3-a8c532ea6c61   \n",
       "2  000575b8-eac0-66b1-2a16-03c08c2b9f66  d2de0c01-397d-b4f1-8575-9b5e74e6b6b8   \n",
       "3  0005da7e-2311-9002-7756-ed2f2734e057  2aec3826-0f75-1f21-326a-5dbca9d5ff15   \n",
       "4  0005da7e-2311-9002-7756-ed2f2734e057  bd4c4326-ef34-d5d9-b689-0c0b0a6ba03c   \n",
       "5  00065f25-101a-bfe2-d79c-a172af342c70  6663f9d3-e6ab-348f-66c7-cafc00ce01a8   \n",
       "6  00065f25-101a-bfe2-d79c-a172af342c70  a1102c6c-1bc4-b6aa-c5f2-6c34bd4b2370   \n",
       "7  000792fb-3022-cac3-eea5-a93a49150727  7b224a36-b7b4-d02f-bf76-b4ac9ba085ca   \n",
       "8  00082be1-4c28-c41f-6147-92d0e12629c8  000ad7a8-b868-f301-5f00-2a3361288fc9   \n",
       "9  00086acf-adf2-b9cc-e600-442bfba4412d  fcf35538-c297-85aa-4fd8-230d4a64125a   \n",
       "\n",
       "   funding_total_usd  gender         pct  \n",
       "0          1016992.0    male         NaN  \n",
       "1          8521954.0    male         NaN  \n",
       "2            30000.0    male         NaN  \n",
       "3          7387100.0    male         NaN  \n",
       "4          3428769.0    male   -0.535844  \n",
       "5            50000.0    male         NaN  \n",
       "6         18100000.0    male  361.000000  \n",
       "7         11920000.0    male         NaN  \n",
       "8         25200000.0  female         NaN  \n",
       "9            20000.0    male         NaN  "
      ]
     },
     "execution_count": 27,
     "metadata": {},
     "output_type": "execute_result"
    }
   ],
   "source": [
    "# grouping by unique person identifier and finding percentage change of funding.\n",
    "founders_df['pct'] = founders_df.groupby('person_uuid').funding_total_usd.pct_change()\n",
    "founders_df.head(10)"
   ]
  },
  {
   "cell_type": "markdown",
   "metadata": {},
   "source": [
    "**Next Step of Analysis...**\n",
    "\n",
    "Using the 'pct' field we previously transformed, we will find the mean percentage change of funding for an experienced founder."
   ]
  },
  {
   "cell_type": "code",
   "execution_count": 28,
   "metadata": {},
   "outputs": [
    {
     "data": {
      "text/plain": [
       "32.03965925898116"
      ]
     },
     "execution_count": 28,
     "metadata": {},
     "output_type": "execute_result"
    }
   ],
   "source": [
    "founders_df[~founders_df.pct.isnull()]['pct'].mean()"
   ]
  },
  {
   "cell_type": "markdown",
   "metadata": {},
   "source": [
    "Looking at the max value in our 'pct' field"
   ]
  },
  {
   "cell_type": "code",
   "execution_count": 29,
   "metadata": {},
   "outputs": [
    {
     "data": {
      "text/plain": [
       "14969.059880239522"
      ]
     },
     "execution_count": 29,
     "metadata": {},
     "output_type": "execute_result"
    }
   ],
   "source": [
    "founders_df[~founders_df.pct.isnull()].pct.max()"
   ]
  },
  {
   "cell_type": "markdown",
   "metadata": {},
   "source": [
    "Comparing to this the min value in the 'pct' field.."
   ]
  },
  {
   "cell_type": "code",
   "execution_count": 30,
   "metadata": {},
   "outputs": [
    {
     "data": {
      "text/plain": [
       "-0.9999830767219503"
      ]
     },
     "execution_count": 30,
     "metadata": {},
     "output_type": "execute_result"
    }
   ],
   "source": [
    "founders_df[~founders_df.pct.isnull()].pct.min()"
   ]
  },
  {
   "cell_type": "markdown",
   "metadata": {},
   "source": [
    "In conclusion from this analysis, we can see that the mean percentage change in funding for an experienced founder is ~32%. This is an interesting point of analysis.\n",
    "\n",
    "### Experienced founder 1st startup vs Non-Experienced founder\n",
    "We will focus this next part of analysis on the first startup founded by an experienced founder. We will be investigating whether experienced founders received a higher mean funding for their first startup compared to a non-experienced founder."
   ]
  },
  {
   "cell_type": "markdown",
   "metadata": {},
   "source": [
    "#### Funding intervals boolean function\n",
    "This function returns three boolean variables. This will be used in the next part of our analysis."
   ]
  },
  {
   "cell_type": "code",
   "execution_count": 31,
   "metadata": {},
   "outputs": [],
   "source": [
    "# dataframe argument used to return three boolean values to split founders into groups based on funding values\n",
    "def funding_intervals(df):\n",
    "    Interval_1 = (df.funding_total_usd <= 1000000.0)\n",
    "    Interval_2 = ((df.funding_total_usd > 1000000.0) & (df.funding_total_usd <= 10000000.0))\n",
    "    Interval_3 = (df.funding_total_usd > 10000000.0)\n",
    "    \n",
    "    return Interval_1, Interval_2, Interval_3"
   ]
  },
  {
   "cell_type": "markdown",
   "metadata": {},
   "source": [
    "**Grouping founders_df to only contain the funding value of an experienced founders first startup...**"
   ]
  },
  {
   "cell_type": "code",
   "execution_count": 32,
   "metadata": {},
   "outputs": [
    {
     "data": {
      "text/html": [
       "<div>\n",
       "<style>\n",
       "    .dataframe thead tr:only-child th {\n",
       "        text-align: right;\n",
       "    }\n",
       "\n",
       "    .dataframe thead th {\n",
       "        text-align: left;\n",
       "    }\n",
       "\n",
       "    .dataframe tbody tr th {\n",
       "        vertical-align: top;\n",
       "    }\n",
       "</style>\n",
       "<table border=\"1\" class=\"dataframe\">\n",
       "  <thead>\n",
       "    <tr style=\"text-align: right;\">\n",
       "      <th></th>\n",
       "      <th>person_uuid</th>\n",
       "      <th>funding_total_usd</th>\n",
       "    </tr>\n",
       "  </thead>\n",
       "  <tbody>\n",
       "    <tr>\n",
       "      <th>0</th>\n",
       "      <td>0005da7e-2311-9002-7756-ed2f2734e057</td>\n",
       "      <td>7387100.0</td>\n",
       "    </tr>\n",
       "    <tr>\n",
       "      <th>1</th>\n",
       "      <td>00065f25-101a-bfe2-d79c-a172af342c70</td>\n",
       "      <td>50000.0</td>\n",
       "    </tr>\n",
       "    <tr>\n",
       "      <th>2</th>\n",
       "      <td>0009f5cb-b369-880a-9638-f4eece52f418</td>\n",
       "      <td>17000000.0</td>\n",
       "    </tr>\n",
       "    <tr>\n",
       "      <th>3</th>\n",
       "      <td>00141ae2-df2d-accc-3f96-b062f80c6ead</td>\n",
       "      <td>158700000.0</td>\n",
       "    </tr>\n",
       "    <tr>\n",
       "      <th>4</th>\n",
       "      <td>002a7067-5a53-a3ed-aea6-b8b2415f26be</td>\n",
       "      <td>1600000.0</td>\n",
       "    </tr>\n",
       "  </tbody>\n",
       "</table>\n",
       "</div>"
      ],
      "text/plain": [
       "                            person_uuid  funding_total_usd\n",
       "0  0005da7e-2311-9002-7756-ed2f2734e057          7387100.0\n",
       "1  00065f25-101a-bfe2-d79c-a172af342c70            50000.0\n",
       "2  0009f5cb-b369-880a-9638-f4eece52f418         17000000.0\n",
       "3  00141ae2-df2d-accc-3f96-b062f80c6ead        158700000.0\n",
       "4  002a7067-5a53-a3ed-aea6-b8b2415f26be          1600000.0"
      ]
     },
     "execution_count": 32,
     "metadata": {},
     "output_type": "execute_result"
    }
   ],
   "source": [
    "# resulting dataframe saved.\n",
    "first_startup_exp = founders_df[experienced].groupby('person_uuid',as_index=False,sort=False).agg({'funding_total_usd':'first'})\n",
    "first_startup_exp.head(5)"
   ]
  },
  {
   "cell_type": "markdown",
   "metadata": {},
   "source": [
    "Looking at the shape of this dataframe will tell us how many experienced founders we have in total..."
   ]
  },
  {
   "cell_type": "code",
   "execution_count": 33,
   "metadata": {},
   "outputs": [
    {
     "data": {
      "text/plain": [
       "(2635, 2)"
      ]
     },
     "execution_count": 33,
     "metadata": {},
     "output_type": "execute_result"
    }
   ],
   "source": [
    "first_startup_exp.shape"
   ]
  },
  {
   "cell_type": "markdown",
   "metadata": {},
   "source": [
    "Getting the boolean variables returned from funding intervals function and saving them in variables..."
   ]
  },
  {
   "cell_type": "code",
   "execution_count": 34,
   "metadata": {},
   "outputs": [],
   "source": [
    "interval_1, interval_2, interval_3 = funding_intervals(first_startup_exp)"
   ]
  },
  {
   "cell_type": "markdown",
   "metadata": {},
   "source": [
    "**Next Step of analysis...**\n",
    "\n",
    "We will look at the number of first startups of experienced founders for each funding interval..."
   ]
  },
  {
   "cell_type": "code",
   "execution_count": 35,
   "metadata": {},
   "outputs": [
    {
     "data": {
      "text/plain": [
       "(581, 2)"
      ]
     },
     "execution_count": 35,
     "metadata": {},
     "output_type": "execute_result"
    }
   ],
   "source": [
    "# Interval One\n",
    "first_startup_exp[interval_1].shape"
   ]
  },
  {
   "cell_type": "markdown",
   "metadata": {},
   "source": [
    "581 of the first startups of experienced founders achieved funding between 0 to $1,000,000.\n",
    "\n",
    "Looking at the mean funding value for this interval and saving it in a variable."
   ]
  },
  {
   "cell_type": "code",
   "execution_count": 36,
   "metadata": {},
   "outputs": [
    {
     "data": {
      "text/plain": [
       "360501.73149741825"
      ]
     },
     "execution_count": 36,
     "metadata": {},
     "output_type": "execute_result"
    }
   ],
   "source": [
    "# Saving mean value that was calculated in variable mean_1\n",
    "mean_1 = first_startup_exp[interval_1].funding_total_usd.mean()\n",
    "mean_1"
   ]
  },
  {
   "cell_type": "code",
   "execution_count": 37,
   "metadata": {},
   "outputs": [
    {
     "data": {
      "text/plain": [
       "(847, 2)"
      ]
     },
     "execution_count": 37,
     "metadata": {},
     "output_type": "execute_result"
    }
   ],
   "source": [
    "# Interval Two\n",
    "first_startup_exp[interval_2].shape"
   ]
  },
  {
   "cell_type": "markdown",
   "metadata": {},
   "source": [
    "847 of the first startups of experienced founders achieved funding between the second funding interval (1Mill-10Mill USD).\n",
    "\n",
    "Looking at the mean funding value for this interval and saving it in a variable..."
   ]
  },
  {
   "cell_type": "code",
   "execution_count": 38,
   "metadata": {},
   "outputs": [
    {
     "data": {
      "text/plain": [
       "4183721.9799291617"
      ]
     },
     "execution_count": 38,
     "metadata": {},
     "output_type": "execute_result"
    }
   ],
   "source": [
    "# Saving mean value that was calculated in variable mean_2\n",
    "mean_2 = first_startup_exp[interval_2].funding_total_usd.mean()\n",
    "mean_2"
   ]
  },
  {
   "cell_type": "code",
   "execution_count": 39,
   "metadata": {},
   "outputs": [
    {
     "data": {
      "text/plain": [
       "(1207, 2)"
      ]
     },
     "execution_count": 39,
     "metadata": {},
     "output_type": "execute_result"
    }
   ],
   "source": [
    "# Interval Three\n",
    "first_startup_exp[interval_3].shape"
   ]
  },
  {
   "cell_type": "markdown",
   "metadata": {},
   "source": [
    "1207 of the first startups of experienced founders achieved funding greater than $10,000,000.\n",
    "\n",
    "Looking at the mean funding value for this interval and saving it in a variable..."
   ]
  },
  {
   "cell_type": "code",
   "execution_count": 40,
   "metadata": {},
   "outputs": [
    {
     "data": {
      "text/plain": [
       "162685419.3811102"
      ]
     },
     "execution_count": 40,
     "metadata": {},
     "output_type": "execute_result"
    }
   ],
   "source": [
    "# Saving mean value that was calculated in variable mean_3\n",
    "mean_3 = first_startup_exp[interval_3].funding_total_usd.mean()\n",
    "mean_3"
   ]
  },
  {
   "cell_type": "markdown",
   "metadata": {},
   "source": [
    "**We will now do the same analysis for Non-Experienced founders (Only one startup founded)...**"
   ]
  },
  {
   "cell_type": "code",
   "execution_count": 41,
   "metadata": {},
   "outputs": [],
   "source": [
    "# Initialising dataframe containing only non experienced founders\n",
    "non_exp_founders = founders_df[~experienced]\n",
    "# Getting boolean conditions for masking of dataframe\n",
    "interval_1_noexp, interval_2_noexp, interval_3_noexp = funding_intervals(non_exp_founders)"
   ]
  },
  {
   "cell_type": "code",
   "execution_count": 42,
   "metadata": {},
   "outputs": [
    {
     "data": {
      "text/plain": [
       "(7873, 5)"
      ]
     },
     "execution_count": 42,
     "metadata": {},
     "output_type": "execute_result"
    }
   ],
   "source": [
    "# Interval One\n",
    "non_exp_founders[interval_1_noexp].shape"
   ]
  },
  {
   "cell_type": "code",
   "execution_count": 43,
   "metadata": {},
   "outputs": [
    {
     "data": {
      "text/plain": [
       "335727.94512892165"
      ]
     },
     "execution_count": 43,
     "metadata": {},
     "output_type": "execute_result"
    }
   ],
   "source": [
    "mean_1_noexp = non_exp_founders[interval_1_noexp].funding_total_usd.mean()\n",
    "mean_1_noexp"
   ]
  },
  {
   "cell_type": "code",
   "execution_count": 44,
   "metadata": {},
   "outputs": [
    {
     "data": {
      "text/plain": [
       "(8523, 5)"
      ]
     },
     "execution_count": 44,
     "metadata": {},
     "output_type": "execute_result"
    }
   ],
   "source": [
    "# Interval Two\n",
    "non_exp_founders[interval_2_noexp].shape"
   ]
  },
  {
   "cell_type": "code",
   "execution_count": 45,
   "metadata": {},
   "outputs": [
    {
     "data": {
      "text/plain": [
       "3899834.5350228795"
      ]
     },
     "execution_count": 45,
     "metadata": {},
     "output_type": "execute_result"
    }
   ],
   "source": [
    "mean_2_noexp = non_exp_founders[interval_2_noexp].funding_total_usd.mean()\n",
    "mean_2_noexp"
   ]
  },
  {
   "cell_type": "code",
   "execution_count": 46,
   "metadata": {},
   "outputs": [
    {
     "data": {
      "text/plain": [
       "(7703, 5)"
      ]
     },
     "execution_count": 46,
     "metadata": {},
     "output_type": "execute_result"
    }
   ],
   "source": [
    "# Interval Three\n",
    "non_exp_founders[interval_3_noexp].shape"
   ]
  },
  {
   "cell_type": "code",
   "execution_count": 47,
   "metadata": {},
   "outputs": [
    {
     "data": {
      "text/plain": [
       "102135417.53927042"
      ]
     },
     "execution_count": 47,
     "metadata": {},
     "output_type": "execute_result"
    }
   ],
   "source": [
    "mean_3_noexp = non_exp_founders[interval_3_noexp].funding_total_usd.mean()\n",
    "mean_3_noexp"
   ]
  },
  {
   "cell_type": "markdown",
   "metadata": {},
   "source": [
    "**Plotting all these values results in..**"
   ]
  },
  {
   "cell_type": "code",
   "execution_count": 48,
   "metadata": {},
   "outputs": [
    {
     "data": {
      "image/png": "[encoded data removed]",
      "text/plain": [
       "<matplotlib.figure.Figure at 0x1a1c951668>"
      ]
     },
     "metadata": {},
     "output_type": "display_data"
    }
   ],
   "source": [
    "x = np.arange(2)\n",
    "means = [mean_1, mean_1_noexp]\n",
    "plt.figure(figsize=(7,5))\n",
    "plt.bar(x, means, color='#428aff')\n",
    "plt.xticks(x, ('Experienced', 'Non-Experienced'))\n",
    "plt.ylabel(\"Avg Funding (USD)\")\n",
    "plt.title(\"Funding Interval One\")\n",
    "plt.show()"
   ]
  },
  {
   "cell_type": "code",
   "execution_count": 49,
   "metadata": {},
   "outputs": [
    {
     "data": {
      "image/png": "[encoded data removed]",
      "text/plain": [
       "<matplotlib.figure.Figure at 0x1a1c93c550>"
      ]
     },
     "metadata": {},
     "output_type": "display_data"
    }
   ],
   "source": [
    "x = np.arange(2)\n",
    "means = [mean_2, mean_2_noexp]\n",
    "plt.figure(figsize=(7,7))\n",
    "plt.bar(x, means, color='#00db50')\n",
    "plt.xticks(x, ('Experienced', 'Non-Experienced'))\n",
    "plt.ylabel(\"Avg Funding (USD)\")\n",
    "plt.title(\"Funding Interval Two\")\n",
    "plt.show()"
   ]
  },
  {
   "cell_type": "code",
   "execution_count": 50,
   "metadata": {},
   "outputs": [
    {
     "data": {
      "image/png": "[encoded data removed]",
      "text/plain": [
       "<matplotlib.figure.Figure at 0x1a1bde2048>"
      ]
     },
     "metadata": {},
     "output_type": "display_data"
    }
   ],
   "source": [
    "x = np.arange(2)\n",
    "means = [mean_3, mean_3_noexp]\n",
    "plt.figure(figsize=(7,10))\n",
    "plt.bar(x, means, color='#ff5656')\n",
    "plt.xticks(x, ('Experienced', 'Non-Experienced'))\n",
    "plt.title(\"Funding Interval Three\")\n",
    "plt.ylabel(\"Avg Funding (USD)\")\n",
    "plt.ticklabel_format(style='plain', axis='y')\n",
    "plt.show()"
   ]
  },
  {
   "cell_type": "markdown",
   "metadata": {},
   "source": [
    "**Briefly analysing the frequency of funding values...**"
   ]
  },
  {
   "cell_type": "code",
   "execution_count": 51,
   "metadata": {},
   "outputs": [
    {
     "data": {
      "image/png": "[encoded data removed]",
      "text/plain": [
       "<matplotlib.figure.Figure at 0x1a11fc6da0>"
      ]
     },
     "metadata": {},
     "output_type": "display_data"
    }
   ],
   "source": [
    "founders_df['USD_log'] = np.log(founders_df['funding_total_usd'] + 1)\n",
    "plt.figure(figsize=(12,10))\n",
    "sns.distplot(founders_df['USD_log'].dropna())\n",
    "plt.xlabel('log of Amount in USD')\n",
    "plt.title(\"Frequency of funding values\")\n",
    "plt.show()"
   ]
  },
  {
   "cell_type": "code",
   "execution_count": null,
   "metadata": {},
   "outputs": [],
   "source": []
  }
 ],
 "metadata": {
  "kernelspec": {
   "display_name": "Python 3",
   "language": "python",
   "name": "python3"
  },
  "language_info": {
   "codemirror_mode": {
    "name": "ipython",
    "version": 3
   },
   "file_extension": ".py",
   "mimetype": "text/x-python",
   "name": "python",
   "nbconvert_exporter": "python",
   "pygments_lexer": "ipython3",
   "version": "3.6.3"
  }
 },
 "nbformat": 4,
 "nbformat_minor": 2
}
