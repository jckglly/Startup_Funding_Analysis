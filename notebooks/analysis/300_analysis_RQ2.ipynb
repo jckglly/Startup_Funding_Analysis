{
 "cells": [
  {
   "cell_type": "markdown",
   "metadata": {},
   "source": [
    "# 300_analysis_RQ2\n",
    "\n",
    "## Purpose\n",
    "This notebook will be continuing analysis of our second RQ:\n",
    "\n",
    "- \"How does a founders education impact the amount of funding received by a startup\"\n",
    "\n",
    "We will investigate a founders education in terms of two aspects, the founders Highest Degree achieved and the institution that they attended. Once we have analysed these two aspects in enough detail in relation to our success metric, we will be able to conclude this RQ. \n",
    "\n",
    "This notebook focuses on the following analysis points:\n",
    "- Gender % of founders\n",
    "- Does this gender % change when looking at Highest Degree acheived by a founder?\n",
    "- Looking at the range of funding totals in data\n",
    "- Brief analysis of funding rounds of a startup\n",
    "\n",
    "## Datasets\n",
    "* _Input_: 200_analysis_RQ2.pkl\n",
    "* _Output_: 300_analysis_RQ2.pkl"
   ]
  },
  {
   "cell_type": "code",
   "execution_count": 1,
   "metadata": {},
   "outputs": [],
   "source": [
    "import os\n",
    "import sys\n",
    "import pandas as pd\n",
    "import numpy as np\n",
    "import matplotlib.pylab as plt\n",
    "from matplotlib import cm\n",
    "import seaborn as sns\n",
    "import networkx as nx\n",
    "pd.set_option('display.max_columns', None)\n",
    "module_path = os.path.abspath(os.path.join('../../data/..'))\n",
    "if module_path not in sys.path:\n",
    "    sys.path.append(module_path)\n",
    "%matplotlib inline"
   ]
  },
  {
   "cell_type": "code",
   "execution_count": 2,
   "metadata": {},
   "outputs": [],
   "source": [
    "sns.set_style(\"whitegrid\")\n",
    "sns.set_style(\"ticks\")\n",
    "sns.set_palette(\"muted\")\n",
    "sns.set_context(\"poster\")\n",
    "\n",
    "# Text, lines, and markers...\n",
    "plt.rcParams['text.color'] = 'k'\n",
    "plt.rcParams['axes.labelcolor'] = 'k'\n",
    "plt.rcParams['axes.titlesize'] = 28\n",
    "plt.rcParams['axes.titleweight'] = 'bold'\n",
    "plt.rcParams['axes.labelsize'] = 28\n",
    "plt.rcParams['axes.labelweight'] = 'bold'\n",
    "plt.rcParams['axes.grid'] = True\n",
    "plt.rcParams['xtick.labelsize'] = 22\n",
    "plt.rcParams['ytick.labelsize'] = 22\n",
    "plt.rcParams['lines.markersize'] = 15\n",
    "plt.rcParams['lines.markeredgewidth'] = 1\n",
    "plt.rcParams['lines.linewidth'] = 2\n",
    "plt.rcParams['legend.fontsize'] = 22\n",
    "plt.rcParams['patch.force_edgecolor'] = True"
   ]
  },
  {
   "cell_type": "markdown",
   "metadata": {},
   "source": [
    "## Importing dataset 2\n",
    "\n",
    "This dataset contains information about each founder like their education and also details about the startup they founded. As mentioned in previous notebooks, the reason there are multiple person instances in our dataset is because: \n",
    "- A duplicate person instance if they have founded multiple companies.\n",
    "- A duplicate person instance if they have changed positions in the same company.\n",
    "- A duplicate person instance if they have attain another degree/change institution while at the same company.\n",
    "\n",
    "However, we do not see the need of merging these rows together as they would store too much information. Not only this, having the rows seperated makes it easier for our analysis of this RQ when looking at the Highest Degree and Institutions attended by the founders."
   ]
  },
  {
   "cell_type": "code",
   "execution_count": 3,
   "metadata": {},
   "outputs": [
    {
     "data": {
      "text/plain": [
       "(44711, 55)"
      ]
     },
     "execution_count": 3,
     "metadata": {},
     "output_type": "execute_result"
    }
   ],
   "source": [
    "founders_df_raw = pd.read_pickle('../../data/analysis/200_analysis_RQ2.pkl')\n",
    "founders_df_raw.shape"
   ]
  },
  {
   "cell_type": "markdown",
   "metadata": {},
   "source": [
    "## Looking at Gender % of founders in our dataframe\n",
    "\n",
    "We want to look at the gender percentage of founders in our dataframe. Specifically we want to see if this gender percentage changes in relation to the highest degree achieved. When doing this analysis, we want to ensure that there are no founders who have a null gender value. \n",
    "\n",
    "We will begin our gender analysis of these founders looking at the Highest Degree attained by them.\n",
    "\n",
    "**Why group by person_uuid and org_uuid?** \n",
    "\n",
    "This is an important question in relation to our dataset. We do not want to only group founders by their unique person identifier, as this will mean that founders of multiple startups will be classified as one founder. We instead want them to be counted each time they found a company."
   ]
  },
  {
   "cell_type": "code",
   "execution_count": 4,
   "metadata": {},
   "outputs": [
    {
     "data": {
      "text/plain": [
       "(30047, 2)"
      ]
     },
     "execution_count": 4,
     "metadata": {},
     "output_type": "execute_result"
    }
   ],
   "source": [
    "# filtering founders with null gender and then grouping by person_uuid and org_uuid\n",
    "# aggergating gender and Highest Degree as we will use this for our analysis\n",
    "founders_gender_df = founders_df_raw[~founders_df_raw.gender.isnull()].groupby(['person_uuid','org_uuid']).agg({'gender':'first','Highest_Degree':'first'})\n",
    "founders_gender_df.shape"
   ]
  },
  {
   "cell_type": "markdown",
   "metadata": {},
   "source": [
    "We have previously seen from our preparation that a lot of this data has been user inputted. So first of all, we will have a look at the different types of values in the gender field."
   ]
  },
  {
   "cell_type": "code",
   "execution_count": 5,
   "metadata": {},
   "outputs": [
    {
     "data": {
      "text/plain": [
       "['male', 'female', 'not_provided']"
      ]
     },
     "execution_count": 5,
     "metadata": {},
     "output_type": "execute_result"
    }
   ],
   "source": [
    "list(founders_gender_df.gender.unique())"
   ]
  },
  {
   "cell_type": "markdown",
   "metadata": {},
   "source": [
    "**Thankfully** we only have three unique gender values. We will next look at the different counts of these values in our dataframe."
   ]
  },
  {
   "cell_type": "code",
   "execution_count": 6,
   "metadata": {},
   "outputs": [
    {
     "data": {
      "text/plain": [
       "male            26089\n",
       "female           3852\n",
       "not_provided      106\n",
       "Name: gender, dtype: int64"
      ]
     },
     "execution_count": 6,
     "metadata": {},
     "output_type": "execute_result"
    }
   ],
   "source": [
    "founders_gender_df['gender'].value_counts()"
   ]
  },
  {
   "cell_type": "markdown",
   "metadata": {},
   "source": [
    "Once glance at these value counts and it can be seen that it is largely dominated by males. We are not interested in having the 'not_provided' value for this analysis so the next step is masking the dataframe so it is not included. 100 founder instances will not effect our accuracy hugely."
   ]
  },
  {
   "cell_type": "code",
   "execution_count": 7,
   "metadata": {},
   "outputs": [
    {
     "data": {
      "text/plain": [
       "(29941, 2)"
      ]
     },
     "execution_count": 7,
     "metadata": {},
     "output_type": "execute_result"
    }
   ],
   "source": [
    "# masking the dataframe so we are only dealing with 'male' and 'female' gender values in our analysis\n",
    "founders_gender_df = founders_gender_df[founders_gender_df['gender']!='not_provided']\n",
    "founders_gender_df.shape"
   ]
  },
  {
   "cell_type": "markdown",
   "metadata": {},
   "source": [
    "**Looking at the value counts again...**"
   ]
  },
  {
   "cell_type": "code",
   "execution_count": 8,
   "metadata": {},
   "outputs": [
    {
     "data": {
      "text/plain": [
       "male      26089\n",
       "female     3852\n",
       "Name: gender, dtype: int64"
      ]
     },
     "execution_count": 8,
     "metadata": {},
     "output_type": "execute_result"
    }
   ],
   "source": [
    "founders_gender_df['gender'].value_counts()"
   ]
  },
  {
   "cell_type": "markdown",
   "metadata": {},
   "source": [
    "**Plotting these values results in...**"
   ]
  },
  {
   "cell_type": "code",
   "execution_count": 9,
   "metadata": {},
   "outputs": [
    {
     "data": {
      "image/png": "[encoded data removed]",
      "text/plain": [
       "<matplotlib.figure.Figure at 0x1a1bd96f60>"
      ]
     },
     "metadata": {},
     "output_type": "display_data"
    }
   ],
   "source": [
    "plt.figure(figsize=(10,10))\n",
    "counts= founders_gender_df['gender'].value_counts()\n",
    "colors = ['#66b3ff','#ff9999']\n",
    "plt.pie(counts, colors = colors, autopct='%1.1f%%',startangle=20)\n",
    "plt.legend((\"Male\",\"Female\"),frameon=True, loc='best')\n",
    "plt.title(\"Founders by Gender\")\n",
    "plt.show()"
   ]
  },
  {
   "cell_type": "markdown",
   "metadata": {},
   "source": [
    "This pie chart effectively shows how much Males dominate our dataset. There are almost 7 times as many males as there are females. This is a huge difference. This is a very interesting point of analysis that potentially can be explored in future work of this topic.\n",
    "\n",
    "## Analysis of Gender % of founders for Bachelors, Masters and PhD degrees\n",
    "\n",
    "### 1. Bachelors\n",
    "\n",
    "We first want to look at the gender percentage split of a founder who has achieved a Bachelors as a Highest Degree."
   ]
  },
  {
   "cell_type": "code",
   "execution_count": 10,
   "metadata": {},
   "outputs": [
    {
     "data": {
      "text/html": [
       "<div>\n",
       "<style>\n",
       "    .dataframe thead tr:only-child th {\n",
       "        text-align: right;\n",
       "    }\n",
       "\n",
       "    .dataframe thead th {\n",
       "        text-align: left;\n",
       "    }\n",
       "\n",
       "    .dataframe tbody tr th {\n",
       "        vertical-align: top;\n",
       "    }\n",
       "</style>\n",
       "<table border=\"1\" class=\"dataframe\">\n",
       "  <thead>\n",
       "    <tr style=\"text-align: right;\">\n",
       "      <th></th>\n",
       "      <th></th>\n",
       "      <th>gender</th>\n",
       "      <th>Highest_Degree</th>\n",
       "    </tr>\n",
       "    <tr>\n",
       "      <th>person_uuid</th>\n",
       "      <th>org_uuid</th>\n",
       "      <th></th>\n",
       "      <th></th>\n",
       "    </tr>\n",
       "  </thead>\n",
       "  <tbody>\n",
       "    <tr>\n",
       "      <th>000497ac-d3f9-7969-6c8b-b4050c8efc04</th>\n",
       "      <th>14658850-0cc9-15f8-62f3-a8c532ea6c61</th>\n",
       "      <td>male</td>\n",
       "      <td>Bachelors</td>\n",
       "    </tr>\n",
       "    <tr>\n",
       "      <th rowspan=\"2\" valign=\"top\">00065f25-101a-bfe2-d79c-a172af342c70</th>\n",
       "      <th>6663f9d3-e6ab-348f-66c7-cafc00ce01a8</th>\n",
       "      <td>male</td>\n",
       "      <td>Bachelors</td>\n",
       "    </tr>\n",
       "    <tr>\n",
       "      <th>a1102c6c-1bc4-b6aa-c5f2-6c34bd4b2370</th>\n",
       "      <td>male</td>\n",
       "      <td>Bachelors</td>\n",
       "    </tr>\n",
       "    <tr>\n",
       "      <th>000792fb-3022-cac3-eea5-a93a49150727</th>\n",
       "      <th>7b224a36-b7b4-d02f-bf76-b4ac9ba085ca</th>\n",
       "      <td>male</td>\n",
       "      <td>Bachelors</td>\n",
       "    </tr>\n",
       "    <tr>\n",
       "      <th>00082be1-4c28-c41f-6147-92d0e12629c8</th>\n",
       "      <th>000ad7a8-b868-f301-5f00-2a3361288fc9</th>\n",
       "      <td>female</td>\n",
       "      <td>Bachelors</td>\n",
       "    </tr>\n",
       "  </tbody>\n",
       "</table>\n",
       "</div>"
      ],
      "text/plain": [
       "                                                                           gender  \\\n",
       "person_uuid                          org_uuid                                       \n",
       "000497ac-d3f9-7969-6c8b-b4050c8efc04 14658850-0cc9-15f8-62f3-a8c532ea6c61    male   \n",
       "00065f25-101a-bfe2-d79c-a172af342c70 6663f9d3-e6ab-348f-66c7-cafc00ce01a8    male   \n",
       "                                     a1102c6c-1bc4-b6aa-c5f2-6c34bd4b2370    male   \n",
       "000792fb-3022-cac3-eea5-a93a49150727 7b224a36-b7b4-d02f-bf76-b4ac9ba085ca    male   \n",
       "00082be1-4c28-c41f-6147-92d0e12629c8 000ad7a8-b868-f301-5f00-2a3361288fc9  female   \n",
       "\n",
       "                                                                          Highest_Degree  \n",
       "person_uuid                          org_uuid                                             \n",
       "000497ac-d3f9-7969-6c8b-b4050c8efc04 14658850-0cc9-15f8-62f3-a8c532ea6c61      Bachelors  \n",
       "00065f25-101a-bfe2-d79c-a172af342c70 6663f9d3-e6ab-348f-66c7-cafc00ce01a8      Bachelors  \n",
       "                                     a1102c6c-1bc4-b6aa-c5f2-6c34bd4b2370      Bachelors  \n",
       "000792fb-3022-cac3-eea5-a93a49150727 7b224a36-b7b4-d02f-bf76-b4ac9ba085ca      Bachelors  \n",
       "00082be1-4c28-c41f-6147-92d0e12629c8 000ad7a8-b868-f301-5f00-2a3361288fc9      Bachelors  "
      ]
     },
     "execution_count": 10,
     "metadata": {},
     "output_type": "execute_result"
    }
   ],
   "source": [
    "# We mask the dataframe we created from previous step of analysis to only include founders with Highest Degree = Bachelors\n",
    "bachelors_founders_df = founders_gender_df[founders_gender_df['Highest_Degree']=='Bachelors']\n",
    "bachelors_founders_df.head(5) "
   ]
  },
  {
   "cell_type": "code",
   "execution_count": 11,
   "metadata": {},
   "outputs": [
    {
     "data": {
      "text/plain": [
       "(13129, 2)"
      ]
     },
     "execution_count": 11,
     "metadata": {},
     "output_type": "execute_result"
    }
   ],
   "source": [
    "bachelors_founders_df.shape"
   ]
  },
  {
   "cell_type": "markdown",
   "metadata": {},
   "source": [
    "**Looking at the value counts...**"
   ]
  },
  {
   "cell_type": "code",
   "execution_count": 12,
   "metadata": {},
   "outputs": [
    {
     "data": {
      "text/plain": [
       "male      11457\n",
       "female     1672\n",
       "Name: gender, dtype: int64"
      ]
     },
     "execution_count": 12,
     "metadata": {},
     "output_type": "execute_result"
    }
   ],
   "source": [
    "bachelors_founders_df['gender'].value_counts()"
   ]
  },
  {
   "cell_type": "markdown",
   "metadata": {},
   "source": [
    "**Plotting these values results in...**"
   ]
  },
  {
   "cell_type": "code",
   "execution_count": 13,
   "metadata": {},
   "outputs": [
    {
     "data": {
      "image/png": "[encoded data removed]",
      "text/plain": [
       "<matplotlib.figure.Figure at 0x1a1b190438>"
      ]
     },
     "metadata": {},
     "output_type": "display_data"
    }
   ],
   "source": [
    "plt.figure(figsize=(10,10))\n",
    "counts= bachelors_founders_df['gender'].value_counts()\n",
    "colors = ['#66b3ff','#ff9999']\n",
    "plt.pie(counts, colors = colors, autopct='%1.1f%%',startangle=20)\n",
    "plt.legend((\"Male\",\"Female\"),frameon=True, loc='best')\n",
    "plt.title(\"Founders (Bachelors) by Gender\")\n",
    "plt.show()"
   ]
  },
  {
   "cell_type": "markdown",
   "metadata": {},
   "source": [
    "### 2. Masters\n",
    "\n",
    "We now want to look at the gender percentage split of a founder who has achieved a Masters as a Highest Degree."
   ]
  },
  {
   "cell_type": "code",
   "execution_count": 14,
   "metadata": {},
   "outputs": [
    {
     "data": {
      "text/html": [
       "<div>\n",
       "<style>\n",
       "    .dataframe thead tr:only-child th {\n",
       "        text-align: right;\n",
       "    }\n",
       "\n",
       "    .dataframe thead th {\n",
       "        text-align: left;\n",
       "    }\n",
       "\n",
       "    .dataframe tbody tr th {\n",
       "        vertical-align: top;\n",
       "    }\n",
       "</style>\n",
       "<table border=\"1\" class=\"dataframe\">\n",
       "  <thead>\n",
       "    <tr style=\"text-align: right;\">\n",
       "      <th></th>\n",
       "      <th></th>\n",
       "      <th>gender</th>\n",
       "      <th>Highest_Degree</th>\n",
       "    </tr>\n",
       "    <tr>\n",
       "      <th>person_uuid</th>\n",
       "      <th>org_uuid</th>\n",
       "      <th></th>\n",
       "      <th></th>\n",
       "    </tr>\n",
       "  </thead>\n",
       "  <tbody>\n",
       "    <tr>\n",
       "      <th>000575b8-eac0-66b1-2a16-03c08c2b9f66</th>\n",
       "      <th>d2de0c01-397d-b4f1-8575-9b5e74e6b6b8</th>\n",
       "      <td>male</td>\n",
       "      <td>Masters</td>\n",
       "    </tr>\n",
       "    <tr>\n",
       "      <th rowspan=\"2\" valign=\"top\">0005da7e-2311-9002-7756-ed2f2734e057</th>\n",
       "      <th>2aec3826-0f75-1f21-326a-5dbca9d5ff15</th>\n",
       "      <td>male</td>\n",
       "      <td>Masters</td>\n",
       "    </tr>\n",
       "    <tr>\n",
       "      <th>bd4c4326-ef34-d5d9-b689-0c0b0a6ba03c</th>\n",
       "      <td>male</td>\n",
       "      <td>Masters</td>\n",
       "    </tr>\n",
       "    <tr>\n",
       "      <th>00104afd-01f7-d1f0-90af-fff7af4a39ad</th>\n",
       "      <th>a8708f75-09ed-35f3-b346-272131dc977f</th>\n",
       "      <td>male</td>\n",
       "      <td>Masters</td>\n",
       "    </tr>\n",
       "    <tr>\n",
       "      <th>00163642-b6d8-2548-f825-a3e814a49a7f</th>\n",
       "      <th>b6959be1-c3a2-4147-25ef-4b100615c7fe</th>\n",
       "      <td>female</td>\n",
       "      <td>Masters</td>\n",
       "    </tr>\n",
       "  </tbody>\n",
       "</table>\n",
       "</div>"
      ],
      "text/plain": [
       "                                                                           gender  \\\n",
       "person_uuid                          org_uuid                                       \n",
       "000575b8-eac0-66b1-2a16-03c08c2b9f66 d2de0c01-397d-b4f1-8575-9b5e74e6b6b8    male   \n",
       "0005da7e-2311-9002-7756-ed2f2734e057 2aec3826-0f75-1f21-326a-5dbca9d5ff15    male   \n",
       "                                     bd4c4326-ef34-d5d9-b689-0c0b0a6ba03c    male   \n",
       "00104afd-01f7-d1f0-90af-fff7af4a39ad a8708f75-09ed-35f3-b346-272131dc977f    male   \n",
       "00163642-b6d8-2548-f825-a3e814a49a7f b6959be1-c3a2-4147-25ef-4b100615c7fe  female   \n",
       "\n",
       "                                                                          Highest_Degree  \n",
       "person_uuid                          org_uuid                                             \n",
       "000575b8-eac0-66b1-2a16-03c08c2b9f66 d2de0c01-397d-b4f1-8575-9b5e74e6b6b8        Masters  \n",
       "0005da7e-2311-9002-7756-ed2f2734e057 2aec3826-0f75-1f21-326a-5dbca9d5ff15        Masters  \n",
       "                                     bd4c4326-ef34-d5d9-b689-0c0b0a6ba03c        Masters  \n",
       "00104afd-01f7-d1f0-90af-fff7af4a39ad a8708f75-09ed-35f3-b346-272131dc977f        Masters  \n",
       "00163642-b6d8-2548-f825-a3e814a49a7f b6959be1-c3a2-4147-25ef-4b100615c7fe        Masters  "
      ]
     },
     "execution_count": 14,
     "metadata": {},
     "output_type": "execute_result"
    }
   ],
   "source": [
    "masters_founders_df = founders_gender_df[founders_gender_df['Highest_Degree']=='Masters']\n",
    "masters_founders_df.head(5)"
   ]
  },
  {
   "cell_type": "code",
   "execution_count": 15,
   "metadata": {},
   "outputs": [
    {
     "data": {
      "text/plain": [
       "(12244, 2)"
      ]
     },
     "execution_count": 15,
     "metadata": {},
     "output_type": "execute_result"
    }
   ],
   "source": [
    "masters_founders_df.shape"
   ]
  },
  {
   "cell_type": "markdown",
   "metadata": {},
   "source": [
    "**Looking at the value counts...**"
   ]
  },
  {
   "cell_type": "code",
   "execution_count": 16,
   "metadata": {},
   "outputs": [
    {
     "data": {
      "text/plain": [
       "male      10618\n",
       "female     1626\n",
       "Name: gender, dtype: int64"
      ]
     },
     "execution_count": 16,
     "metadata": {},
     "output_type": "execute_result"
    }
   ],
   "source": [
    "masters_founders_df['gender'].value_counts() "
   ]
  },
  {
   "cell_type": "markdown",
   "metadata": {},
   "source": [
    "**Plotting these values results in...**"
   ]
  },
  {
   "cell_type": "code",
   "execution_count": 17,
   "metadata": {},
   "outputs": [
    {
     "data": {
      "image/png": "[encoded data removed]",
      "text/plain": [
       "<matplotlib.figure.Figure at 0x1a1b280ac8>"
      ]
     },
     "metadata": {},
     "output_type": "display_data"
    }
   ],
   "source": [
    "plt.figure(figsize=(10,10))\n",
    "counts= masters_founders_df['gender'].value_counts()\n",
    "colors = ['#66b3ff','#ff9999']\n",
    "plt.pie(counts, colors = colors, autopct='%1.1f%%',startangle=20)\n",
    "plt.legend((\"Male\",\"Female\"),frameon=True, loc='best')\n",
    "plt.title(\"Founders (Masters) by Gender\")\n",
    "plt.show()"
   ]
  },
  {
   "cell_type": "markdown",
   "metadata": {},
   "source": [
    "### 2. PhD\n",
    "\n",
    "We now want to look at the gender percentage split of a founder who has achieved a PhD as a Highest Degree."
   ]
  },
  {
   "cell_type": "code",
   "execution_count": 18,
   "metadata": {},
   "outputs": [
    {
     "data": {
      "text/html": [
       "<div>\n",
       "<style>\n",
       "    .dataframe thead tr:only-child th {\n",
       "        text-align: right;\n",
       "    }\n",
       "\n",
       "    .dataframe thead th {\n",
       "        text-align: left;\n",
       "    }\n",
       "\n",
       "    .dataframe tbody tr th {\n",
       "        vertical-align: top;\n",
       "    }\n",
       "</style>\n",
       "<table border=\"1\" class=\"dataframe\">\n",
       "  <thead>\n",
       "    <tr style=\"text-align: right;\">\n",
       "      <th></th>\n",
       "      <th></th>\n",
       "      <th>gender</th>\n",
       "      <th>Highest_Degree</th>\n",
       "    </tr>\n",
       "    <tr>\n",
       "      <th>person_uuid</th>\n",
       "      <th>org_uuid</th>\n",
       "      <th></th>\n",
       "      <th></th>\n",
       "    </tr>\n",
       "  </thead>\n",
       "  <tbody>\n",
       "    <tr>\n",
       "      <th>00026df9-9254-269d-40b1-549e9529550d</th>\n",
       "      <th>d2d0cb83-b874-c5d7-c7f7-fb77613cc95b</th>\n",
       "      <td>male</td>\n",
       "      <td>PhD</td>\n",
       "    </tr>\n",
       "    <tr>\n",
       "      <th rowspan=\"2\" valign=\"top\">0009f5cb-b369-880a-9638-f4eece52f418</th>\n",
       "      <th>0c430e2d-0b76-258c-1d5e-b973cc3cd827</th>\n",
       "      <td>male</td>\n",
       "      <td>PhD</td>\n",
       "    </tr>\n",
       "    <tr>\n",
       "      <th>d4180d8b-c189-c227-8e7e-e274133023a4</th>\n",
       "      <td>male</td>\n",
       "      <td>PhD</td>\n",
       "    </tr>\n",
       "    <tr>\n",
       "      <th>00184b35-b9aa-f6c2-898e-0a1a6e0ee1e5</th>\n",
       "      <th>a3826f14-4c4b-eb30-bdd3-d8c516612ace</th>\n",
       "      <td>male</td>\n",
       "      <td>PhD</td>\n",
       "    </tr>\n",
       "    <tr>\n",
       "      <th>001e6e02-fdf2-ca2f-f978-12b152a8d669</th>\n",
       "      <th>22a7b18e-6eb9-f37c-2723-fb8d3f3d5011</th>\n",
       "      <td>female</td>\n",
       "      <td>PhD</td>\n",
       "    </tr>\n",
       "  </tbody>\n",
       "</table>\n",
       "</div>"
      ],
      "text/plain": [
       "                                                                           gender  \\\n",
       "person_uuid                          org_uuid                                       \n",
       "00026df9-9254-269d-40b1-549e9529550d d2d0cb83-b874-c5d7-c7f7-fb77613cc95b    male   \n",
       "0009f5cb-b369-880a-9638-f4eece52f418 0c430e2d-0b76-258c-1d5e-b973cc3cd827    male   \n",
       "                                     d4180d8b-c189-c227-8e7e-e274133023a4    male   \n",
       "00184b35-b9aa-f6c2-898e-0a1a6e0ee1e5 a3826f14-4c4b-eb30-bdd3-d8c516612ace    male   \n",
       "001e6e02-fdf2-ca2f-f978-12b152a8d669 22a7b18e-6eb9-f37c-2723-fb8d3f3d5011  female   \n",
       "\n",
       "                                                                          Highest_Degree  \n",
       "person_uuid                          org_uuid                                             \n",
       "00026df9-9254-269d-40b1-549e9529550d d2d0cb83-b874-c5d7-c7f7-fb77613cc95b            PhD  \n",
       "0009f5cb-b369-880a-9638-f4eece52f418 0c430e2d-0b76-258c-1d5e-b973cc3cd827            PhD  \n",
       "                                     d4180d8b-c189-c227-8e7e-e274133023a4            PhD  \n",
       "00184b35-b9aa-f6c2-898e-0a1a6e0ee1e5 a3826f14-4c4b-eb30-bdd3-d8c516612ace            PhD  \n",
       "001e6e02-fdf2-ca2f-f978-12b152a8d669 22a7b18e-6eb9-f37c-2723-fb8d3f3d5011            PhD  "
      ]
     },
     "execution_count": 18,
     "metadata": {},
     "output_type": "execute_result"
    }
   ],
   "source": [
    "phd_founders_df = founders_gender_df[founders_gender_df['Highest_Degree']=='PhD']\n",
    "phd_founders_df.head(5) "
   ]
  },
  {
   "cell_type": "code",
   "execution_count": 19,
   "metadata": {},
   "outputs": [
    {
     "data": {
      "text/plain": [
       "(3350, 2)"
      ]
     },
     "execution_count": 19,
     "metadata": {},
     "output_type": "execute_result"
    }
   ],
   "source": [
    "phd_founders_df.shape"
   ]
  },
  {
   "cell_type": "markdown",
   "metadata": {},
   "source": [
    "**Looking at the value counts...**"
   ]
  },
  {
   "cell_type": "code",
   "execution_count": 20,
   "metadata": {},
   "outputs": [
    {
     "data": {
      "text/plain": [
       "male      2953\n",
       "female     397\n",
       "Name: gender, dtype: int64"
      ]
     },
     "execution_count": 20,
     "metadata": {},
     "output_type": "execute_result"
    }
   ],
   "source": [
    "phd_founders_df['gender'].value_counts() "
   ]
  },
  {
   "cell_type": "markdown",
   "metadata": {},
   "source": [
    "**Plotting these values results in...**"
   ]
  },
  {
   "cell_type": "code",
   "execution_count": 21,
   "metadata": {},
   "outputs": [
    {
     "data": {
      "image/png": "[encoded data removed]",
      "text/plain": [
       "<matplotlib.figure.Figure at 0x1a1b20ad68>"
      ]
     },
     "metadata": {},
     "output_type": "display_data"
    }
   ],
   "source": [
    "plt.figure(figsize=(10,10))\n",
    "counts= phd_founders_df['gender'].value_counts()\n",
    "colors = ['#66b3ff','#ff9999']\n",
    "plt.pie(counts, colors = colors, autopct='%1.1f%%',startangle=20)\n",
    "plt.legend((\"Male\",\"Female\"),frameon=True, loc='best')\n",
    "plt.title(\"Founders (PhD) by Gender\")\n",
    "plt.show()"
   ]
  },
  {
   "cell_type": "markdown",
   "metadata": {},
   "source": [
    "**In Conclusion...**\n",
    "\n",
    "We can see that even across the different degree types, males continue to dominate the overall percentage. One last visualisation that shows this effectively is shown below. We expected to see at least one significant difference when looking at this gender percentage for each degree type. However, this was not the case as the percentage of Males/Females varied by 1% maximum."
   ]
  },
  {
   "cell_type": "code",
   "execution_count": 22,
   "metadata": {},
   "outputs": [
    {
     "data": {
      "image/png": "[encoded data removed]",
      "text/plain": [
       "<matplotlib.figure.Figure at 0x1a1b518fd0>"
      ]
     },
     "metadata": {},
     "output_type": "display_data"
    }
   ],
   "source": [
    "plt.figure(figsize=(15,7))\n",
    "\n",
    "# The first values in each of these arrays are for Bachelors, 2nd = Masters, 3rd = PhD\n",
    "# We entered these from the value_count series above.\n",
    "male_vals = np.array((10221,9378,2539))\n",
    "female_vals = np.array((1584,1538,379))\n",
    "\n",
    "ind = np.arange(3)    \n",
    "width = 0.35    \n",
    "\n",
    "p1 = plt.bar(ind, male_vals, width, color='#66b3ff', edgecolor=\"none\")\n",
    "p2 = plt.bar(ind, female_vals, width,  bottom=male_vals, color='#ff9999', edgecolor=\"none\")\n",
    "\n",
    "plt.ylabel('Founders Count')\n",
    "plt.title('Gender Difference for top 3 degree types')\n",
    "plt.xticks(ind, ('Bachelors', 'Masters', 'Phd'))\n",
    "plt.xlabel('Degree Types')\n",
    "plt.legend((p1[0], p2[0]), ('Male', 'Female'), frameon=True)\n",
    "\n",
    "plt.show()"
   ]
  },
  {
   "cell_type": "markdown",
   "metadata": {},
   "source": [
    "## Looking at Mean Funding of Founders more in depth\n",
    "\n",
    "In our previous analysis notebook for this RQ, we looked at the mean funding of a founder for all the degree types. However since then, we have focused on the 3 most popular degree types: **Bachelors, Masters and PhD**. When doing this analysis previously, we had not considered that the range of our funding total values were very large.\n",
    "\n",
    "**First Step of Anlaysis...**\n",
    "\n",
    "Investigating whether these funding total ranges are very large for the institutions."
   ]
  },
  {
   "cell_type": "code",
   "execution_count": 23,
   "metadata": {},
   "outputs": [],
   "source": [
    "# This function is used to return the range value and mean value of funding for an inputted institution\n",
    "def college_info_vals(df, college):\n",
    "    # founders who have not attended institution inputted into function are filtered\n",
    "    df_masked = df[(df['institution_uuid']==college)]\n",
    "    \n",
    "    # founders grouped again based on person identifier and org identifier. Funding total aggergated. as_index false as\n",
    "    # we want to group them again and it simplifies this\n",
    "    df_grouped = df_masked.groupby(['person_uuid','org_uuid'],as_index=False).agg({'funding_total_usd':'first'})\n",
    "    \n",
    "    # finding the max, min, mean and range value by grouping the organisations, using their first funding total instance\n",
    "    # as it is same for all founders, then finding respective max, min etc.\n",
    "    max_val = df_grouped.groupby('org_uuid').agg({'funding_total_usd':'first'}).funding_total_usd.max()\n",
    "    min_val = df_grouped.groupby('org_uuid').agg({'funding_total_usd':'first'}).funding_total_usd.min()\n",
    "    mean_val = df_grouped.groupby('org_uuid').agg({'funding_total_usd':'first'}).funding_total_usd.mean()\n",
    "    range_val = max_val-min_val\n",
    "    \n",
    "    # range and mean value of institution returned\n",
    "    return range_val, mean_val\n"
   ]
  },
  {
   "cell_type": "code",
   "execution_count": 24,
   "metadata": {},
   "outputs": [
    {
     "data": {
      "text/html": [
       "<div>\n",
       "<style>\n",
       "    .dataframe thead tr:only-child th {\n",
       "        text-align: right;\n",
       "    }\n",
       "\n",
       "    .dataframe thead th {\n",
       "        text-align: left;\n",
       "    }\n",
       "\n",
       "    .dataframe tbody tr th {\n",
       "        vertical-align: top;\n",
       "    }\n",
       "</style>\n",
       "<table border=\"1\" class=\"dataframe\">\n",
       "  <thead>\n",
       "    <tr style=\"text-align: right;\">\n",
       "      <th></th>\n",
       "      <th>College</th>\n",
       "      <th>Range_Value</th>\n",
       "      <th>Mean_Value</th>\n",
       "    </tr>\n",
       "  </thead>\n",
       "  <tbody>\n",
       "    <tr>\n",
       "      <th>0</th>\n",
       "      <td>Stanford</td>\n",
       "      <td>1.254846e+10</td>\n",
       "      <td>7.181499e+07</td>\n",
       "    </tr>\n",
       "    <tr>\n",
       "      <th>1</th>\n",
       "      <td>Harvard</td>\n",
       "      <td>4.398081e+09</td>\n",
       "      <td>5.580232e+07</td>\n",
       "    </tr>\n",
       "    <tr>\n",
       "      <th>2</th>\n",
       "      <td>MIT</td>\n",
       "      <td>4.112495e+09</td>\n",
       "      <td>4.990949e+07</td>\n",
       "    </tr>\n",
       "    <tr>\n",
       "      <th>3</th>\n",
       "      <td>UPenn</td>\n",
       "      <td>8.343995e+09</td>\n",
       "      <td>5.052640e+07</td>\n",
       "    </tr>\n",
       "    <tr>\n",
       "      <th>4</th>\n",
       "      <td>Berkeley</td>\n",
       "      <td>1.254846e+10</td>\n",
       "      <td>6.723381e+07</td>\n",
       "    </tr>\n",
       "  </tbody>\n",
       "</table>\n",
       "</div>"
      ],
      "text/plain": [
       "    College   Range_Value    Mean_Value\n",
       "0  Stanford  1.254846e+10  7.181499e+07\n",
       "1   Harvard  4.398081e+09  5.580232e+07\n",
       "2       MIT  4.112495e+09  4.990949e+07\n",
       "3     UPenn  8.343995e+09  5.052640e+07\n",
       "4  Berkeley  1.254846e+10  6.723381e+07"
      ]
     },
     "execution_count": 24,
     "metadata": {},
     "output_type": "execute_result"
    }
   ],
   "source": [
    "# Top institutions defined\n",
    "top_institutions = ['Stanford','Harvard','MIT','UPenn','Berkeley']\n",
    "columns=['College','Range_Value','Mean_Value']\n",
    "output = pd.DataFrame(columns=columns)\n",
    "\n",
    "# going through top institutions and calling the function above\n",
    "for val in top_institutions:\n",
    "    rangev,meanv = college_info_vals(founders_df_raw, val)\n",
    "    # resulting string from function appended to list called output\n",
    "    output = output.append(pd.Series([val,rangev,meanv], index=columns), ignore_index=True)\n",
    "output"
   ]
  },
  {
   "cell_type": "markdown",
   "metadata": {},
   "source": [
    "We can see from the outputted dataframe above that the **range** of funding is **very large** for each institution as we expected. The mean values are therefore not as accurate as we want them to be. \n",
    "\n",
    "At this point in the analysis, we feel that splitting the funding total achieved by founders into three main categories will allow us to get a **greater insight** into our data. **Evenly split** funding intervals will be necessary in order to achieve this.\n",
    "\n",
    "The 3 funding intervals we chose:\n",
    "- **Interval one**: A founder of a company who has attained funding less than or equal to 1,000,000 USD\n",
    "- **Interval two**: A founder of a company who has attained funding between 1,000,000 - 10,000,000 USD\n",
    "- **Interval three**: A founder of a company who has attained funding greater than 10,000,000 USD\n",
    "\n",
    "## Institution analysis in relation to the three funding intervals\n",
    "\n",
    "The first point of analysis, using the funding intervals, will be looking at the different counts of founders attending these top institutions.\n",
    "\n",
    "The following block of code defines the boolean conditions that we will use when we want to filter the dataframe using a mask:"
   ]
  },
  {
   "cell_type": "code",
   "execution_count": 25,
   "metadata": {},
   "outputs": [],
   "source": [
    "# Funding interval boolean conditions for our dataframe\n",
    "Interval_1 = (founders_df_raw.funding_total_usd <= 1000000.0)\n",
    "Interval_2 = ((founders_df_raw.funding_total_usd > 1000000.0) & (founders_df_raw.funding_total_usd <= 10000000.0))\n",
    "Interval_3 = (founders_df_raw.funding_total_usd > 10000000.0)"
   ]
  },
  {
   "cell_type": "markdown",
   "metadata": {},
   "source": [
    "### 1. Interval one: Less than or equal to 1Million USD achieved\n",
    "\n",
    "To do this analysis we will be again grouping the founders based on the person_uuid, their org_uuid and the institution_uuid. Then we will aggergate the first funding total instance of the founder. The resulting dataframe is what we will use for our analysis."
   ]
  },
  {
   "cell_type": "code",
   "execution_count": 26,
   "metadata": {},
   "outputs": [
    {
     "data": {
      "text/html": [
       "<div>\n",
       "<style>\n",
       "    .dataframe thead tr:only-child th {\n",
       "        text-align: right;\n",
       "    }\n",
       "\n",
       "    .dataframe thead th {\n",
       "        text-align: left;\n",
       "    }\n",
       "\n",
       "    .dataframe tbody tr th {\n",
       "        vertical-align: top;\n",
       "    }\n",
       "</style>\n",
       "<table border=\"1\" class=\"dataframe\">\n",
       "  <thead>\n",
       "    <tr style=\"text-align: right;\">\n",
       "      <th></th>\n",
       "      <th>person_uuid</th>\n",
       "      <th>org_uuid</th>\n",
       "      <th>institution_uuid</th>\n",
       "      <th>funding_total_usd</th>\n",
       "    </tr>\n",
       "  </thead>\n",
       "  <tbody>\n",
       "    <tr>\n",
       "      <th>0</th>\n",
       "      <td>000575b8-eac0-66b1-2a16-03c08c2b9f66</td>\n",
       "      <td>d2de0c01-397d-b4f1-8575-9b5e74e6b6b8</td>\n",
       "      <td>1eab62d2-15d9-0db7-930f-2aa77d4688e1</td>\n",
       "      <td>30000.0</td>\n",
       "    </tr>\n",
       "    <tr>\n",
       "      <th>1</th>\n",
       "      <td>00065f25-101a-bfe2-d79c-a172af342c70</td>\n",
       "      <td>6663f9d3-e6ab-348f-66c7-cafc00ce01a8</td>\n",
       "      <td>1fe3a91c-1f94-fecb-3774-b45618c9e4fa</td>\n",
       "      <td>50000.0</td>\n",
       "    </tr>\n",
       "    <tr>\n",
       "      <th>2</th>\n",
       "      <td>00086acf-adf2-b9cc-e600-442bfba4412d</td>\n",
       "      <td>fcf35538-c297-85aa-4fd8-230d4a64125a</td>\n",
       "      <td>6d8b0da2-7608-e923-434b-d1dcafda699b</td>\n",
       "      <td>20000.0</td>\n",
       "    </tr>\n",
       "    <tr>\n",
       "      <th>3</th>\n",
       "      <td>000900e0-de66-f99d-38cb-def9d7b8a75b</td>\n",
       "      <td>85767bb9-1b17-9997-06a2-56525738e398</td>\n",
       "      <td>6d7683c1-e3cf-9c90-d3a8-03e4be9ccb0c</td>\n",
       "      <td>100000.0</td>\n",
       "    </tr>\n",
       "    <tr>\n",
       "      <th>4</th>\n",
       "      <td>00091a93-d3ec-d264-fec2-a8b162ec6646</td>\n",
       "      <td>3f032059-7df2-dd9c-698b-dcd4d05d2b04</td>\n",
       "      <td>59229786-b811-b948-2cbe-104df15d5e50</td>\n",
       "      <td>20000.0</td>\n",
       "    </tr>\n",
       "  </tbody>\n",
       "</table>\n",
       "</div>"
      ],
      "text/plain": [
       "                            person_uuid                              org_uuid  \\\n",
       "0  000575b8-eac0-66b1-2a16-03c08c2b9f66  d2de0c01-397d-b4f1-8575-9b5e74e6b6b8   \n",
       "1  00065f25-101a-bfe2-d79c-a172af342c70  6663f9d3-e6ab-348f-66c7-cafc00ce01a8   \n",
       "2  00086acf-adf2-b9cc-e600-442bfba4412d  fcf35538-c297-85aa-4fd8-230d4a64125a   \n",
       "3  000900e0-de66-f99d-38cb-def9d7b8a75b  85767bb9-1b17-9997-06a2-56525738e398   \n",
       "4  00091a93-d3ec-d264-fec2-a8b162ec6646  3f032059-7df2-dd9c-698b-dcd4d05d2b04   \n",
       "\n",
       "                       institution_uuid  funding_total_usd  \n",
       "0  1eab62d2-15d9-0db7-930f-2aa77d4688e1            30000.0  \n",
       "1  1fe3a91c-1f94-fecb-3774-b45618c9e4fa            50000.0  \n",
       "2  6d8b0da2-7608-e923-434b-d1dcafda699b            20000.0  \n",
       "3  6d7683c1-e3cf-9c90-d3a8-03e4be9ccb0c           100000.0  \n",
       "4  59229786-b811-b948-2cbe-104df15d5e50            20000.0  "
      ]
     },
     "execution_count": 26,
     "metadata": {},
     "output_type": "execute_result"
    }
   ],
   "source": [
    "# We use the boolean condition for the first interval before grouping by the person id, organisation id and institution id\n",
    "interval1_grouped = founders_df_raw[Interval_1].groupby(['person_uuid','org_uuid','institution_uuid'],as_index=False).agg({'funding_total_usd':'first'})\n",
    "interval1_grouped.head(5)"
   ]
  },
  {
   "cell_type": "code",
   "execution_count": 27,
   "metadata": {},
   "outputs": [
    {
     "data": {
      "text/plain": [
       "(11998, 4)"
      ]
     },
     "execution_count": 27,
     "metadata": {},
     "output_type": "execute_result"
    }
   ],
   "source": [
    "interval1_grouped.shape"
   ]
  },
  {
   "cell_type": "markdown",
   "metadata": {},
   "source": [
    "**Looking at the most popular institutions...**"
   ]
  },
  {
   "cell_type": "code",
   "execution_count": 28,
   "metadata": {},
   "outputs": [
    {
     "data": {
      "text/plain": [
       "Stanford    243\n",
       "Harvard     190\n",
       "UPenn       156\n",
       "Berkeley    155\n",
       "MIT         146\n",
       "Name: institution_uuid, dtype: int64"
      ]
     },
     "execution_count": 28,
     "metadata": {},
     "output_type": "execute_result"
    }
   ],
   "source": [
    "interval1_grouped.institution_uuid.value_counts().head(5)"
   ]
  },
  {
   "cell_type": "markdown",
   "metadata": {},
   "source": [
    "**Next Step of Analysis...**\n",
    "\n",
    "It would be interesting to see how many unique institutions Interval 1 Founders attended in total "
   ]
  },
  {
   "cell_type": "code",
   "execution_count": 29,
   "metadata": {},
   "outputs": [
    {
     "data": {
      "text/plain": [
       "2798"
      ]
     },
     "execution_count": 29,
     "metadata": {},
     "output_type": "execute_result"
    }
   ],
   "source": [
    "# Value is saved in variable for analysis later on\n",
    "uniq_inst_int1 = interval1_grouped.institution_uuid.unique().size\n",
    "uniq_inst_int1"
   ]
  },
  {
   "cell_type": "code",
   "execution_count": 30,
   "metadata": {},
   "outputs": [
    {
     "data": {
      "text/plain": [
       "institution_uuid\n",
       "Stanford    99710622.0\n",
       "Harvard     73306594.0\n",
       "UPenn       67013276.0\n",
       "Berkeley    53066635.0\n",
       "MIT         51908694.0\n",
       "Name: funding_total_usd, dtype: float64"
      ]
     },
     "execution_count": 30,
     "metadata": {},
     "output_type": "execute_result"
    }
   ],
   "source": [
    "interval1_grouped.groupby('institution_uuid')['funding_total_usd'].sum().sort_values(ascending=False).head(5)"
   ]
  },
  {
   "cell_type": "markdown",
   "metadata": {},
   "source": [
    "### 2. Interval two: 1Million USD - 10Million USD achieved\n",
    "\n",
    "To do this analysis we will be again grouping the founders based on the person_uuid, their org_uuid and the institution_uuid. Then we will aggergate the first funding total instance of the founder. The resulting dataframe is what we will use for our analysis."
   ]
  },
  {
   "cell_type": "code",
   "execution_count": 31,
   "metadata": {},
   "outputs": [
    {
     "data": {
      "text/html": [
       "<div>\n",
       "<style>\n",
       "    .dataframe thead tr:only-child th {\n",
       "        text-align: right;\n",
       "    }\n",
       "\n",
       "    .dataframe thead th {\n",
       "        text-align: left;\n",
       "    }\n",
       "\n",
       "    .dataframe tbody tr th {\n",
       "        vertical-align: top;\n",
       "    }\n",
       "</style>\n",
       "<table border=\"1\" class=\"dataframe\">\n",
       "  <thead>\n",
       "    <tr style=\"text-align: right;\">\n",
       "      <th></th>\n",
       "      <th>person_uuid</th>\n",
       "      <th>org_uuid</th>\n",
       "      <th>institution_uuid</th>\n",
       "      <th>funding_total_usd</th>\n",
       "    </tr>\n",
       "  </thead>\n",
       "  <tbody>\n",
       "    <tr>\n",
       "      <th>0</th>\n",
       "      <td>00026df9-9254-269d-40b1-549e9529550d</td>\n",
       "      <td>d2d0cb83-b874-c5d7-c7f7-fb77613cc95b</td>\n",
       "      <td>3e893a4c-f191-b42c-5dab-4785e07d3c75</td>\n",
       "      <td>1016992.0</td>\n",
       "    </tr>\n",
       "    <tr>\n",
       "      <th>1</th>\n",
       "      <td>00026df9-9254-269d-40b1-549e9529550d</td>\n",
       "      <td>d2d0cb83-b874-c5d7-c7f7-fb77613cc95b</td>\n",
       "      <td>Cambridge</td>\n",
       "      <td>1016992.0</td>\n",
       "    </tr>\n",
       "    <tr>\n",
       "      <th>2</th>\n",
       "      <td>000497ac-d3f9-7969-6c8b-b4050c8efc04</td>\n",
       "      <td>14658850-0cc9-15f8-62f3-a8c532ea6c61</td>\n",
       "      <td>922c1428-93c2-8e1e-cb37-327b83824426</td>\n",
       "      <td>8521954.0</td>\n",
       "    </tr>\n",
       "    <tr>\n",
       "      <th>3</th>\n",
       "      <td>0005da7e-2311-9002-7756-ed2f2734e057</td>\n",
       "      <td>2aec3826-0f75-1f21-326a-5dbca9d5ff15</td>\n",
       "      <td>9850bb11-7d5a-85c7-349c-a8977ef7fbac</td>\n",
       "      <td>7387100.0</td>\n",
       "    </tr>\n",
       "    <tr>\n",
       "      <th>4</th>\n",
       "      <td>0005da7e-2311-9002-7756-ed2f2734e057</td>\n",
       "      <td>bd4c4326-ef34-d5d9-b689-0c0b0a6ba03c</td>\n",
       "      <td>9850bb11-7d5a-85c7-349c-a8977ef7fbac</td>\n",
       "      <td>3428769.0</td>\n",
       "    </tr>\n",
       "  </tbody>\n",
       "</table>\n",
       "</div>"
      ],
      "text/plain": [
       "                            person_uuid                              org_uuid  \\\n",
       "0  00026df9-9254-269d-40b1-549e9529550d  d2d0cb83-b874-c5d7-c7f7-fb77613cc95b   \n",
       "1  00026df9-9254-269d-40b1-549e9529550d  d2d0cb83-b874-c5d7-c7f7-fb77613cc95b   \n",
       "2  000497ac-d3f9-7969-6c8b-b4050c8efc04  14658850-0cc9-15f8-62f3-a8c532ea6c61   \n",
       "3  0005da7e-2311-9002-7756-ed2f2734e057  2aec3826-0f75-1f21-326a-5dbca9d5ff15   \n",
       "4  0005da7e-2311-9002-7756-ed2f2734e057  bd4c4326-ef34-d5d9-b689-0c0b0a6ba03c   \n",
       "\n",
       "                       institution_uuid  funding_total_usd  \n",
       "0  3e893a4c-f191-b42c-5dab-4785e07d3c75          1016992.0  \n",
       "1                             Cambridge          1016992.0  \n",
       "2  922c1428-93c2-8e1e-cb37-327b83824426          8521954.0  \n",
       "3  9850bb11-7d5a-85c7-349c-a8977ef7fbac          7387100.0  \n",
       "4  9850bb11-7d5a-85c7-349c-a8977ef7fbac          3428769.0  "
      ]
     },
     "execution_count": 31,
     "metadata": {},
     "output_type": "execute_result"
    }
   ],
   "source": [
    "interval2_grouped = founders_df_raw[Interval_2].groupby(['person_uuid','org_uuid','institution_uuid'],as_index=False).agg({'funding_total_usd':'first'})\n",
    "interval2_grouped.head(5)"
   ]
  },
  {
   "cell_type": "code",
   "execution_count": 32,
   "metadata": {},
   "outputs": [
    {
     "data": {
      "text/plain": [
       "(14183, 4)"
      ]
     },
     "execution_count": 32,
     "metadata": {},
     "output_type": "execute_result"
    }
   ],
   "source": [
    "interval2_grouped.shape"
   ]
  },
  {
   "cell_type": "markdown",
   "metadata": {},
   "source": [
    "**Looking at the most popular institutions...**"
   ]
  },
  {
   "cell_type": "code",
   "execution_count": 33,
   "metadata": {},
   "outputs": [
    {
     "data": {
      "text/plain": [
       "Stanford    537\n",
       "Harvard     439\n",
       "MIT         316\n",
       "UPenn       280\n",
       "Berkeley    252\n",
       "Name: institution_uuid, dtype: int64"
      ]
     },
     "execution_count": 33,
     "metadata": {},
     "output_type": "execute_result"
    }
   ],
   "source": [
    "interval2_grouped.institution_uuid.value_counts().head(5)"
   ]
  },
  {
   "cell_type": "markdown",
   "metadata": {},
   "source": [
    "**Next Step of Analysis...**\n",
    "\n",
    "It would be interesting to see how many unique institutions Interval 2 Founders attended in total "
   ]
  },
  {
   "cell_type": "code",
   "execution_count": 34,
   "metadata": {},
   "outputs": [
    {
     "data": {
      "text/plain": [
       "2472"
      ]
     },
     "execution_count": 34,
     "metadata": {},
     "output_type": "execute_result"
    }
   ],
   "source": [
    "# Value is saved in variable for analysis later on\n",
    "uniq_inst_int2 = interval2_grouped.institution_uuid.unique().size\n",
    "uniq_inst_int2"
   ]
  },
  {
   "cell_type": "code",
   "execution_count": 35,
   "metadata": {},
   "outputs": [
    {
     "data": {
      "text/plain": [
       "institution_uuid\n",
       "Stanford    2.382499e+09\n",
       "Harvard     1.912268e+09\n",
       "MIT         1.356152e+09\n",
       "UPenn       1.105059e+09\n",
       "Berkeley    1.030799e+09\n",
       "Name: funding_total_usd, dtype: float64"
      ]
     },
     "execution_count": 35,
     "metadata": {},
     "output_type": "execute_result"
    }
   ],
   "source": [
    "interval2_grouped.groupby('institution_uuid')['funding_total_usd'].sum().sort_values(ascending=False).head(5)"
   ]
  },
  {
   "cell_type": "markdown",
   "metadata": {},
   "source": [
    "### 3. Interval three: Greater than 10Million USD achieved\n",
    "\n",
    "To do this analysis we will be again grouping the founders based on the person_uuid, their org_uuid and the institution_uuid. Then we will aggergate the first funding total instance of the founder. The resulting dataframe is what we will use for our analysis."
   ]
  },
  {
   "cell_type": "code",
   "execution_count": 36,
   "metadata": {},
   "outputs": [
    {
     "data": {
      "text/html": [
       "<div>\n",
       "<style>\n",
       "    .dataframe thead tr:only-child th {\n",
       "        text-align: right;\n",
       "    }\n",
       "\n",
       "    .dataframe thead th {\n",
       "        text-align: left;\n",
       "    }\n",
       "\n",
       "    .dataframe tbody tr th {\n",
       "        vertical-align: top;\n",
       "    }\n",
       "</style>\n",
       "<table border=\"1\" class=\"dataframe\">\n",
       "  <thead>\n",
       "    <tr style=\"text-align: right;\">\n",
       "      <th></th>\n",
       "      <th>person_uuid</th>\n",
       "      <th>org_uuid</th>\n",
       "      <th>institution_uuid</th>\n",
       "      <th>funding_total_usd</th>\n",
       "    </tr>\n",
       "  </thead>\n",
       "  <tbody>\n",
       "    <tr>\n",
       "      <th>0</th>\n",
       "      <td>00065f25-101a-bfe2-d79c-a172af342c70</td>\n",
       "      <td>a1102c6c-1bc4-b6aa-c5f2-6c34bd4b2370</td>\n",
       "      <td>1fe3a91c-1f94-fecb-3774-b45618c9e4fa</td>\n",
       "      <td>18100000.0</td>\n",
       "    </tr>\n",
       "    <tr>\n",
       "      <th>1</th>\n",
       "      <td>000792fb-3022-cac3-eea5-a93a49150727</td>\n",
       "      <td>7b224a36-b7b4-d02f-bf76-b4ac9ba085ca</td>\n",
       "      <td>8fea5416-d418-ede2-3a45-43507decf319</td>\n",
       "      <td>11920000.0</td>\n",
       "    </tr>\n",
       "    <tr>\n",
       "      <th>2</th>\n",
       "      <td>00082be1-4c28-c41f-6147-92d0e12629c8</td>\n",
       "      <td>000ad7a8-b868-f301-5f00-2a3361288fc9</td>\n",
       "      <td>15ef87ba-aa17-b1ed-6542-96b1e92663ee</td>\n",
       "      <td>25200000.0</td>\n",
       "    </tr>\n",
       "    <tr>\n",
       "      <th>3</th>\n",
       "      <td>0009f5cb-b369-880a-9638-f4eece52f418</td>\n",
       "      <td>0c430e2d-0b76-258c-1d5e-b973cc3cd827</td>\n",
       "      <td>97649ea8-30db-0037-7904-32574f4f7129</td>\n",
       "      <td>17000000.0</td>\n",
       "    </tr>\n",
       "    <tr>\n",
       "      <th>4</th>\n",
       "      <td>0009f5cb-b369-880a-9638-f4eece52f418</td>\n",
       "      <td>0c430e2d-0b76-258c-1d5e-b973cc3cd827</td>\n",
       "      <td>ef948bad-e493-1056-0eda-e17bd1f6a60c</td>\n",
       "      <td>17000000.0</td>\n",
       "    </tr>\n",
       "  </tbody>\n",
       "</table>\n",
       "</div>"
      ],
      "text/plain": [
       "                            person_uuid                              org_uuid  \\\n",
       "0  00065f25-101a-bfe2-d79c-a172af342c70  a1102c6c-1bc4-b6aa-c5f2-6c34bd4b2370   \n",
       "1  000792fb-3022-cac3-eea5-a93a49150727  7b224a36-b7b4-d02f-bf76-b4ac9ba085ca   \n",
       "2  00082be1-4c28-c41f-6147-92d0e12629c8  000ad7a8-b868-f301-5f00-2a3361288fc9   \n",
       "3  0009f5cb-b369-880a-9638-f4eece52f418  0c430e2d-0b76-258c-1d5e-b973cc3cd827   \n",
       "4  0009f5cb-b369-880a-9638-f4eece52f418  0c430e2d-0b76-258c-1d5e-b973cc3cd827   \n",
       "\n",
       "                       institution_uuid  funding_total_usd  \n",
       "0  1fe3a91c-1f94-fecb-3774-b45618c9e4fa         18100000.0  \n",
       "1  8fea5416-d418-ede2-3a45-43507decf319         11920000.0  \n",
       "2  15ef87ba-aa17-b1ed-6542-96b1e92663ee         25200000.0  \n",
       "3  97649ea8-30db-0037-7904-32574f4f7129         17000000.0  \n",
       "4  ef948bad-e493-1056-0eda-e17bd1f6a60c         17000000.0  "
      ]
     },
     "execution_count": 36,
     "metadata": {},
     "output_type": "execute_result"
    }
   ],
   "source": [
    "interval3_grouped = founders_df_raw[Interval_3].groupby(['person_uuid','org_uuid','institution_uuid'],as_index=False).agg({'funding_total_usd':'first'})\n",
    "interval3_grouped.head(5)"
   ]
  },
  {
   "cell_type": "code",
   "execution_count": 37,
   "metadata": {},
   "outputs": [
    {
     "data": {
      "text/plain": [
       "(14863, 4)"
      ]
     },
     "execution_count": 37,
     "metadata": {},
     "output_type": "execute_result"
    }
   ],
   "source": [
    "interval3_grouped.shape"
   ]
  },
  {
   "cell_type": "markdown",
   "metadata": {},
   "source": [
    "**Looking at the most popular institutions...**"
   ]
  },
  {
   "cell_type": "code",
   "execution_count": 38,
   "metadata": {},
   "outputs": [
    {
     "data": {
      "text/plain": [
       "Stanford    902\n",
       "Harvard     735\n",
       "MIT         504\n",
       "UPenn       346\n",
       "Berkeley    343\n",
       "Name: institution_uuid, dtype: int64"
      ]
     },
     "execution_count": 38,
     "metadata": {},
     "output_type": "execute_result"
    }
   ],
   "source": [
    "interval3_grouped.institution_uuid.value_counts().head(5)"
   ]
  },
  {
   "cell_type": "markdown",
   "metadata": {},
   "source": [
    "**Next Step of Analysis...**\n",
    "\n",
    "It would be interesting to see how many unique institutions Interval 3 Founders attended in total "
   ]
  },
  {
   "cell_type": "code",
   "execution_count": 39,
   "metadata": {},
   "outputs": [
    {
     "data": {
      "text/plain": [
       "1974"
      ]
     },
     "execution_count": 39,
     "metadata": {},
     "output_type": "execute_result"
    }
   ],
   "source": [
    "# Value is saved in variable for analysis later on\n",
    "uniq_inst_int3 = interval3_grouped.institution_uuid.unique().size\n",
    "uniq_inst_int3"
   ]
  },
  {
   "cell_type": "code",
   "execution_count": 40,
   "metadata": {},
   "outputs": [
    {
     "data": {
      "text/plain": [
       "institution_uuid\n",
       "Stanford                                1.245021e+11\n",
       "Harvard                                 9.066967e+10\n",
       "MIT                                     4.912006e+10\n",
       "Berkeley                                4.772870e+10\n",
       "92eb706d-9f82-53b1-da8e-faaebc06a2fa    4.282578e+10\n",
       "Name: funding_total_usd, dtype: float64"
      ]
     },
     "execution_count": 40,
     "metadata": {},
     "output_type": "execute_result"
    }
   ],
   "source": [
    "interval3_grouped.groupby('institution_uuid')['funding_total_usd'].sum().sort_values(ascending=False).head(5)"
   ]
  },
  {
   "cell_type": "code",
   "execution_count": 41,
   "metadata": {},
   "outputs": [
    {
     "data": {
      "text/html": [
       "<div>\n",
       "<style>\n",
       "    .dataframe thead tr:only-child th {\n",
       "        text-align: right;\n",
       "    }\n",
       "\n",
       "    .dataframe thead th {\n",
       "        text-align: left;\n",
       "    }\n",
       "\n",
       "    .dataframe tbody tr th {\n",
       "        vertical-align: top;\n",
       "    }\n",
       "</style>\n",
       "<table border=\"1\" class=\"dataframe\">\n",
       "  <thead>\n",
       "    <tr style=\"text-align: right;\">\n",
       "      <th></th>\n",
       "      <th>first_name</th>\n",
       "      <th>last_name</th>\n",
       "      <th>gender</th>\n",
       "      <th>company_name</th>\n",
       "      <th>funding_rounds</th>\n",
       "      <th>funding_total_usd</th>\n",
       "      <th>primary_role</th>\n",
       "      <th>country_code</th>\n",
       "      <th>state_code</th>\n",
       "      <th>city</th>\n",
       "      <th>title</th>\n",
       "      <th>job_type</th>\n",
       "      <th>subject</th>\n",
       "      <th>degree_type</th>\n",
       "      <th>person_uuid</th>\n",
       "      <th>degree_uuid</th>\n",
       "      <th>institution_uuid</th>\n",
       "      <th>org_uuid</th>\n",
       "      <th>Highest_Degree</th>\n",
       "      <th>Administrative Services</th>\n",
       "      <th>Advertising</th>\n",
       "      <th>Agriculture and Farming</th>\n",
       "      <th>Biotechnology</th>\n",
       "      <th>Clothing and Apparel</th>\n",
       "      <th>Commerce and Shopping</th>\n",
       "      <th>Community and Lifestyle</th>\n",
       "      <th>Consumer Goods</th>\n",
       "      <th>Content and Publishing</th>\n",
       "      <th>Design</th>\n",
       "      <th>Education</th>\n",
       "      <th>Energy</th>\n",
       "      <th>Events</th>\n",
       "      <th>Food and Beverage</th>\n",
       "      <th>Government and Military</th>\n",
       "      <th>Hardware</th>\n",
       "      <th>Health Care</th>\n",
       "      <th>Manufacturing</th>\n",
       "      <th>Media and Entertainment</th>\n",
       "      <th>Music and Audio</th>\n",
       "      <th>Natural Resources</th>\n",
       "      <th>Navigation and Mapping</th>\n",
       "      <th>Platforms</th>\n",
       "      <th>Privacy and Security</th>\n",
       "      <th>Professional Services</th>\n",
       "      <th>Real Estate</th>\n",
       "      <th>Sales and Marketing</th>\n",
       "      <th>Science and Engineering</th>\n",
       "      <th>Sports</th>\n",
       "      <th>Sustainability</th>\n",
       "      <th>Transportation</th>\n",
       "      <th>Travel and Tourism</th>\n",
       "      <th>Video</th>\n",
       "      <th>Technology</th>\n",
       "      <th>Finance</th>\n",
       "      <th>Communication</th>\n",
       "    </tr>\n",
       "  </thead>\n",
       "  <tbody>\n",
       "    <tr>\n",
       "      <th>81</th>\n",
       "      <td>Garrett</td>\n",
       "      <td>Camp</td>\n",
       "      <td>male</td>\n",
       "      <td>Uber</td>\n",
       "      <td>19</td>\n",
       "      <td>2.111245e+10</td>\n",
       "      <td>company</td>\n",
       "      <td>USA</td>\n",
       "      <td>CA</td>\n",
       "      <td>San Francisco</td>\n",
       "      <td>Co-Founder &amp; Chairman</td>\n",
       "      <td>executive</td>\n",
       "      <td>Electrical Engineering</td>\n",
       "      <td>bsc</td>\n",
       "      <td>65c9a0d1-8947-78b3-23fd-037b1495ef0b</td>\n",
       "      <td>71eaeea8-98bd-7a4a-3f11-9c67b455421c</td>\n",
       "      <td>92eb706d-9f82-53b1-da8e-faaebc06a2fa</td>\n",
       "      <td>1eb37109-3b93-01a9-177f-fee2cb1bfcdc</td>\n",
       "      <td>Masters</td>\n",
       "      <td>0</td>\n",
       "      <td>0</td>\n",
       "      <td>0</td>\n",
       "      <td>0</td>\n",
       "      <td>0</td>\n",
       "      <td>0</td>\n",
       "      <td>0</td>\n",
       "      <td>0</td>\n",
       "      <td>0</td>\n",
       "      <td>0</td>\n",
       "      <td>0</td>\n",
       "      <td>0</td>\n",
       "      <td>0</td>\n",
       "      <td>0</td>\n",
       "      <td>0</td>\n",
       "      <td>0</td>\n",
       "      <td>0</td>\n",
       "      <td>0</td>\n",
       "      <td>0</td>\n",
       "      <td>0</td>\n",
       "      <td>0</td>\n",
       "      <td>0</td>\n",
       "      <td>0</td>\n",
       "      <td>0</td>\n",
       "      <td>0</td>\n",
       "      <td>0</td>\n",
       "      <td>0</td>\n",
       "      <td>0</td>\n",
       "      <td>0</td>\n",
       "      <td>0</td>\n",
       "      <td>1</td>\n",
       "      <td>0</td>\n",
       "      <td>0</td>\n",
       "      <td>1</td>\n",
       "      <td>0</td>\n",
       "      <td>1</td>\n",
       "    </tr>\n",
       "    <tr>\n",
       "      <th>82</th>\n",
       "      <td>Garrett</td>\n",
       "      <td>Camp</td>\n",
       "      <td>male</td>\n",
       "      <td>Uber</td>\n",
       "      <td>19</td>\n",
       "      <td>2.111245e+10</td>\n",
       "      <td>company</td>\n",
       "      <td>USA</td>\n",
       "      <td>CA</td>\n",
       "      <td>San Francisco</td>\n",
       "      <td>Co-Founder &amp; Chairman</td>\n",
       "      <td>executive</td>\n",
       "      <td>Software Engineering</td>\n",
       "      <td>msc</td>\n",
       "      <td>65c9a0d1-8947-78b3-23fd-037b1495ef0b</td>\n",
       "      <td>fde858fd-3c03-25b9-e131-ba0ac1d7c7b2</td>\n",
       "      <td>92eb706d-9f82-53b1-da8e-faaebc06a2fa</td>\n",
       "      <td>1eb37109-3b93-01a9-177f-fee2cb1bfcdc</td>\n",
       "      <td>Masters</td>\n",
       "      <td>0</td>\n",
       "      <td>0</td>\n",
       "      <td>0</td>\n",
       "      <td>0</td>\n",
       "      <td>0</td>\n",
       "      <td>0</td>\n",
       "      <td>0</td>\n",
       "      <td>0</td>\n",
       "      <td>0</td>\n",
       "      <td>0</td>\n",
       "      <td>0</td>\n",
       "      <td>0</td>\n",
       "      <td>0</td>\n",
       "      <td>0</td>\n",
       "      <td>0</td>\n",
       "      <td>0</td>\n",
       "      <td>0</td>\n",
       "      <td>0</td>\n",
       "      <td>0</td>\n",
       "      <td>0</td>\n",
       "      <td>0</td>\n",
       "      <td>0</td>\n",
       "      <td>0</td>\n",
       "      <td>0</td>\n",
       "      <td>0</td>\n",
       "      <td>0</td>\n",
       "      <td>0</td>\n",
       "      <td>0</td>\n",
       "      <td>0</td>\n",
       "      <td>0</td>\n",
       "      <td>1</td>\n",
       "      <td>0</td>\n",
       "      <td>0</td>\n",
       "      <td>1</td>\n",
       "      <td>0</td>\n",
       "      <td>1</td>\n",
       "    </tr>\n",
       "    <tr>\n",
       "      <th>84</th>\n",
       "      <td>Oscar</td>\n",
       "      <td>Salazar</td>\n",
       "      <td>male</td>\n",
       "      <td>Uber</td>\n",
       "      <td>19</td>\n",
       "      <td>2.111245e+10</td>\n",
       "      <td>company</td>\n",
       "      <td>USA</td>\n",
       "      <td>CA</td>\n",
       "      <td>San Francisco</td>\n",
       "      <td>Co-Founder</td>\n",
       "      <td>executive</td>\n",
       "      <td>Electrical and Computer Engineering</td>\n",
       "      <td>ms</td>\n",
       "      <td>754749d1-92ad-220d-212b-59940889c59b</td>\n",
       "      <td>7f789740-693c-f7e3-ffaa-d34f96587750</td>\n",
       "      <td>92eb706d-9f82-53b1-da8e-faaebc06a2fa</td>\n",
       "      <td>1eb37109-3b93-01a9-177f-fee2cb1bfcdc</td>\n",
       "      <td>PhD</td>\n",
       "      <td>0</td>\n",
       "      <td>0</td>\n",
       "      <td>0</td>\n",
       "      <td>0</td>\n",
       "      <td>0</td>\n",
       "      <td>0</td>\n",
       "      <td>0</td>\n",
       "      <td>0</td>\n",
       "      <td>0</td>\n",
       "      <td>0</td>\n",
       "      <td>0</td>\n",
       "      <td>0</td>\n",
       "      <td>0</td>\n",
       "      <td>0</td>\n",
       "      <td>0</td>\n",
       "      <td>0</td>\n",
       "      <td>0</td>\n",
       "      <td>0</td>\n",
       "      <td>0</td>\n",
       "      <td>0</td>\n",
       "      <td>0</td>\n",
       "      <td>0</td>\n",
       "      <td>0</td>\n",
       "      <td>0</td>\n",
       "      <td>0</td>\n",
       "      <td>0</td>\n",
       "      <td>0</td>\n",
       "      <td>0</td>\n",
       "      <td>0</td>\n",
       "      <td>0</td>\n",
       "      <td>1</td>\n",
       "      <td>0</td>\n",
       "      <td>0</td>\n",
       "      <td>1</td>\n",
       "      <td>0</td>\n",
       "      <td>1</td>\n",
       "    </tr>\n",
       "  </tbody>\n",
       "</table>\n",
       "</div>"
      ],
      "text/plain": [
       "   first_name last_name gender company_name  funding_rounds  \\\n",
       "81    Garrett      Camp   male         Uber              19   \n",
       "82    Garrett      Camp   male         Uber              19   \n",
       "84      Oscar   Salazar   male         Uber              19   \n",
       "\n",
       "    funding_total_usd primary_role country_code state_code           city  \\\n",
       "81       2.111245e+10      company          USA         CA  San Francisco   \n",
       "82       2.111245e+10      company          USA         CA  San Francisco   \n",
       "84       2.111245e+10      company          USA         CA  San Francisco   \n",
       "\n",
       "                    title   job_type                              subject  \\\n",
       "81  Co-Founder & Chairman  executive               Electrical Engineering   \n",
       "82  Co-Founder & Chairman  executive                 Software Engineering   \n",
       "84             Co-Founder  executive  Electrical and Computer Engineering   \n",
       "\n",
       "   degree_type                           person_uuid  \\\n",
       "81         bsc  65c9a0d1-8947-78b3-23fd-037b1495ef0b   \n",
       "82         msc  65c9a0d1-8947-78b3-23fd-037b1495ef0b   \n",
       "84          ms  754749d1-92ad-220d-212b-59940889c59b   \n",
       "\n",
       "                             degree_uuid  \\\n",
       "81  71eaeea8-98bd-7a4a-3f11-9c67b455421c   \n",
       "82  fde858fd-3c03-25b9-e131-ba0ac1d7c7b2   \n",
       "84  7f789740-693c-f7e3-ffaa-d34f96587750   \n",
       "\n",
       "                        institution_uuid  \\\n",
       "81  92eb706d-9f82-53b1-da8e-faaebc06a2fa   \n",
       "82  92eb706d-9f82-53b1-da8e-faaebc06a2fa   \n",
       "84  92eb706d-9f82-53b1-da8e-faaebc06a2fa   \n",
       "\n",
       "                                org_uuid Highest_Degree  \\\n",
       "81  1eb37109-3b93-01a9-177f-fee2cb1bfcdc        Masters   \n",
       "82  1eb37109-3b93-01a9-177f-fee2cb1bfcdc        Masters   \n",
       "84  1eb37109-3b93-01a9-177f-fee2cb1bfcdc            PhD   \n",
       "\n",
       "    Administrative Services  Advertising  Agriculture and Farming  \\\n",
       "81                        0            0                        0   \n",
       "82                        0            0                        0   \n",
       "84                        0            0                        0   \n",
       "\n",
       "    Biotechnology  Clothing and Apparel  Commerce and Shopping  \\\n",
       "81              0                     0                      0   \n",
       "82              0                     0                      0   \n",
       "84              0                     0                      0   \n",
       "\n",
       "    Community and Lifestyle  Consumer Goods  Content and Publishing  Design  \\\n",
       "81                        0               0                       0       0   \n",
       "82                        0               0                       0       0   \n",
       "84                        0               0                       0       0   \n",
       "\n",
       "    Education  Energy  Events  Food and Beverage  Government and Military  \\\n",
       "81          0       0       0                  0                        0   \n",
       "82          0       0       0                  0                        0   \n",
       "84          0       0       0                  0                        0   \n",
       "\n",
       "    Hardware  Health Care  Manufacturing  Media and Entertainment  \\\n",
       "81         0            0              0                        0   \n",
       "82         0            0              0                        0   \n",
       "84         0            0              0                        0   \n",
       "\n",
       "    Music and Audio  Natural Resources  Navigation and Mapping  Platforms  \\\n",
       "81                0                  0                       0          0   \n",
       "82                0                  0                       0          0   \n",
       "84                0                  0                       0          0   \n",
       "\n",
       "    Privacy and Security  Professional Services  Real Estate  \\\n",
       "81                     0                      0            0   \n",
       "82                     0                      0            0   \n",
       "84                     0                      0            0   \n",
       "\n",
       "    Sales and Marketing  Science and Engineering  Sports  Sustainability  \\\n",
       "81                    0                        0       0               0   \n",
       "82                    0                        0       0               0   \n",
       "84                    0                        0       0               0   \n",
       "\n",
       "    Transportation  Travel and Tourism  Video  Technology  Finance  \\\n",
       "81               1                   0      0           1        0   \n",
       "82               1                   0      0           1        0   \n",
       "84               1                   0      0           1        0   \n",
       "\n",
       "    Communication  \n",
       "81              1  \n",
       "82              1  \n",
       "84              1  "
      ]
     },
     "execution_count": 41,
     "metadata": {},
     "output_type": "execute_result"
    }
   ],
   "source": [
    "founders_df_raw[founders_df_raw.institution_uuid=='92eb706d-9f82-53b1-da8e-faaebc06a2fa'].head(3)\n",
    "# '92eb706d-9f82-53b1-da8e-faaebc06a2fa' = University of Calgary"
   ]
  },
  {
   "cell_type": "code",
   "execution_count": 42,
   "metadata": {},
   "outputs": [
    {
     "data": {
      "text/plain": [
       "institution_uuid\n",
       "Stanford    1.245021e+11\n",
       "Harvard     9.066967e+10\n",
       "MIT         4.912006e+10\n",
       "Berkeley    4.772870e+10\n",
       "Calgary     4.282578e+10\n",
       "Name: funding_total_usd, dtype: float64"
      ]
     },
     "execution_count": 42,
     "metadata": {},
     "output_type": "execute_result"
    }
   ],
   "source": [
    "founders_df_raw.loc[founders_df_raw['institution_uuid']=='92eb706d-9f82-53b1-da8e-faaebc06a2fa', 'institution_uuid'] = 'Calgary'\n",
    "interval3_grouped = founders_df_raw[Interval_3].groupby(['person_uuid','org_uuid','institution_uuid'],as_index=False).agg({'funding_total_usd':'first'})\n",
    "interval3_grouped.groupby('institution_uuid')['funding_total_usd'].sum().sort_values(ascending=False).head(5)"
   ]
  },
  {
   "cell_type": "markdown",
   "metadata": {},
   "source": [
    "### Looking at the number of unique institutions over the three funding intervals...\n",
    "\n",
    "We saved the number of unique institutions in three separate while doing analysis on the three funding intervals. They were denoted by 'uniq_inst_intX'. We will compare these numbers to for this part of analysis."
   ]
  },
  {
   "cell_type": "code",
   "execution_count": 43,
   "metadata": {},
   "outputs": [
    {
     "data": {
      "text/plain": [
       "1    2798\n",
       "2    2472\n",
       "3    1974\n",
       "dtype: int64"
      ]
     },
     "execution_count": 43,
     "metadata": {},
     "output_type": "execute_result"
    }
   ],
   "source": [
    "# Creating a series that holds these unique institution number values. '1' denotes interval 1\n",
    "uniq_inst_series = pd.Series({'1':uniq_inst_int1, '2':uniq_inst_int2,'3':uniq_inst_int3})\n",
    "uniq_inst_series"
   ]
  },
  {
   "cell_type": "markdown",
   "metadata": {},
   "source": [
    "We can see from this series straight away that as the funding interval increases, the number of unique institutions decreases...\n",
    "\n",
    "**Plotting these values results in...**"
   ]
  },
  {
   "cell_type": "code",
   "execution_count": 44,
   "metadata": {},
   "outputs": [
    {
     "data": {
      "text/plain": [
       "Text(0.5,0,'Interval')"
      ]
     },
     "execution_count": 44,
     "metadata": {},
     "output_type": "execute_result"
    },
    {
     "data": {
      "image/png": "[encoded data removed]",
      "text/plain": [
       "<matplotlib.figure.Figure at 0x1a1b41a3c8>"
      ]
     },
     "metadata": {},
     "output_type": "display_data"
    }
   ],
   "source": [
    "uniq_inst_series.plot.bar(figsize=(10,5))\n",
    "plt.xticks(np.arange(3), ('One', 'Two', 'Three'), rotation=0)\n",
    "plt.title(\"Number of unique Institutions\")\n",
    "plt.ylabel(\"Count\")\n",
    "plt.xlabel(\"Interval\")"
   ]
  },
  {
   "cell_type": "markdown",
   "metadata": {},
   "source": [
    "**In conclusion of the funding interval analysis...**\n",
    "\n",
    "All these points of analysis are very interesting and give us a greater insight into a startup founders education. In particular, it was intriguing to see that the number of unique institutions attended decreases as the funding interval increases. This would be something that we could be investigated further in future work.\n",
    "\n",
    "## Saving the adjusted dataframe in pickle file\n",
    "- Updated uuid for University of Calgary."
   ]
  },
  {
   "cell_type": "code",
   "execution_count": 45,
   "metadata": {},
   "outputs": [
    {
     "data": {
      "text/plain": [
       "(44711, 55)"
      ]
     },
     "execution_count": 45,
     "metadata": {},
     "output_type": "execute_result"
    }
   ],
   "source": [
    "founders_df_raw.to_pickle(\"../../data/analysis/300_analysis_RQ2.pkl\")\n",
    "founders_df_raw.shape"
   ]
  },
  {
   "cell_type": "code",
   "execution_count": null,
   "metadata": {},
   "outputs": [],
   "source": []
  }
 ],
 "metadata": {
  "kernelspec": {
   "display_name": "Python 3",
   "language": "python",
   "name": "python3"
  },
  "language_info": {
   "codemirror_mode": {
    "name": "ipython",
    "version": 3
   },
   "file_extension": ".py",
   "mimetype": "text/x-python",
   "name": "python",
   "nbconvert_exporter": "python",
   "pygments_lexer": "ipython3",
   "version": "3.6.3"
  }
 },
 "nbformat": 4,
 "nbformat_minor": 2
}
