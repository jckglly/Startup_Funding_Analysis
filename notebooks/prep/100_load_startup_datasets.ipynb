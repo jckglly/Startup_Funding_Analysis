{
 "cells": [
  {
   "cell_type": "markdown",
   "metadata": {},
   "source": [
    "# 100_load_startup_datasets\n",
    "\n",
    "## Purpose\n",
    "In this notebook we will begin our analysis of the Crunchbase datasets. Primarily, we will focus on loading and reviewing the datasets. The aim for this notebook is to get two seperate datasets. \n",
    "The reason we did this:\n",
    "* The first dataset will be used to analyse the first RQ: \n",
    " * (RQ1: Correlation between a company’s industry and location, with the amount of funding they receive?)\n",
    "* The second dataset will be used to analyse the second and third RQ: \n",
    " * (RQ2: Founders education affect the amount of funding his company receives from Venture Capitalists?) and \n",
    " * (RQ3: Founders w/ previous experience vs no experience.)\n",
    "\n",
    "\n",
    "## Datasets\n",
    "* _Input_: people.csv, degrees.csv, jobs.csv, organizations.csv\n",
    "* _Output_: 100_dataset1.pkl, 100_dataset2.pkl"
   ]
  },
  {
   "cell_type": "code",
   "execution_count": 2,
   "metadata": {},
   "outputs": [],
   "source": [
    "import os\n",
    "import re\n",
    "import sys\n",
    "import hashlib\n",
    "import pandas as pd\n",
    "import numpy as np\n",
    "%matplotlib inline\n",
    "pd.set_option('display.max_columns', None)\n",
    "module_path = os.path.abspath(os.path.join('../../data/..'))\n",
    "if module_path not in sys.path:\n",
    "    sys.path.append(module_path)"
   ]
  },
  {
   "cell_type": "markdown",
   "metadata": {},
   "source": [
    "## Loading the Datasets\n",
    "The datasets are all in a standard csv format, so we can read these in using Pandas handy `read_csv` method as follows."
   ]
  },
  {
   "cell_type": "code",
   "execution_count": 3,
   "metadata": {},
   "outputs": [],
   "source": [
    "people_df = pd.read_csv('../../data/raw/people.csv', header=0)\n",
    "degrees_df = pd.read_csv(\"../../data/raw/degrees.csv\", header=0)\n",
    "jobs_df = pd.read_csv(\"../../data/raw/jobs.csv\", header=0)\n",
    "\n",
    "org_df = pd.read_csv(\"../../data/raw/organizations.csv\", header=0, low_memory=False)"
   ]
  },
  {
   "cell_type": "markdown",
   "metadata": {},
   "source": [
    "Now we have our 4 datasets loaded in, one for each category (people, degrees, jobs, and organisations), each dataset has a different number of rows.\n",
    "\n",
    "- org_df is the first dataset that we will use"
   ]
  },
  {
   "cell_type": "markdown",
   "metadata": {},
   "source": [
    "### Merging raw datsets to form our second dataset to be used for analysis:"
   ]
  },
  {
   "cell_type": "markdown",
   "metadata": {},
   "source": [
    "In the below cell we rename columns in to order to enable successful merging. We then merge the people_df, and jobs_df using the 'person_uuid' column, with the org_df using the 'org_uuid' column. The merged dataset is necessary for our second dataset."
   ]
  },
  {
   "cell_type": "code",
   "execution_count": 4,
   "metadata": {},
   "outputs": [
    {
     "data": {
      "text/plain": [
       "(808014, 65)"
      ]
     },
     "execution_count": 4,
     "metadata": {},
     "output_type": "execute_result"
    }
   ],
   "source": [
    "## renaming of columns to allow for merging\n",
    "people_df = people_df.rename(columns={'uuid':'person_uuid'})\n",
    "org_df = org_df.rename(columns={'uuid':'org_uuid'})\n",
    "\n",
    "## Merged to result in raw Dataset 1\n",
    "merged_df = people_df.merge(degrees_df, on='person_uuid').merge(jobs_df, on='person_uuid').merge(org_df, on='org_uuid')\n",
    "merged_df.shape"
   ]
  },
  {
   "cell_type": "markdown",
   "metadata": {},
   "source": [
    "# Saving our two Datasets\n",
    "\n",
    "First dataset will be used to analyse the following research question:\n",
    "    - correlation between a company’s industry and location, with the amount of funding they receive? \n",
    "    \n",
    "Our second dataset will be used for our research questions:\n",
    "    - founders education affect the amount of funding his company receives from Venture Capitalists?\n",
    "    - founders w/ previous experience vs no experience."
   ]
  },
  {
   "cell_type": "markdown",
   "metadata": {},
   "source": [
    "## Saving 1st Dataset\n",
    "As mentioned above, this dataset will be used to analyse the first research question:\n",
    "* Correlation between a company’s industry and location, with the amount of funding they receive?"
   ]
  },
  {
   "cell_type": "markdown",
   "metadata": {},
   "source": [
    "The results below give us an insight into the columns available for us to use from our org_df that we created above. It is useful to see this information as it allows it to select the necessary columns needed for analysis."
   ]
  },
  {
   "cell_type": "code",
   "execution_count": 5,
   "metadata": {},
   "outputs": [
    {
     "data": {
      "text/plain": [
       "Index(['company_name', 'roles', 'permalink', 'domain', 'homepage_url',\n",
       "       'country_code', 'state_code', 'region', 'city', 'address', 'status',\n",
       "       'short_description', 'category_list', 'category_group_list',\n",
       "       'funding_rounds', 'funding_total_usd', 'founded_on', 'last_funding_on',\n",
       "       'closed_on', 'employee_count', 'email', 'phone', 'facebook_url',\n",
       "       'linkedin_url', 'cb_url', 'logo_url', 'twitter_url', 'aliases',\n",
       "       'org_uuid', 'created_at', 'updated_at', 'primary_role', 'type'],\n",
       "      dtype='object')"
      ]
     },
     "execution_count": 5,
     "metadata": {},
     "output_type": "execute_result"
    }
   ],
   "source": [
    "org_df.columns"
   ]
  },
  {
   "cell_type": "markdown",
   "metadata": {},
   "source": [
    "For this dataset we only save the necessary columns needed from the organisations dataset to allow us to do adequate analysis, without any unneccessary data. This is done below using a list. We identified the following columns in the below list as being neccessary for analysis."
   ]
  },
  {
   "cell_type": "code",
   "execution_count": 6,
   "metadata": {},
   "outputs": [],
   "source": [
    "cols_to_save = [ \n",
    "            'company_name', 'roles', 'country_code', 'state_code', 'region', 'city', 'status', # company/startup details\n",
    "            'category_list', 'category_group_list',                   # startups industry details\n",
    "            'funding_rounds', 'funding_total_usd', 'last_funding_on', # startups funding details\n",
    "            'founded_on', 'employee_count',                           # extra details\n",
    "            'org_uuid',\n",
    "            'primary_role', 'type']"
   ]
  },
  {
   "cell_type": "markdown",
   "metadata": {},
   "source": [
    "### Saving first resulting dataset from 100_load_startup_datasets to pickle"
   ]
  },
  {
   "cell_type": "code",
   "execution_count": 7,
   "metadata": {},
   "outputs": [],
   "source": [
    "org_df[cols_to_save].to_pickle(\"../../data/processed/100_dataset1.pkl\")"
   ]
  },
  {
   "cell_type": "markdown",
   "metadata": {},
   "source": [
    "## Saving 2nd Dataset\n",
    "As mentioned above, this dataset will be used to analyse the second and third research question:\n",
    "* Founders education affect the amount of funding his company receives from Venture Capitalists?\n",
    "* Founders w/ previous experience vs no experience.\n"
   ]
  },
  {
   "cell_type": "code",
   "execution_count": 8,
   "metadata": {},
   "outputs": [
    {
     "data": {
      "text/plain": [
       "Index(['first_name', 'last_name', 'country_code_x', 'state_code_x', 'city_x',\n",
       "       'cb_url_x', 'logo_url_x', 'twitter_url_x', 'facebook_url_x',\n",
       "       'linkedin_url_x', 'primary_affiliation_organization',\n",
       "       'primary_affiliation_title', 'primary_organization_uuid', 'gender',\n",
       "       'person_uuid', 'created_at_x', 'updated_at_x', 'degree_uuid',\n",
       "       'institution_uuid', 'degree_type', 'subject', 'started_on_x',\n",
       "       'completed_on', 'is_completed', 'created_at_y', 'updated_at_y',\n",
       "       'org_uuid', 'job_uuid', 'started_on_y', 'ended_on', 'is_current',\n",
       "       'title', 'job_type', 'company_name', 'roles', 'permalink', 'domain',\n",
       "       'homepage_url', 'country_code_y', 'state_code_y', 'region', 'city_y',\n",
       "       'address', 'status', 'short_description', 'category_list',\n",
       "       'category_group_list', 'funding_rounds', 'funding_total_usd',\n",
       "       'founded_on', 'last_funding_on', 'closed_on', 'employee_count', 'email',\n",
       "       'phone', 'facebook_url_y', 'linkedin_url_y', 'cb_url_y', 'logo_url_y',\n",
       "       'twitter_url_y', 'aliases', 'created_at', 'updated_at', 'primary_role',\n",
       "       'type'],\n",
       "      dtype='object')"
      ]
     },
     "execution_count": 8,
     "metadata": {},
     "output_type": "execute_result"
    }
   ],
   "source": [
    "merged_df.columns"
   ]
  },
  {
   "cell_type": "markdown",
   "metadata": {},
   "source": [
    "The above results give us an insight into the columns available for us to use from our merged_df that we created above. It is useful to see this information as it allows it to select the necessary columns needed for analysis."
   ]
  },
  {
   "cell_type": "code",
   "execution_count": 9,
   "metadata": {},
   "outputs": [
    {
     "name": "stdout",
     "output_type": "stream",
     "text": [
      "<class 'pandas.core.frame.DataFrame'>\n",
      "Int64Index: 808014 entries, 0 to 808013\n",
      "Data columns (total 65 columns):\n",
      "first_name                          808014 non-null object\n",
      "last_name                           808014 non-null object\n",
      "country_code_x                      504181 non-null object\n",
      "state_code_x                        374996 non-null object\n",
      "city_x                              488219 non-null object\n",
      "cb_url_x                            808014 non-null object\n",
      "logo_url_x                          808014 non-null object\n",
      "twitter_url_x                       297147 non-null object\n",
      "facebook_url_x                      148717 non-null object\n",
      "linkedin_url_x                      661426 non-null object\n",
      "primary_affiliation_organization    742514 non-null object\n",
      "primary_affiliation_title           745807 non-null object\n",
      "primary_organization_uuid           742514 non-null object\n",
      "gender                              807448 non-null object\n",
      "person_uuid                         808014 non-null object\n",
      "created_at_x                        808014 non-null object\n",
      "updated_at_x                        808014 non-null object\n",
      "degree_uuid                         808014 non-null object\n",
      "institution_uuid                    808014 non-null object\n",
      "degree_type                         807136 non-null object\n",
      "subject                             807993 non-null object\n",
      "started_on_x                        165269 non-null object\n",
      "completed_on                        389924 non-null object\n",
      "is_completed                        808014 non-null object\n",
      "created_at_y                        808014 non-null object\n",
      "updated_at_y                        808014 non-null object\n",
      "org_uuid                            808014 non-null object\n",
      "job_uuid                            808014 non-null object\n",
      "started_on_y                        428740 non-null object\n",
      "ended_on                            218840 non-null object\n",
      "is_current                          808014 non-null object\n",
      "title                               808008 non-null object\n",
      "job_type                            808014 non-null object\n",
      "company_name                        808014 non-null object\n",
      "roles                               806222 non-null object\n",
      "permalink                           808014 non-null object\n",
      "domain                              772807 non-null object\n",
      "homepage_url                        772824 non-null object\n",
      "country_code_y                      729391 non-null object\n",
      "state_code_y                        565516 non-null object\n",
      "region                              653139 non-null object\n",
      "city_y                              721422 non-null object\n",
      "address                             658696 non-null object\n",
      "status                              808014 non-null object\n",
      "short_description                   808013 non-null object\n",
      "category_list                       723854 non-null object\n",
      "category_group_list                 710999 non-null object\n",
      "funding_rounds                      808014 non-null int64\n",
      "funding_total_usd                   322440 non-null float64\n",
      "founded_on                          720532 non-null object\n",
      "last_funding_on                     358450 non-null object\n",
      "closed_on                           10880 non-null object\n",
      "employee_count                      808014 non-null object\n",
      "email                               523966 non-null object\n",
      "phone                               568247 non-null object\n",
      "facebook_url_y                      555261 non-null object\n",
      "linkedin_url_y                      558819 non-null object\n",
      "cb_url_y                            808014 non-null object\n",
      "logo_url_y                          808014 non-null object\n",
      "twitter_url_y                       620723 non-null object\n",
      "aliases                             151258 non-null object\n",
      "created_at                          808014 non-null object\n",
      "updated_at                          808014 non-null object\n",
      "primary_role                        808014 non-null object\n",
      "type                                808014 non-null object\n",
      "dtypes: float64(1), int64(1), object(63)\n",
      "memory usage: 406.9+ MB\n"
     ]
    }
   ],
   "source": [
    "merged_df.info()"
   ]
  },
  {
   "cell_type": "markdown",
   "metadata": {},
   "source": [
    "Once again, the above result gives us a good insight to columns we are dealing with these columns. It is important to know the types of each of the columns we will be dealing with, as well as the amount of non-null values. For example, if a column has very little non-null values, it might not have sufficient data for analysis."
   ]
  },
  {
   "cell_type": "markdown",
   "metadata": {},
   "source": [
    "For this dataset we only save the necessary columns needed from the merged dataset to allow us to do adequate analysis, without any unneccessary data. This is done below using a list. We identified the following columns in the below list as being neccessary for analysis."
   ]
  },
  {
   "cell_type": "code",
   "execution_count": 10,
   "metadata": {},
   "outputs": [],
   "source": [
    "cols_to_save2 = [\n",
    "    'first_name', 'last_name', 'gender',                                    # person details\n",
    "    'company_name', 'funding_rounds', 'funding_total_usd', 'primary_role',  # startup details which person involved with\n",
    "    'country_code_y', 'state_code_y', 'city_y',\n",
    "    'title','job_type',                                                     # job details in startup\n",
    "    'subject', 'degree_type',                                               # degree details\n",
    "    'person_uuid', 'degree_uuid', 'institution_uuid', 'org_uuid']           # uuid including unique institution id"
   ]
  },
  {
   "cell_type": "markdown",
   "metadata": {},
   "source": [
    "### Saving resulting second dataset from 100_load_startup_datasets in pickle"
   ]
  },
  {
   "cell_type": "code",
   "execution_count": 11,
   "metadata": {},
   "outputs": [],
   "source": [
    "merged_df[cols_to_save2].to_pickle(\"../../data/processed/100_dataset2.pkl\")"
   ]
  },
  {
   "cell_type": "code",
   "execution_count": null,
   "metadata": {},
   "outputs": [],
   "source": []
  }
 ],
 "metadata": {
  "kernelspec": {
   "display_name": "Python 3",
   "language": "python",
   "name": "python3"
  },
  "language_info": {
   "codemirror_mode": {
    "name": "ipython",
    "version": 3
   },
   "file_extension": ".py",
   "mimetype": "text/x-python",
   "name": "python",
   "nbconvert_exporter": "python",
   "pygments_lexer": "ipython3",
   "version": "3.6.3"
  }
 },
 "nbformat": 4,
 "nbformat_minor": 2
}
